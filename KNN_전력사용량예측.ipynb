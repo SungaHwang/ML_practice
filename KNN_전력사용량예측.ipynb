{
 "cells": [
  {
   "cell_type": "markdown",
   "id": "149be489",
   "metadata": {},
   "source": [
    "# 전력사용량 예측 AI 경진대회"
   ]
  },
  {
   "cell_type": "markdown",
   "id": "41218669",
   "metadata": {},
   "source": [
    "* K-최근접 이웃 연습\n",
    "* 회귀 복습"
   ]
  },
  {
   "cell_type": "markdown",
   "id": "30cebcaf",
   "metadata": {},
   "source": [
    "### 데이터 설명(출처: kaggle)\n",
    "##### train 데이터 :\n",
    "* 60개 건물들의 2020년 6월 1일 부터 2020년 8월 24일까지의 데이터\n",
    "* 1시간 단위로 제공\n",
    "* 전력사용량(kWh) 포함\n",
    "* train.shape: (122400, 10)\n",
    "* num:건물번호\n",
    " \n",
    "##### test 데이터 :\n",
    "* 60개 건물들의 2020년 8월 25일 부터 2020년 8월 31일까지의 데이터\n",
    "* 3시간 단위로 제공(강수량의 경우 6시간 단위로 제공, 예보데이터)\n",
    "* 전력사용량(kWh) 미포함\n",
    "* test.shape: (10080, 9)\n",
    "* num:건물번호"
   ]
  },
  {
   "cell_type": "code",
   "execution_count": 1,
   "id": "d61ade76",
   "metadata": {},
   "outputs": [],
   "source": [
    "# 패키지 설치\n",
    "import numpy as np\n",
    "import pandas as pd \n",
    "import matplotlib.pyplot as plt\n",
    "%matplotlib inline\n",
    "import seaborn as sns\n",
    "\n",
    "from sklearn.model_selection import cross_val_score\n",
    "from sklearn.metrics import roc_auc_score, roc_curve, precision_recall_curve, precision_score, recall_score, auc\n",
    "from sklearn.metrics import confusion_matrix, plot_confusion_matrix\n",
    "from sklearn.metrics import classification_report, accuracy_score, f1_score\n",
    "\n",
    "from sklearn.model_selection import train_test_split\n",
    "from sklearn.model_selection import GridSearchCV\n",
    "from sklearn.model_selection import KFold"
   ]
  },
  {
   "cell_type": "markdown",
   "id": "ba323a9b",
   "metadata": {},
   "source": [
    "## 데이터 불러오고 기본 정보 확인"
   ]
  },
  {
   "cell_type": "code",
   "execution_count": 2,
   "id": "118d32b5",
   "metadata": {},
   "outputs": [
    {
     "data": {
      "text/html": [
       "<div>\n",
       "<style scoped>\n",
       "    .dataframe tbody tr th:only-of-type {\n",
       "        vertical-align: middle;\n",
       "    }\n",
       "\n",
       "    .dataframe tbody tr th {\n",
       "        vertical-align: top;\n",
       "    }\n",
       "\n",
       "    .dataframe thead th {\n",
       "        text-align: right;\n",
       "    }\n",
       "</style>\n",
       "<table border=\"1\" class=\"dataframe\">\n",
       "  <thead>\n",
       "    <tr style=\"text-align: right;\">\n",
       "      <th></th>\n",
       "      <th>num</th>\n",
       "      <th>date_time</th>\n",
       "      <th>전력사용량(kWh)</th>\n",
       "      <th>기온(°C)</th>\n",
       "      <th>풍속(m/s)</th>\n",
       "      <th>습도(%)</th>\n",
       "      <th>강수량(mm)</th>\n",
       "      <th>일조(hr)</th>\n",
       "      <th>비전기냉방설비운영</th>\n",
       "      <th>태양광보유</th>\n",
       "    </tr>\n",
       "  </thead>\n",
       "  <tbody>\n",
       "    <tr>\n",
       "      <th>0</th>\n",
       "      <td>1</td>\n",
       "      <td>2020-06-01 00</td>\n",
       "      <td>8179.056</td>\n",
       "      <td>17.6</td>\n",
       "      <td>2.5</td>\n",
       "      <td>92.0</td>\n",
       "      <td>0.8</td>\n",
       "      <td>0.0</td>\n",
       "      <td>0.0</td>\n",
       "      <td>0.0</td>\n",
       "    </tr>\n",
       "    <tr>\n",
       "      <th>1</th>\n",
       "      <td>1</td>\n",
       "      <td>2020-06-01 01</td>\n",
       "      <td>8135.640</td>\n",
       "      <td>17.7</td>\n",
       "      <td>2.9</td>\n",
       "      <td>91.0</td>\n",
       "      <td>0.3</td>\n",
       "      <td>0.0</td>\n",
       "      <td>0.0</td>\n",
       "      <td>0.0</td>\n",
       "    </tr>\n",
       "    <tr>\n",
       "      <th>2</th>\n",
       "      <td>1</td>\n",
       "      <td>2020-06-01 02</td>\n",
       "      <td>8107.128</td>\n",
       "      <td>17.5</td>\n",
       "      <td>3.2</td>\n",
       "      <td>91.0</td>\n",
       "      <td>0.0</td>\n",
       "      <td>0.0</td>\n",
       "      <td>0.0</td>\n",
       "      <td>0.0</td>\n",
       "    </tr>\n",
       "    <tr>\n",
       "      <th>3</th>\n",
       "      <td>1</td>\n",
       "      <td>2020-06-01 03</td>\n",
       "      <td>8048.808</td>\n",
       "      <td>17.1</td>\n",
       "      <td>3.2</td>\n",
       "      <td>91.0</td>\n",
       "      <td>0.0</td>\n",
       "      <td>0.0</td>\n",
       "      <td>0.0</td>\n",
       "      <td>0.0</td>\n",
       "    </tr>\n",
       "    <tr>\n",
       "      <th>4</th>\n",
       "      <td>1</td>\n",
       "      <td>2020-06-01 04</td>\n",
       "      <td>8043.624</td>\n",
       "      <td>17.0</td>\n",
       "      <td>3.3</td>\n",
       "      <td>92.0</td>\n",
       "      <td>0.0</td>\n",
       "      <td>0.0</td>\n",
       "      <td>0.0</td>\n",
       "      <td>0.0</td>\n",
       "    </tr>\n",
       "    <tr>\n",
       "      <th>...</th>\n",
       "      <td>...</td>\n",
       "      <td>...</td>\n",
       "      <td>...</td>\n",
       "      <td>...</td>\n",
       "      <td>...</td>\n",
       "      <td>...</td>\n",
       "      <td>...</td>\n",
       "      <td>...</td>\n",
       "      <td>...</td>\n",
       "      <td>...</td>\n",
       "    </tr>\n",
       "    <tr>\n",
       "      <th>122395</th>\n",
       "      <td>60</td>\n",
       "      <td>2020-08-24 19</td>\n",
       "      <td>4114.368</td>\n",
       "      <td>27.8</td>\n",
       "      <td>2.3</td>\n",
       "      <td>68.0</td>\n",
       "      <td>0.0</td>\n",
       "      <td>0.7</td>\n",
       "      <td>1.0</td>\n",
       "      <td>1.0</td>\n",
       "    </tr>\n",
       "    <tr>\n",
       "      <th>122396</th>\n",
       "      <td>60</td>\n",
       "      <td>2020-08-24 20</td>\n",
       "      <td>3975.696</td>\n",
       "      <td>27.3</td>\n",
       "      <td>1.2</td>\n",
       "      <td>71.0</td>\n",
       "      <td>0.0</td>\n",
       "      <td>0.0</td>\n",
       "      <td>1.0</td>\n",
       "      <td>1.0</td>\n",
       "    </tr>\n",
       "    <tr>\n",
       "      <th>122397</th>\n",
       "      <td>60</td>\n",
       "      <td>2020-08-24 21</td>\n",
       "      <td>3572.208</td>\n",
       "      <td>27.3</td>\n",
       "      <td>1.8</td>\n",
       "      <td>71.0</td>\n",
       "      <td>0.0</td>\n",
       "      <td>0.0</td>\n",
       "      <td>1.0</td>\n",
       "      <td>1.0</td>\n",
       "    </tr>\n",
       "    <tr>\n",
       "      <th>122398</th>\n",
       "      <td>60</td>\n",
       "      <td>2020-08-24 22</td>\n",
       "      <td>3299.184</td>\n",
       "      <td>27.1</td>\n",
       "      <td>1.8</td>\n",
       "      <td>74.0</td>\n",
       "      <td>0.0</td>\n",
       "      <td>0.0</td>\n",
       "      <td>1.0</td>\n",
       "      <td>1.0</td>\n",
       "    </tr>\n",
       "    <tr>\n",
       "      <th>122399</th>\n",
       "      <td>60</td>\n",
       "      <td>2020-08-24 23</td>\n",
       "      <td>3204.576</td>\n",
       "      <td>27.1</td>\n",
       "      <td>2.6</td>\n",
       "      <td>75.0</td>\n",
       "      <td>0.0</td>\n",
       "      <td>0.0</td>\n",
       "      <td>1.0</td>\n",
       "      <td>1.0</td>\n",
       "    </tr>\n",
       "  </tbody>\n",
       "</table>\n",
       "<p>122400 rows × 10 columns</p>\n",
       "</div>"
      ],
      "text/plain": [
       "        num      date_time  전력사용량(kWh)  기온(°C)  풍속(m/s)  습도(%)  강수량(mm)  \\\n",
       "0         1  2020-06-01 00    8179.056    17.6      2.5   92.0      0.8   \n",
       "1         1  2020-06-01 01    8135.640    17.7      2.9   91.0      0.3   \n",
       "2         1  2020-06-01 02    8107.128    17.5      3.2   91.0      0.0   \n",
       "3         1  2020-06-01 03    8048.808    17.1      3.2   91.0      0.0   \n",
       "4         1  2020-06-01 04    8043.624    17.0      3.3   92.0      0.0   \n",
       "...     ...            ...         ...     ...      ...    ...      ...   \n",
       "122395   60  2020-08-24 19    4114.368    27.8      2.3   68.0      0.0   \n",
       "122396   60  2020-08-24 20    3975.696    27.3      1.2   71.0      0.0   \n",
       "122397   60  2020-08-24 21    3572.208    27.3      1.8   71.0      0.0   \n",
       "122398   60  2020-08-24 22    3299.184    27.1      1.8   74.0      0.0   \n",
       "122399   60  2020-08-24 23    3204.576    27.1      2.6   75.0      0.0   \n",
       "\n",
       "        일조(hr)  비전기냉방설비운영  태양광보유  \n",
       "0          0.0        0.0    0.0  \n",
       "1          0.0        0.0    0.0  \n",
       "2          0.0        0.0    0.0  \n",
       "3          0.0        0.0    0.0  \n",
       "4          0.0        0.0    0.0  \n",
       "...        ...        ...    ...  \n",
       "122395     0.7        1.0    1.0  \n",
       "122396     0.0        1.0    1.0  \n",
       "122397     0.0        1.0    1.0  \n",
       "122398     0.0        1.0    1.0  \n",
       "122399     0.0        1.0    1.0  \n",
       "\n",
       "[122400 rows x 10 columns]"
      ]
     },
     "execution_count": 2,
     "metadata": {},
     "output_type": "execute_result"
    }
   ],
   "source": [
    "# 데이터 불러오기\n",
    "train= pd.read_csv('C:/Users/82102/Desktop/energy/train.csv',encoding='euc-kr')\n",
    "train"
   ]
  },
  {
   "cell_type": "code",
   "execution_count": 3,
   "id": "1acb9c3f",
   "metadata": {},
   "outputs": [
    {
     "data": {
      "text/html": [
       "<div>\n",
       "<style scoped>\n",
       "    .dataframe tbody tr th:only-of-type {\n",
       "        vertical-align: middle;\n",
       "    }\n",
       "\n",
       "    .dataframe tbody tr th {\n",
       "        vertical-align: top;\n",
       "    }\n",
       "\n",
       "    .dataframe thead th {\n",
       "        text-align: right;\n",
       "    }\n",
       "</style>\n",
       "<table border=\"1\" class=\"dataframe\">\n",
       "  <thead>\n",
       "    <tr style=\"text-align: right;\">\n",
       "      <th></th>\n",
       "      <th>num</th>\n",
       "      <th>date_time</th>\n",
       "      <th>기온(°C)</th>\n",
       "      <th>풍속(m/s)</th>\n",
       "      <th>습도(%)</th>\n",
       "      <th>강수량(mm, 6시간)</th>\n",
       "      <th>일조(hr, 3시간)</th>\n",
       "      <th>비전기냉방설비운영</th>\n",
       "      <th>태양광보유</th>\n",
       "    </tr>\n",
       "  </thead>\n",
       "  <tbody>\n",
       "    <tr>\n",
       "      <th>0</th>\n",
       "      <td>1</td>\n",
       "      <td>2020-08-25 00</td>\n",
       "      <td>27.8</td>\n",
       "      <td>1.5</td>\n",
       "      <td>74.0</td>\n",
       "      <td>0.0</td>\n",
       "      <td>0.0</td>\n",
       "      <td>NaN</td>\n",
       "      <td>NaN</td>\n",
       "    </tr>\n",
       "    <tr>\n",
       "      <th>1</th>\n",
       "      <td>1</td>\n",
       "      <td>2020-08-25 01</td>\n",
       "      <td>NaN</td>\n",
       "      <td>NaN</td>\n",
       "      <td>NaN</td>\n",
       "      <td>NaN</td>\n",
       "      <td>NaN</td>\n",
       "      <td>NaN</td>\n",
       "      <td>NaN</td>\n",
       "    </tr>\n",
       "    <tr>\n",
       "      <th>2</th>\n",
       "      <td>1</td>\n",
       "      <td>2020-08-25 02</td>\n",
       "      <td>NaN</td>\n",
       "      <td>NaN</td>\n",
       "      <td>NaN</td>\n",
       "      <td>NaN</td>\n",
       "      <td>NaN</td>\n",
       "      <td>NaN</td>\n",
       "      <td>NaN</td>\n",
       "    </tr>\n",
       "    <tr>\n",
       "      <th>3</th>\n",
       "      <td>1</td>\n",
       "      <td>2020-08-25 03</td>\n",
       "      <td>27.3</td>\n",
       "      <td>1.1</td>\n",
       "      <td>78.0</td>\n",
       "      <td>NaN</td>\n",
       "      <td>0.0</td>\n",
       "      <td>NaN</td>\n",
       "      <td>NaN</td>\n",
       "    </tr>\n",
       "    <tr>\n",
       "      <th>4</th>\n",
       "      <td>1</td>\n",
       "      <td>2020-08-25 04</td>\n",
       "      <td>NaN</td>\n",
       "      <td>NaN</td>\n",
       "      <td>NaN</td>\n",
       "      <td>NaN</td>\n",
       "      <td>NaN</td>\n",
       "      <td>NaN</td>\n",
       "      <td>NaN</td>\n",
       "    </tr>\n",
       "    <tr>\n",
       "      <th>...</th>\n",
       "      <td>...</td>\n",
       "      <td>...</td>\n",
       "      <td>...</td>\n",
       "      <td>...</td>\n",
       "      <td>...</td>\n",
       "      <td>...</td>\n",
       "      <td>...</td>\n",
       "      <td>...</td>\n",
       "      <td>...</td>\n",
       "    </tr>\n",
       "    <tr>\n",
       "      <th>10075</th>\n",
       "      <td>60</td>\n",
       "      <td>2020-08-31 19</td>\n",
       "      <td>NaN</td>\n",
       "      <td>NaN</td>\n",
       "      <td>NaN</td>\n",
       "      <td>NaN</td>\n",
       "      <td>NaN</td>\n",
       "      <td>NaN</td>\n",
       "      <td>NaN</td>\n",
       "    </tr>\n",
       "    <tr>\n",
       "      <th>10076</th>\n",
       "      <td>60</td>\n",
       "      <td>2020-08-31 20</td>\n",
       "      <td>NaN</td>\n",
       "      <td>NaN</td>\n",
       "      <td>NaN</td>\n",
       "      <td>NaN</td>\n",
       "      <td>NaN</td>\n",
       "      <td>NaN</td>\n",
       "      <td>NaN</td>\n",
       "    </tr>\n",
       "    <tr>\n",
       "      <th>10077</th>\n",
       "      <td>60</td>\n",
       "      <td>2020-08-31 21</td>\n",
       "      <td>27.9</td>\n",
       "      <td>4.1</td>\n",
       "      <td>68.0</td>\n",
       "      <td>NaN</td>\n",
       "      <td>0.0</td>\n",
       "      <td>1.0</td>\n",
       "      <td>1.0</td>\n",
       "    </tr>\n",
       "    <tr>\n",
       "      <th>10078</th>\n",
       "      <td>60</td>\n",
       "      <td>2020-08-31 22</td>\n",
       "      <td>NaN</td>\n",
       "      <td>NaN</td>\n",
       "      <td>NaN</td>\n",
       "      <td>NaN</td>\n",
       "      <td>NaN</td>\n",
       "      <td>NaN</td>\n",
       "      <td>NaN</td>\n",
       "    </tr>\n",
       "    <tr>\n",
       "      <th>10079</th>\n",
       "      <td>60</td>\n",
       "      <td>2020-08-31 23</td>\n",
       "      <td>NaN</td>\n",
       "      <td>NaN</td>\n",
       "      <td>NaN</td>\n",
       "      <td>NaN</td>\n",
       "      <td>NaN</td>\n",
       "      <td>NaN</td>\n",
       "      <td>NaN</td>\n",
       "    </tr>\n",
       "  </tbody>\n",
       "</table>\n",
       "<p>10080 rows × 9 columns</p>\n",
       "</div>"
      ],
      "text/plain": [
       "       num      date_time  기온(°C)  풍속(m/s)  습도(%)  강수량(mm, 6시간)  일조(hr, 3시간)  \\\n",
       "0        1  2020-08-25 00    27.8      1.5   74.0           0.0          0.0   \n",
       "1        1  2020-08-25 01     NaN      NaN    NaN           NaN          NaN   \n",
       "2        1  2020-08-25 02     NaN      NaN    NaN           NaN          NaN   \n",
       "3        1  2020-08-25 03    27.3      1.1   78.0           NaN          0.0   \n",
       "4        1  2020-08-25 04     NaN      NaN    NaN           NaN          NaN   \n",
       "...    ...            ...     ...      ...    ...           ...          ...   \n",
       "10075   60  2020-08-31 19     NaN      NaN    NaN           NaN          NaN   \n",
       "10076   60  2020-08-31 20     NaN      NaN    NaN           NaN          NaN   \n",
       "10077   60  2020-08-31 21    27.9      4.1   68.0           NaN          0.0   \n",
       "10078   60  2020-08-31 22     NaN      NaN    NaN           NaN          NaN   \n",
       "10079   60  2020-08-31 23     NaN      NaN    NaN           NaN          NaN   \n",
       "\n",
       "       비전기냉방설비운영  태양광보유  \n",
       "0            NaN    NaN  \n",
       "1            NaN    NaN  \n",
       "2            NaN    NaN  \n",
       "3            NaN    NaN  \n",
       "4            NaN    NaN  \n",
       "...          ...    ...  \n",
       "10075        NaN    NaN  \n",
       "10076        NaN    NaN  \n",
       "10077        1.0    1.0  \n",
       "10078        NaN    NaN  \n",
       "10079        NaN    NaN  \n",
       "\n",
       "[10080 rows x 9 columns]"
      ]
     },
     "execution_count": 3,
     "metadata": {},
     "output_type": "execute_result"
    }
   ],
   "source": [
    "# 데이터 불러오기\n",
    "test= pd.read_csv('C:/Users/82102/Desktop/energy/test.csv', encoding='euc-kr')\n",
    "test"
   ]
  },
  {
   "cell_type": "code",
   "execution_count": 4,
   "id": "5a354933",
   "metadata": {},
   "outputs": [
    {
     "name": "stdout",
     "output_type": "stream",
     "text": [
      "<class 'pandas.core.frame.DataFrame'>\n",
      "RangeIndex: 122400 entries, 0 to 122399\n",
      "Data columns (total 10 columns):\n",
      " #   Column      Non-Null Count   Dtype  \n",
      "---  ------      --------------   -----  \n",
      " 0   num         122400 non-null  int64  \n",
      " 1   date_time   122400 non-null  object \n",
      " 2   전력사용량(kWh)  122400 non-null  float64\n",
      " 3   기온(°C)      122400 non-null  float64\n",
      " 4   풍속(m/s)     122400 non-null  float64\n",
      " 5   습도(%)       122400 non-null  float64\n",
      " 6   강수량(mm)     122400 non-null  float64\n",
      " 7   일조(hr)      122400 non-null  float64\n",
      " 8   비전기냉방설비운영   122400 non-null  float64\n",
      " 9   태양광보유       122400 non-null  float64\n",
      "dtypes: float64(8), int64(1), object(1)\n",
      "memory usage: 9.3+ MB\n"
     ]
    }
   ],
   "source": [
    "# 데이터 정보 확인\n",
    "train.info()"
   ]
  },
  {
   "cell_type": "code",
   "execution_count": 5,
   "id": "66b4ab16",
   "metadata": {},
   "outputs": [
    {
     "data": {
      "text/plain": [
       "num           0\n",
       "date_time     0\n",
       "전력사용량(kWh)    0\n",
       "기온(°C)        0\n",
       "풍속(m/s)       0\n",
       "습도(%)         0\n",
       "강수량(mm)       0\n",
       "일조(hr)        0\n",
       "비전기냉방설비운영     0\n",
       "태양광보유         0\n",
       "dtype: int64"
      ]
     },
     "execution_count": 5,
     "metadata": {},
     "output_type": "execute_result"
    }
   ],
   "source": [
    "# 결측값 확인\n",
    "train.isnull().sum()"
   ]
  },
  {
   "cell_type": "code",
   "execution_count": 6,
   "id": "29be6472",
   "metadata": {},
   "outputs": [
    {
     "data": {
      "text/plain": [
       "num                0\n",
       "date_time          0\n",
       "기온(°C)          6720\n",
       "풍속(m/s)         6720\n",
       "습도(%)           6720\n",
       "강수량(mm, 6시간)    8400\n",
       "일조(hr, 3시간)     6720\n",
       "비전기냉방설비운영       7784\n",
       "태양광보유           8456\n",
       "dtype: int64"
      ]
     },
     "execution_count": 6,
     "metadata": {},
     "output_type": "execute_result"
    }
   ],
   "source": [
    "test.isnull().sum()"
   ]
  },
  {
   "cell_type": "markdown",
   "id": "32a69a7e",
   "metadata": {},
   "source": [
    "* test set에서만 결측값 존재"
   ]
  },
  {
   "cell_type": "markdown",
   "id": "17874bb7",
   "metadata": {},
   "source": [
    "## 전처리"
   ]
  },
  {
   "cell_type": "code",
   "execution_count": 7,
   "id": "e04bc77b",
   "metadata": {},
   "outputs": [],
   "source": [
    "# 월, 일, 시간 변수 추가\n",
    "def make_time(train):\n",
    "    \"\"\"\n",
    "    시간 관련 변수를 추가하기 위한 함수\n",
    "    \"\"\"\n",
    "    train['date_time'] = pd.to_datetime(train.date_time)\n",
    "    \n",
    "    train['month'] = train.date_time.dt.month                    # 월(숫자)\n",
    "    train['day'] = train.date_time.dt.day                        # 일(숫자)\n",
    "    train['hour'] = train.date_time.dt.hour                      # 시(숫자)\n",
    "    \n",
    "    return train"
   ]
  },
  {
   "cell_type": "code",
   "execution_count": 8,
   "id": "08899b57",
   "metadata": {},
   "outputs": [],
   "source": [
    "train = make_time(train)\n",
    "test = make_time(test)"
   ]
  },
  {
   "cell_type": "code",
   "execution_count": 9,
   "id": "213e23d3",
   "metadata": {
    "scrolled": false
   },
   "outputs": [
    {
     "data": {
      "text/html": [
       "<div>\n",
       "<style scoped>\n",
       "    .dataframe tbody tr th:only-of-type {\n",
       "        vertical-align: middle;\n",
       "    }\n",
       "\n",
       "    .dataframe tbody tr th {\n",
       "        vertical-align: top;\n",
       "    }\n",
       "\n",
       "    .dataframe thead th {\n",
       "        text-align: right;\n",
       "    }\n",
       "</style>\n",
       "<table border=\"1\" class=\"dataframe\">\n",
       "  <thead>\n",
       "    <tr style=\"text-align: right;\">\n",
       "      <th></th>\n",
       "      <th>num</th>\n",
       "      <th>date_time</th>\n",
       "      <th>전력사용량(kWh)</th>\n",
       "      <th>기온(°C)</th>\n",
       "      <th>풍속(m/s)</th>\n",
       "      <th>습도(%)</th>\n",
       "      <th>강수량(mm)</th>\n",
       "      <th>일조(hr)</th>\n",
       "      <th>비전기냉방설비운영</th>\n",
       "      <th>태양광보유</th>\n",
       "      <th>month</th>\n",
       "      <th>day</th>\n",
       "      <th>hour</th>\n",
       "    </tr>\n",
       "  </thead>\n",
       "  <tbody>\n",
       "    <tr>\n",
       "      <th>0</th>\n",
       "      <td>1</td>\n",
       "      <td>2020-06-01 00:00:00</td>\n",
       "      <td>8179.056</td>\n",
       "      <td>17.6</td>\n",
       "      <td>2.5</td>\n",
       "      <td>92.0</td>\n",
       "      <td>0.8</td>\n",
       "      <td>0.0</td>\n",
       "      <td>0.0</td>\n",
       "      <td>0.0</td>\n",
       "      <td>6</td>\n",
       "      <td>1</td>\n",
       "      <td>0</td>\n",
       "    </tr>\n",
       "    <tr>\n",
       "      <th>1</th>\n",
       "      <td>1</td>\n",
       "      <td>2020-06-01 01:00:00</td>\n",
       "      <td>8135.640</td>\n",
       "      <td>17.7</td>\n",
       "      <td>2.9</td>\n",
       "      <td>91.0</td>\n",
       "      <td>0.3</td>\n",
       "      <td>0.0</td>\n",
       "      <td>0.0</td>\n",
       "      <td>0.0</td>\n",
       "      <td>6</td>\n",
       "      <td>1</td>\n",
       "      <td>1</td>\n",
       "    </tr>\n",
       "    <tr>\n",
       "      <th>2</th>\n",
       "      <td>1</td>\n",
       "      <td>2020-06-01 02:00:00</td>\n",
       "      <td>8107.128</td>\n",
       "      <td>17.5</td>\n",
       "      <td>3.2</td>\n",
       "      <td>91.0</td>\n",
       "      <td>0.0</td>\n",
       "      <td>0.0</td>\n",
       "      <td>0.0</td>\n",
       "      <td>0.0</td>\n",
       "      <td>6</td>\n",
       "      <td>1</td>\n",
       "      <td>2</td>\n",
       "    </tr>\n",
       "    <tr>\n",
       "      <th>3</th>\n",
       "      <td>1</td>\n",
       "      <td>2020-06-01 03:00:00</td>\n",
       "      <td>8048.808</td>\n",
       "      <td>17.1</td>\n",
       "      <td>3.2</td>\n",
       "      <td>91.0</td>\n",
       "      <td>0.0</td>\n",
       "      <td>0.0</td>\n",
       "      <td>0.0</td>\n",
       "      <td>0.0</td>\n",
       "      <td>6</td>\n",
       "      <td>1</td>\n",
       "      <td>3</td>\n",
       "    </tr>\n",
       "    <tr>\n",
       "      <th>4</th>\n",
       "      <td>1</td>\n",
       "      <td>2020-06-01 04:00:00</td>\n",
       "      <td>8043.624</td>\n",
       "      <td>17.0</td>\n",
       "      <td>3.3</td>\n",
       "      <td>92.0</td>\n",
       "      <td>0.0</td>\n",
       "      <td>0.0</td>\n",
       "      <td>0.0</td>\n",
       "      <td>0.0</td>\n",
       "      <td>6</td>\n",
       "      <td>1</td>\n",
       "      <td>4</td>\n",
       "    </tr>\n",
       "    <tr>\n",
       "      <th>...</th>\n",
       "      <td>...</td>\n",
       "      <td>...</td>\n",
       "      <td>...</td>\n",
       "      <td>...</td>\n",
       "      <td>...</td>\n",
       "      <td>...</td>\n",
       "      <td>...</td>\n",
       "      <td>...</td>\n",
       "      <td>...</td>\n",
       "      <td>...</td>\n",
       "      <td>...</td>\n",
       "      <td>...</td>\n",
       "      <td>...</td>\n",
       "    </tr>\n",
       "    <tr>\n",
       "      <th>122395</th>\n",
       "      <td>60</td>\n",
       "      <td>2020-08-24 19:00:00</td>\n",
       "      <td>4114.368</td>\n",
       "      <td>27.8</td>\n",
       "      <td>2.3</td>\n",
       "      <td>68.0</td>\n",
       "      <td>0.0</td>\n",
       "      <td>0.7</td>\n",
       "      <td>1.0</td>\n",
       "      <td>1.0</td>\n",
       "      <td>8</td>\n",
       "      <td>24</td>\n",
       "      <td>19</td>\n",
       "    </tr>\n",
       "    <tr>\n",
       "      <th>122396</th>\n",
       "      <td>60</td>\n",
       "      <td>2020-08-24 20:00:00</td>\n",
       "      <td>3975.696</td>\n",
       "      <td>27.3</td>\n",
       "      <td>1.2</td>\n",
       "      <td>71.0</td>\n",
       "      <td>0.0</td>\n",
       "      <td>0.0</td>\n",
       "      <td>1.0</td>\n",
       "      <td>1.0</td>\n",
       "      <td>8</td>\n",
       "      <td>24</td>\n",
       "      <td>20</td>\n",
       "    </tr>\n",
       "    <tr>\n",
       "      <th>122397</th>\n",
       "      <td>60</td>\n",
       "      <td>2020-08-24 21:00:00</td>\n",
       "      <td>3572.208</td>\n",
       "      <td>27.3</td>\n",
       "      <td>1.8</td>\n",
       "      <td>71.0</td>\n",
       "      <td>0.0</td>\n",
       "      <td>0.0</td>\n",
       "      <td>1.0</td>\n",
       "      <td>1.0</td>\n",
       "      <td>8</td>\n",
       "      <td>24</td>\n",
       "      <td>21</td>\n",
       "    </tr>\n",
       "    <tr>\n",
       "      <th>122398</th>\n",
       "      <td>60</td>\n",
       "      <td>2020-08-24 22:00:00</td>\n",
       "      <td>3299.184</td>\n",
       "      <td>27.1</td>\n",
       "      <td>1.8</td>\n",
       "      <td>74.0</td>\n",
       "      <td>0.0</td>\n",
       "      <td>0.0</td>\n",
       "      <td>1.0</td>\n",
       "      <td>1.0</td>\n",
       "      <td>8</td>\n",
       "      <td>24</td>\n",
       "      <td>22</td>\n",
       "    </tr>\n",
       "    <tr>\n",
       "      <th>122399</th>\n",
       "      <td>60</td>\n",
       "      <td>2020-08-24 23:00:00</td>\n",
       "      <td>3204.576</td>\n",
       "      <td>27.1</td>\n",
       "      <td>2.6</td>\n",
       "      <td>75.0</td>\n",
       "      <td>0.0</td>\n",
       "      <td>0.0</td>\n",
       "      <td>1.0</td>\n",
       "      <td>1.0</td>\n",
       "      <td>8</td>\n",
       "      <td>24</td>\n",
       "      <td>23</td>\n",
       "    </tr>\n",
       "  </tbody>\n",
       "</table>\n",
       "<p>122400 rows × 13 columns</p>\n",
       "</div>"
      ],
      "text/plain": [
       "        num           date_time  전력사용량(kWh)  기온(°C)  풍속(m/s)  습도(%)  강수량(mm)  \\\n",
       "0         1 2020-06-01 00:00:00    8179.056    17.6      2.5   92.0      0.8   \n",
       "1         1 2020-06-01 01:00:00    8135.640    17.7      2.9   91.0      0.3   \n",
       "2         1 2020-06-01 02:00:00    8107.128    17.5      3.2   91.0      0.0   \n",
       "3         1 2020-06-01 03:00:00    8048.808    17.1      3.2   91.0      0.0   \n",
       "4         1 2020-06-01 04:00:00    8043.624    17.0      3.3   92.0      0.0   \n",
       "...     ...                 ...         ...     ...      ...    ...      ...   \n",
       "122395   60 2020-08-24 19:00:00    4114.368    27.8      2.3   68.0      0.0   \n",
       "122396   60 2020-08-24 20:00:00    3975.696    27.3      1.2   71.0      0.0   \n",
       "122397   60 2020-08-24 21:00:00    3572.208    27.3      1.8   71.0      0.0   \n",
       "122398   60 2020-08-24 22:00:00    3299.184    27.1      1.8   74.0      0.0   \n",
       "122399   60 2020-08-24 23:00:00    3204.576    27.1      2.6   75.0      0.0   \n",
       "\n",
       "        일조(hr)  비전기냉방설비운영  태양광보유  month  day  hour  \n",
       "0          0.0        0.0    0.0      6    1     0  \n",
       "1          0.0        0.0    0.0      6    1     1  \n",
       "2          0.0        0.0    0.0      6    1     2  \n",
       "3          0.0        0.0    0.0      6    1     3  \n",
       "4          0.0        0.0    0.0      6    1     4  \n",
       "...        ...        ...    ...    ...  ...   ...  \n",
       "122395     0.7        1.0    1.0      8   24    19  \n",
       "122396     0.0        1.0    1.0      8   24    20  \n",
       "122397     0.0        1.0    1.0      8   24    21  \n",
       "122398     0.0        1.0    1.0      8   24    22  \n",
       "122399     0.0        1.0    1.0      8   24    23  \n",
       "\n",
       "[122400 rows x 13 columns]"
      ]
     },
     "execution_count": 9,
     "metadata": {},
     "output_type": "execute_result"
    }
   ],
   "source": [
    "train"
   ]
  },
  {
   "cell_type": "markdown",
   "id": "4cd354af",
   "metadata": {},
   "source": [
    "## EDA"
   ]
  },
  {
   "cell_type": "code",
   "execution_count": 10,
   "id": "49985d3e",
   "metadata": {},
   "outputs": [
    {
     "data": {
      "text/plain": [
       "<matplotlib.axes._subplots.AxesSubplot at 0x1ce6f43b040>"
      ]
     },
     "execution_count": 10,
     "metadata": {},
     "output_type": "execute_result"
    },
    {
     "data": {
      "image/png": "[encoded data removed]",
      "text/plain": [
       "<Figure size 432x288 with 1 Axes>"
      ]
     },
     "metadata": {
      "needs_background": "light"
     },
     "output_type": "display_data"
    }
   ],
   "source": [
    "train.groupby(['month'])['전력사용량(kWh)'].mean().plot()"
   ]
  },
  {
   "cell_type": "code",
   "execution_count": 11,
   "id": "f002a098",
   "metadata": {},
   "outputs": [
    {
     "data": {
      "text/plain": [
       "<matplotlib.axes._subplots.AxesSubplot at 0x1ce6fb6f070>"
      ]
     },
     "execution_count": 11,
     "metadata": {},
     "output_type": "execute_result"
    },
    {
     "data": {
      "image/png": "[encoded data removed]",
      "text/plain": [
       "<Figure size 432x288 with 1 Axes>"
      ]
     },
     "metadata": {
      "needs_background": "light"
     },
     "output_type": "display_data"
    }
   ],
   "source": [
    "train.groupby(['day'])['전력사용량(kWh)'].mean().plot()"
   ]
  },
  {
   "cell_type": "code",
   "execution_count": 12,
   "id": "f21572c9",
   "metadata": {},
   "outputs": [
    {
     "data": {
      "text/plain": [
       "<matplotlib.axes._subplots.AxesSubplot at 0x1ce6fbbecd0>"
      ]
     },
     "execution_count": 12,
     "metadata": {},
     "output_type": "execute_result"
    },
    {
     "data": {
      "image/png": "[encoded data removed]",
      "text/plain": [
       "<Figure size 432x288 with 1 Axes>"
      ]
     },
     "metadata": {
      "needs_background": "light"
     },
     "output_type": "display_data"
    }
   ],
   "source": [
    "train.groupby(['hour'])['전력사용량(kWh)'].mean().plot()"
   ]
  },
  {
   "cell_type": "code",
   "execution_count": 13,
   "id": "ca03bbdd",
   "metadata": {},
   "outputs": [
    {
     "data": {
      "image/png": "[encoded data removed]",
      "text/plain": [
       "<Figure size 432x288 with 1 Axes>"
      ]
     },
     "metadata": {
      "needs_background": "light"
     },
     "output_type": "display_data"
    }
   ],
   "source": [
    "# 한글 깨짐 해결하기 위해 font 지정\n",
    "import matplotlib.font_manager as fm\n",
    "font_path='C:/users/82102/appdata/local/microsoft/windows/fonts/NanumBarunGothic.ttf'\n",
    "fontprop = fm.FontProperties(fname=font_path, size=18)\n",
    "sns.barplot(x='일조(hr)', y='전력사용량(kWh)',data= train)\n",
    "plt.xlabel('일조(hr)',fontproperties=fontprop)\n",
    "plt.ylabel('전력사용량(kWh)',fontproperties=fontprop)\n",
    "plt.show()"
   ]
  },
  {
   "cell_type": "code",
   "execution_count": 14,
   "id": "ce8228c4",
   "metadata": {},
   "outputs": [
    {
     "data": {
      "image/png": "[encoded data removed]",
      "text/plain": [
       "<Figure size 432x288 with 1 Axes>"
      ]
     },
     "metadata": {
      "needs_background": "light"
     },
     "output_type": "display_data"
    }
   ],
   "source": [
    "# 한글 깨짐 해결하기 위해 font 지정\n",
    "import matplotlib.font_manager as fm\n",
    "font_path='C:/users/82102/appdata/local/microsoft/windows/fonts/NanumBarunGothic.ttf'\n",
    "fontprop = fm.FontProperties(fname=font_path, size=18)\n",
    "sns.barplot(x='강수량(mm)', y='전력사용량(kWh)',data= train)\n",
    "plt.xlabel('강수량(mm)',fontproperties=fontprop)\n",
    "plt.ylabel('전력사용량(kWh)',fontproperties=fontprop)\n",
    "plt.show()"
   ]
  },
  {
   "cell_type": "code",
   "execution_count": 15,
   "id": "b064111a",
   "metadata": {},
   "outputs": [
    {
     "data": {
      "image/png": "[encoded data removed]",
      "text/plain": [
       "<Figure size 432x288 with 1 Axes>"
      ]
     },
     "metadata": {
      "needs_background": "light"
     },
     "output_type": "display_data"
    }
   ],
   "source": [
    "# 한글 깨짐 해결하기 위해 font 지정\n",
    "import matplotlib.font_manager as fm\n",
    "font_path='C:/users/82102/appdata/local/microsoft/windows/fonts/NanumBarunGothic.ttf'\n",
    "fontprop = fm.FontProperties(fname=font_path, size=18)\n",
    "sns.barplot(x='태양광보유', y='전력사용량(kWh)',data= train)\n",
    "plt.xlabel('태양광보유',fontproperties=fontprop)\n",
    "plt.ylabel('전력사용량(kWh)',fontproperties=fontprop)\n",
    "plt.show()"
   ]
  },
  {
   "cell_type": "code",
   "execution_count": 16,
   "id": "78cc7c88",
   "metadata": {},
   "outputs": [
    {
     "data": {
      "image/png": "[encoded data removed]",
      "text/plain": [
       "<Figure size 432x288 with 1 Axes>"
      ]
     },
     "metadata": {
      "needs_background": "light"
     },
     "output_type": "display_data"
    }
   ],
   "source": [
    "# 한글 깨짐 해결하기 위해 font 지정\n",
    "import matplotlib.font_manager as fm\n",
    "font_path='C:/users/82102/appdata/local/microsoft/windows/fonts/NanumBarunGothic.ttf'\n",
    "fontprop = fm.FontProperties(fname=font_path, size=18)\n",
    "sns.barplot(x='비전기냉방설비운영', y='전력사용량(kWh)',data= train)\n",
    "plt.xlabel('비전기냉방설비운영',fontproperties=fontprop)\n",
    "plt.ylabel('전력사용량(kWh)',fontproperties=fontprop)\n",
    "plt.show()"
   ]
  },
  {
   "cell_type": "markdown",
   "id": "9fd0c447",
   "metadata": {},
   "source": [
    "## 모델링"
   ]
  },
  {
   "cell_type": "code",
   "execution_count": 17,
   "id": "e4864177",
   "metadata": {},
   "outputs": [],
   "source": [
    "# 타깃데이터 설정: 전력사용량(kWh)\n",
    "target = train['전력사용량(kWh)']\n",
    "data = train.drop(['전력사용량(kWh)', 'date_time'],axis = 1, inplace=False)"
   ]
  },
  {
   "cell_type": "code",
   "execution_count": 18,
   "id": "586a861e",
   "metadata": {},
   "outputs": [],
   "source": [
    "# 데이터 세트 분리\n",
    "X_train, X_val, y_train, y_val = train_test_split(data, target, test_size= 0.3, random_state=156)"
   ]
  },
  {
   "cell_type": "code",
   "execution_count": 19,
   "id": "16dd99ae",
   "metadata": {},
   "outputs": [],
   "source": [
    "# 표준화\n",
    "from sklearn.preprocessing import StandardScaler\n",
    "scaler = StandardScaler()\n",
    "scaler.fit(X_train)\n",
    "X_train = scaler.transform(X_train)\n",
    "X_val = scaler.transform(X_val)"
   ]
  },
  {
   "cell_type": "markdown",
   "id": "9a50c0fc",
   "metadata": {},
   "source": [
    "### K- 최근접 이웃 회귀 - 기본모델"
   ]
  },
  {
   "cell_type": "code",
   "execution_count": 20,
   "id": "dacab343",
   "metadata": {},
   "outputs": [],
   "source": [
    "from sklearn.neighbors import KNeighborsRegressor"
   ]
  },
  {
   "cell_type": "code",
   "execution_count": 21,
   "id": "c43e3931",
   "metadata": {},
   "outputs": [],
   "source": [
    "KNN = KNeighborsRegressor()\n",
    "KNN.fit(X_train, y_train)\n",
    "KNN_preds = KNN.predict(X_val)"
   ]
  },
  {
   "cell_type": "code",
   "execution_count": 22,
   "id": "54694584",
   "metadata": {},
   "outputs": [
    {
     "data": {
      "text/plain": [
       "array([ 589.8744 , 3524.65695, 1330.8714 , ..., 1420.524  , 7299.4608 ,\n",
       "        941.7492 ])"
      ]
     },
     "execution_count": 22,
     "metadata": {},
     "output_type": "execute_result"
    }
   ],
   "source": [
    "KNN_preds"
   ]
  },
  {
   "cell_type": "code",
   "execution_count": 23,
   "id": "81f5b62f",
   "metadata": {},
   "outputs": [
    {
     "name": "stdout",
     "output_type": "stream",
     "text": [
      "0.4230255328262119\n"
     ]
    }
   ],
   "source": [
    "# 결정계수\n",
    "print(KNN.score(X_val, y_val))"
   ]
  },
  {
   "cell_type": "code",
   "execution_count": 25,
   "id": "25f72bdd",
   "metadata": {},
   "outputs": [
    {
     "name": "stdout",
     "output_type": "stream",
     "text": [
      "MSE:2560856.347, RMSE:1600.268\n"
     ]
    }
   ],
   "source": [
    "# MSE\n",
    "from sklearn.metrics import mean_squared_error, r2_score\n",
    "prediction = KNN.predict(X_val)\n",
    "mse = mean_squared_error(y_val, prediction)\n",
    "rmse = np.sqrt(mse)\n",
    "\n",
    "print('MSE:{0:.3f}, RMSE:{1:3.3F}'.format(mse, rmse))"
   ]
  },
  {
   "cell_type": "markdown",
   "id": "b2f07590",
   "metadata": {},
   "source": [
    "### 파라미터 조절"
   ]
  },
  {
   "cell_type": "code",
   "execution_count": 26,
   "id": "e66ecc51",
   "metadata": {},
   "outputs": [
    {
     "data": {
      "text/plain": [
       "<matplotlib.axes._subplots.AxesSubplot at 0x1ce70d01bb0>"
      ]
     },
     "execution_count": 26,
     "metadata": {},
     "output_type": "execute_result"
    },
    {
     "data": {
      "image/png": "[encoded data removed]",
      "text/plain": [
       "<Figure size 1440x360 with 1 Axes>"
      ]
     },
     "metadata": {
      "needs_background": "light"
     },
     "output_type": "display_data"
    }
   ],
   "source": [
    "knn_res = pd.DataFrame()\n",
    "for i in range(15):\n",
    "    clf = KNeighborsRegressor(n_neighbors=i+1)\n",
    "    clf.fit(X_train, y_train)\n",
    "    y_pred = clf.predict(X_val)\n",
    "    \n",
    "    train_score = clf.score(X_train, y_train)\n",
    "    val_score = clf. score(X_val, y_val)\n",
    "    \n",
    "    knn_res = knn_res.append(pd.DataFrame([train_score, val_score]).T)\n",
    "    \n",
    "knn_res.columns = ['train', 'val']\n",
    "knn_res = knn_res.reset_index(drop=True)\n",
    "knn_res = knn_res.set_index(knn_res.index +1)\n",
    "\n",
    "knn_res.plot(kind='line', figsize= (20, 5))"
   ]
  },
  {
   "cell_type": "markdown",
   "id": "8f2a39c2",
   "metadata": {},
   "source": [
    "* score: 결정계수"
   ]
  },
  {
   "cell_type": "markdown",
   "id": "28c5f454",
   "metadata": {},
   "source": [
    "* 디폴트 5 값도 적당해 보이나 6으로 선택"
   ]
  },
  {
   "cell_type": "code",
   "execution_count": 47,
   "id": "f288f728",
   "metadata": {},
   "outputs": [],
   "source": [
    "KNN_6 = KNeighborsRegressor(n_neighbors = 6)\n",
    "KNN_6.fit(X_train, y_train)\n",
    "KNN_6_preds = KNN_6.predict(X_val)"
   ]
  },
  {
   "cell_type": "code",
   "execution_count": 48,
   "id": "8b87c8cc",
   "metadata": {},
   "outputs": [
    {
     "data": {
      "text/plain": [
       "array([ 572.022   , 3516.094125, 1580.0835  , ..., 1563.066   ,\n",
       "       7496.28    ,  938.907   ])"
      ]
     },
     "execution_count": 48,
     "metadata": {},
     "output_type": "execute_result"
    }
   ],
   "source": [
    "KNN_6_preds"
   ]
  },
  {
   "cell_type": "code",
   "execution_count": 49,
   "id": "e4502d4d",
   "metadata": {},
   "outputs": [
    {
     "name": "stdout",
     "output_type": "stream",
     "text": [
      "0.4235088979524707\n"
     ]
    }
   ],
   "source": [
    "# 결정계수\n",
    "print(KNN_6.score(X_val, y_val))"
   ]
  },
  {
   "cell_type": "code",
   "execution_count": 50,
   "id": "2e08c9f5",
   "metadata": {},
   "outputs": [
    {
     "name": "stdout",
     "output_type": "stream",
     "text": [
      "MSE:2558710.968, RMSE:1599.597\n"
     ]
    }
   ],
   "source": [
    "# MSE\n",
    "prediction = KNN_6.predict(X_val)\n",
    "mse = mean_squared_error(y_val, prediction)\n",
    "rmse = np.sqrt(mse)\n",
    "\n",
    "print('MSE:{0:.3f}, RMSE:{1:3.3F}'.format(mse, rmse))"
   ]
  },
  {
   "cell_type": "markdown",
   "id": "ffafda44",
   "metadata": {},
   "source": [
    "* RMSE 값이 아주 살짝 줄어들어 성능 더 좋아짐"
   ]
  },
  {
   "cell_type": "markdown",
   "id": "8db8eff6",
   "metadata": {},
   "source": [
    "### 회귀분석"
   ]
  },
  {
   "cell_type": "code",
   "execution_count": 31,
   "id": "8b2db5a4",
   "metadata": {},
   "outputs": [],
   "source": [
    "from sklearn.linear_model import LinearRegression"
   ]
  },
  {
   "cell_type": "code",
   "execution_count": 32,
   "id": "739f997f",
   "metadata": {},
   "outputs": [],
   "source": [
    "lr = LinearRegression()\n",
    "lr.fit(X_train, y_train)\n",
    "lr_preds = lr.predict(X_val)"
   ]
  },
  {
   "cell_type": "code",
   "execution_count": 33,
   "id": "b464752a",
   "metadata": {},
   "outputs": [
    {
     "data": {
      "text/plain": [
       "array([1604.24289545, 2644.50701933, 2954.79808185, ..., 2409.88298565,\n",
       "       2001.1229166 , 1869.98069116])"
      ]
     },
     "execution_count": 33,
     "metadata": {},
     "output_type": "execute_result"
    }
   ],
   "source": [
    "lr_preds"
   ]
  },
  {
   "cell_type": "code",
   "execution_count": 34,
   "id": "8c30a166",
   "metadata": {},
   "outputs": [
    {
     "name": "stdout",
     "output_type": "stream",
     "text": [
      "0.07412797246308811\n"
     ]
    }
   ],
   "source": [
    "# 결정계수\n",
    "print(lr.score(X_val, y_val))"
   ]
  },
  {
   "cell_type": "code",
   "execution_count": 35,
   "id": "de946893",
   "metadata": {},
   "outputs": [
    {
     "name": "stdout",
     "output_type": "stream",
     "text": [
      "MSE:4109411.062, RMSE:2027.168\n"
     ]
    }
   ],
   "source": [
    "prediction = lr.predict(X_val)\n",
    "mse = mean_squared_error(y_val, prediction)\n",
    "rmse = np.sqrt(mse)\n",
    "\n",
    "print('MSE:{0:.3f}, RMSE:{1:3.3F}'.format(mse, rmse))"
   ]
  },
  {
   "cell_type": "markdown",
   "id": "56a3dbbf",
   "metadata": {},
   "source": [
    "### 회귀 규제 (릿지, 라쏘, 엘라스틱넷)"
   ]
  },
  {
   "cell_type": "code",
   "execution_count": 36,
   "id": "0429c6db",
   "metadata": {},
   "outputs": [],
   "source": [
    "from sklearn.linear_model import Lasso, ElasticNet\n",
    "from sklearn.linear_model import Ridge\n",
    "from sklearn.model_selection import cross_val_score\n",
    "\n",
    "def get_linear_reg_eval(model_name, params = None, X_data_n = None, y_target_n = None, verbose =True, return_coeff=True):\n",
    "    coeff_df = pd.DataFrame()\n",
    "    if verbose : print('###### ', model_name, '######')\n",
    "    for param in params:\n",
    "        if model_name == 'Ridge': model = Ridge(alpha=param)\n",
    "        elif model_name == 'Lasso': model = Lasso(alpha=param)\n",
    "        elif model_name == 'ElasticNet': model = ElasticNet(alpha=param, l1_ratio=0.7)\n",
    "        neg_mse_scores = cross_val_score(model, X_data_n,\n",
    "                                            y_target_n, scoring = \"neg_mean_squared_error\", cv= 5)\n",
    "        avg_rmse = np.mean(np.sqrt(-1*neg_mse_scores))\n",
    "        print('alpha {0}일 때 5 폴드 세트의 평균 RMSE: {1:.3f}'.format(param, avg_rmse))\n",
    "            \n",
    "        model.fit(X_data_n, y_target_n)\n",
    "        if return_coeff:\n",
    "            coeff = pd.Series(data=model.coef_, index=X_data_n.columns)\n",
    "            colname = 'alpha:'+str(param)\n",
    "            coeff_df[colname] = coeff\n",
    "                \n",
    "    return coeff_df"
   ]
  },
  {
   "cell_type": "code",
   "execution_count": 38,
   "id": "4d28b966",
   "metadata": {},
   "outputs": [
    {
     "name": "stdout",
     "output_type": "stream",
     "text": [
      "######  Ridge ######\n",
      "alpha 0.07일 때 5 폴드 세트의 평균 RMSE: 1997.172\n",
      "alpha 0.1일 때 5 폴드 세트의 평균 RMSE: 1997.172\n",
      "alpha 1일 때 5 폴드 세트의 평균 RMSE: 1997.172\n",
      "alpha 10일 때 5 폴드 세트의 평균 RMSE: 1997.165\n",
      "alpha 100일 때 5 폴드 세트의 평균 RMSE: 1997.098\n"
     ]
    }
   ],
   "source": [
    "# 릿지\n",
    "ridge_alphas = [0.07,0.1,1,10,100]\n",
    "coeff_lasso_df = get_linear_reg_eval('Ridge', params = ridge_alphas, X_data_n = data, y_target_n = target)"
   ]
  },
  {
   "cell_type": "code",
   "execution_count": 39,
   "id": "5e746ec1",
   "metadata": {},
   "outputs": [
    {
     "name": "stdout",
     "output_type": "stream",
     "text": [
      "######  Lasso ######\n",
      "alpha 0.07일 때 5 폴드 세트의 평균 RMSE: 1997.170\n",
      "alpha 0.1일 때 5 폴드 세트의 평균 RMSE: 1997.169\n",
      "alpha 0.5일 때 5 폴드 세트의 평균 RMSE: 1997.154\n",
      "alpha 1일 때 5 폴드 세트의 평균 RMSE: 1997.145\n",
      "alpha 3일 때 5 폴드 세트의 평균 RMSE: 1997.164\n"
     ]
    }
   ],
   "source": [
    "# 라쏘\n",
    "lasso_alphas = [0.07,0.1,0.5,1,3]\n",
    "coeff_lasso_df = get_linear_reg_eval('Lasso', params = lasso_alphas, X_data_n = data, y_target_n = target)"
   ]
  },
  {
   "cell_type": "code",
   "execution_count": 40,
   "id": "fcb888dd",
   "metadata": {},
   "outputs": [
    {
     "name": "stdout",
     "output_type": "stream",
     "text": [
      "######  ElasticNet ######\n",
      "alpha 0.07일 때 5 폴드 세트의 평균 RMSE: 1996.178\n",
      "alpha 0.1일 때 5 폴드 세트의 평균 RMSE: 1996.004\n",
      "alpha 0.5일 때 5 폴드 세트의 평균 RMSE: 1998.567\n",
      "alpha 1.3일 때 5 폴드 세트의 평균 RMSE: 2006.150\n"
     ]
    }
   ],
   "source": [
    "# 엘라스틱넷\n",
    "elastic_alphas= [0.07,0.1,0.5,1.3]\n",
    "coeff_lasso_df = get_linear_reg_eval('ElasticNet', params = elastic_alphas, X_data_n = data, y_target_n = target)"
   ]
  },
  {
   "cell_type": "markdown",
   "id": "c5044b85",
   "metadata": {},
   "source": [
    "* 회귀에서는 좋은 성능을 발휘하지 못함"
   ]
  },
  {
   "cell_type": "markdown",
   "id": "f096d95a",
   "metadata": {},
   "source": [
    "# *"
   ]
  },
  {
   "cell_type": "markdown",
   "id": "2f73de09",
   "metadata": {},
   "source": [
    "## 결론: K- 최근접 이웃에서 K가 6일 때 RMSE값이 약 1599로 가장 나은 성능을 보임"
   ]
  }
 ],
 "metadata": {
  "kernelspec": {
   "display_name": "Python 3",
   "language": "python",
   "name": "python3"
  },
  "language_info": {
   "codemirror_mode": {
    "name": "ipython",
    "version": 3
   },
   "file_extension": ".py",
   "mimetype": "text/x-python",
   "name": "python",
   "nbconvert_exporter": "python",
   "pygments_lexer": "ipython3",
   "version": "3.8.3"
  }
 },
 "nbformat": 4,
 "nbformat_minor": 5
}
