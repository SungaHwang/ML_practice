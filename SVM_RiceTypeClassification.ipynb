{
 "cells": [
  {
   "cell_type": "markdown",
   "id": "42274a38",
   "metadata": {},
   "source": [
    "# Rice Type Classification"
   ]
  },
  {
   "cell_type": "markdown",
   "id": "f8ed3503",
   "metadata": {},
   "source": [
    "* SVM 연습에 초점"
   ]
  },
  {
   "cell_type": "markdown",
   "id": "8ab84ac8",
   "metadata": {},
   "source": [
    "### 데이터 설명(출처: kaggle)\n",
    "\n",
    "* id\n",
    "* Area\n",
    "* MajorAxisLength\n",
    "* MinorAxisLength\n",
    "* Eccentricity\n",
    "* ConvexArea\n",
    "* EquivDiameter\n",
    "* Extent\n",
    "* Perimeter\n",
    "* Roundness\n",
    "* AspectRation\n",
    "* target - Class: Jasmine - 1, Gonen - 0."
   ]
  },
  {
   "cell_type": "code",
   "execution_count": 1,
   "id": "fd81ef28",
   "metadata": {},
   "outputs": [],
   "source": [
    "# 패키지 설치\n",
    "import numpy as np\n",
    "import pandas as pd \n",
    "import matplotlib.pyplot as plt\n",
    "%matplotlib inline\n",
    "import seaborn as sns\n",
    "\n",
    "from sklearn.model_selection import cross_val_score\n",
    "from sklearn.metrics import roc_auc_score, roc_curve, precision_recall_curve, precision_score, recall_score, auc\n",
    "from sklearn.metrics import confusion_matrix, plot_confusion_matrix\n",
    "from sklearn.metrics import classification_report, accuracy_score, f1_score\n",
    "\n",
    "from sklearn.model_selection import train_test_split\n",
    "from sklearn.model_selection import GridSearchCV\n",
    "from sklearn.model_selection import KFold\n",
    "\n",
    "from sklearn.linear_model import LogisticRegression\n",
    "\n",
    "from sklearn.metrics import accuracy_score, precision_score, recall_score, confusion_matrix, classification_report, roc_auc_score\n",
    "\n",
    "from sklearn.model_selection import train_test_split\n",
    "from sklearn.linear_model import LinearRegression\n",
    "from sklearn.metrics import mean_squared_error, r2_score\n",
    "\n",
    "from sklearn.preprocessing import StandardScaler\n",
    "from sklearn.preprocessing import MinMaxScaler\n",
    "\n",
    "from sklearn.metrics import confusion_matrix\n",
    "from IPython.display import Image\n",
    "\n",
    "from sklearn.datasets import make_classification\n",
    "from sklearn.decomposition import PCA\n",
    "from imblearn.over_sampling import SMOTE\n",
    "from imblearn.over_sampling import ADASYN\n",
    "from imblearn.over_sampling import BorderlineSMOTE\n",
    "from collections import Counter\n",
    "from imblearn.over_sampling import RandomOverSampler\n",
    "from imblearn.under_sampling import RandomUnderSampler\n",
    "from imblearn.under_sampling import TomekLinks\n",
    "\n",
    "from sklearn.feature_extraction.text import CountVectorizer"
   ]
  },
  {
   "cell_type": "markdown",
   "id": "4fc0740e",
   "metadata": {},
   "source": [
    "## 데이터 불러오고 기본 정보 확인"
   ]
  },
  {
   "cell_type": "code",
   "execution_count": 2,
   "id": "335391c1",
   "metadata": {},
   "outputs": [
    {
     "data": {
      "text/html": [
       "<div>\n",
       "<style scoped>\n",
       "    .dataframe tbody tr th:only-of-type {\n",
       "        vertical-align: middle;\n",
       "    }\n",
       "\n",
       "    .dataframe tbody tr th {\n",
       "        vertical-align: top;\n",
       "    }\n",
       "\n",
       "    .dataframe thead th {\n",
       "        text-align: right;\n",
       "    }\n",
       "</style>\n",
       "<table border=\"1\" class=\"dataframe\">\n",
       "  <thead>\n",
       "    <tr style=\"text-align: right;\">\n",
       "      <th></th>\n",
       "      <th>id</th>\n",
       "      <th>Area</th>\n",
       "      <th>MajorAxisLength</th>\n",
       "      <th>MinorAxisLength</th>\n",
       "      <th>Eccentricity</th>\n",
       "      <th>ConvexArea</th>\n",
       "      <th>EquivDiameter</th>\n",
       "      <th>Extent</th>\n",
       "      <th>Perimeter</th>\n",
       "      <th>Roundness</th>\n",
       "      <th>AspectRation</th>\n",
       "      <th>Class</th>\n",
       "    </tr>\n",
       "  </thead>\n",
       "  <tbody>\n",
       "    <tr>\n",
       "      <th>0</th>\n",
       "      <td>1</td>\n",
       "      <td>4537</td>\n",
       "      <td>92.229316</td>\n",
       "      <td>64.012769</td>\n",
       "      <td>0.719916</td>\n",
       "      <td>4677</td>\n",
       "      <td>76.004525</td>\n",
       "      <td>0.657536</td>\n",
       "      <td>273.085</td>\n",
       "      <td>0.764510</td>\n",
       "      <td>1.440796</td>\n",
       "      <td>1</td>\n",
       "    </tr>\n",
       "    <tr>\n",
       "      <th>1</th>\n",
       "      <td>2</td>\n",
       "      <td>2872</td>\n",
       "      <td>74.691881</td>\n",
       "      <td>51.400454</td>\n",
       "      <td>0.725553</td>\n",
       "      <td>3015</td>\n",
       "      <td>60.471018</td>\n",
       "      <td>0.713009</td>\n",
       "      <td>208.317</td>\n",
       "      <td>0.831658</td>\n",
       "      <td>1.453137</td>\n",
       "      <td>1</td>\n",
       "    </tr>\n",
       "    <tr>\n",
       "      <th>2</th>\n",
       "      <td>3</td>\n",
       "      <td>3048</td>\n",
       "      <td>76.293164</td>\n",
       "      <td>52.043491</td>\n",
       "      <td>0.731211</td>\n",
       "      <td>3132</td>\n",
       "      <td>62.296341</td>\n",
       "      <td>0.759153</td>\n",
       "      <td>210.012</td>\n",
       "      <td>0.868434</td>\n",
       "      <td>1.465950</td>\n",
       "      <td>1</td>\n",
       "    </tr>\n",
       "    <tr>\n",
       "      <th>3</th>\n",
       "      <td>4</td>\n",
       "      <td>3073</td>\n",
       "      <td>77.033628</td>\n",
       "      <td>51.928487</td>\n",
       "      <td>0.738639</td>\n",
       "      <td>3157</td>\n",
       "      <td>62.551300</td>\n",
       "      <td>0.783529</td>\n",
       "      <td>210.657</td>\n",
       "      <td>0.870203</td>\n",
       "      <td>1.483456</td>\n",
       "      <td>1</td>\n",
       "    </tr>\n",
       "    <tr>\n",
       "      <th>4</th>\n",
       "      <td>5</td>\n",
       "      <td>3693</td>\n",
       "      <td>85.124785</td>\n",
       "      <td>56.374021</td>\n",
       "      <td>0.749282</td>\n",
       "      <td>3802</td>\n",
       "      <td>68.571668</td>\n",
       "      <td>0.769375</td>\n",
       "      <td>230.332</td>\n",
       "      <td>0.874743</td>\n",
       "      <td>1.510000</td>\n",
       "      <td>1</td>\n",
       "    </tr>\n",
       "    <tr>\n",
       "      <th>...</th>\n",
       "      <td>...</td>\n",
       "      <td>...</td>\n",
       "      <td>...</td>\n",
       "      <td>...</td>\n",
       "      <td>...</td>\n",
       "      <td>...</td>\n",
       "      <td>...</td>\n",
       "      <td>...</td>\n",
       "      <td>...</td>\n",
       "      <td>...</td>\n",
       "      <td>...</td>\n",
       "      <td>...</td>\n",
       "    </tr>\n",
       "    <tr>\n",
       "      <th>18180</th>\n",
       "      <td>18181</td>\n",
       "      <td>5853</td>\n",
       "      <td>148.624571</td>\n",
       "      <td>51.029281</td>\n",
       "      <td>0.939210</td>\n",
       "      <td>6008</td>\n",
       "      <td>86.326537</td>\n",
       "      <td>0.498594</td>\n",
       "      <td>332.960</td>\n",
       "      <td>0.663444</td>\n",
       "      <td>2.912535</td>\n",
       "      <td>0</td>\n",
       "    </tr>\n",
       "    <tr>\n",
       "      <th>18181</th>\n",
       "      <td>18182</td>\n",
       "      <td>7585</td>\n",
       "      <td>169.593996</td>\n",
       "      <td>58.141659</td>\n",
       "      <td>0.939398</td>\n",
       "      <td>7806</td>\n",
       "      <td>98.272692</td>\n",
       "      <td>0.647461</td>\n",
       "      <td>385.506</td>\n",
       "      <td>0.641362</td>\n",
       "      <td>2.916910</td>\n",
       "      <td>0</td>\n",
       "    </tr>\n",
       "    <tr>\n",
       "      <th>18182</th>\n",
       "      <td>18183</td>\n",
       "      <td>6365</td>\n",
       "      <td>154.777085</td>\n",
       "      <td>52.908085</td>\n",
       "      <td>0.939760</td>\n",
       "      <td>6531</td>\n",
       "      <td>90.023162</td>\n",
       "      <td>0.561287</td>\n",
       "      <td>342.253</td>\n",
       "      <td>0.682832</td>\n",
       "      <td>2.925396</td>\n",
       "      <td>0</td>\n",
       "    </tr>\n",
       "    <tr>\n",
       "      <th>18183</th>\n",
       "      <td>18184</td>\n",
       "      <td>5960</td>\n",
       "      <td>151.397924</td>\n",
       "      <td>51.474600</td>\n",
       "      <td>0.940427</td>\n",
       "      <td>6189</td>\n",
       "      <td>87.112041</td>\n",
       "      <td>0.492399</td>\n",
       "      <td>343.371</td>\n",
       "      <td>0.635227</td>\n",
       "      <td>2.941216</td>\n",
       "      <td>0</td>\n",
       "    </tr>\n",
       "    <tr>\n",
       "      <th>18184</th>\n",
       "      <td>18185</td>\n",
       "      <td>6134</td>\n",
       "      <td>153.081981</td>\n",
       "      <td>51.590606</td>\n",
       "      <td>0.941500</td>\n",
       "      <td>6283</td>\n",
       "      <td>88.374495</td>\n",
       "      <td>0.489975</td>\n",
       "      <td>338.613</td>\n",
       "      <td>0.672274</td>\n",
       "      <td>2.967245</td>\n",
       "      <td>0</td>\n",
       "    </tr>\n",
       "  </tbody>\n",
       "</table>\n",
       "<p>18185 rows × 12 columns</p>\n",
       "</div>"
      ],
      "text/plain": [
       "          id  Area  MajorAxisLength  MinorAxisLength  Eccentricity  \\\n",
       "0          1  4537        92.229316        64.012769      0.719916   \n",
       "1          2  2872        74.691881        51.400454      0.725553   \n",
       "2          3  3048        76.293164        52.043491      0.731211   \n",
       "3          4  3073        77.033628        51.928487      0.738639   \n",
       "4          5  3693        85.124785        56.374021      0.749282   \n",
       "...      ...   ...              ...              ...           ...   \n",
       "18180  18181  5853       148.624571        51.029281      0.939210   \n",
       "18181  18182  7585       169.593996        58.141659      0.939398   \n",
       "18182  18183  6365       154.777085        52.908085      0.939760   \n",
       "18183  18184  5960       151.397924        51.474600      0.940427   \n",
       "18184  18185  6134       153.081981        51.590606      0.941500   \n",
       "\n",
       "       ConvexArea  EquivDiameter    Extent  Perimeter  Roundness  \\\n",
       "0            4677      76.004525  0.657536    273.085   0.764510   \n",
       "1            3015      60.471018  0.713009    208.317   0.831658   \n",
       "2            3132      62.296341  0.759153    210.012   0.868434   \n",
       "3            3157      62.551300  0.783529    210.657   0.870203   \n",
       "4            3802      68.571668  0.769375    230.332   0.874743   \n",
       "...           ...            ...       ...        ...        ...   \n",
       "18180        6008      86.326537  0.498594    332.960   0.663444   \n",
       "18181        7806      98.272692  0.647461    385.506   0.641362   \n",
       "18182        6531      90.023162  0.561287    342.253   0.682832   \n",
       "18183        6189      87.112041  0.492399    343.371   0.635227   \n",
       "18184        6283      88.374495  0.489975    338.613   0.672274   \n",
       "\n",
       "       AspectRation  Class  \n",
       "0          1.440796      1  \n",
       "1          1.453137      1  \n",
       "2          1.465950      1  \n",
       "3          1.483456      1  \n",
       "4          1.510000      1  \n",
       "...             ...    ...  \n",
       "18180      2.912535      0  \n",
       "18181      2.916910      0  \n",
       "18182      2.925396      0  \n",
       "18183      2.941216      0  \n",
       "18184      2.967245      0  \n",
       "\n",
       "[18185 rows x 12 columns]"
      ]
     },
     "execution_count": 2,
     "metadata": {},
     "output_type": "execute_result"
    }
   ],
   "source": [
    "# 데이터 불러오기\n",
    "rice= pd.read_csv('C:/Users/82102/Desktop/riceClassification.csv')\n",
    "rice"
   ]
  },
  {
   "cell_type": "code",
   "execution_count": 3,
   "id": "3c671b4b",
   "metadata": {},
   "outputs": [
    {
     "name": "stdout",
     "output_type": "stream",
     "text": [
      "<class 'pandas.core.frame.DataFrame'>\n",
      "RangeIndex: 18185 entries, 0 to 18184\n",
      "Data columns (total 12 columns):\n",
      " #   Column           Non-Null Count  Dtype  \n",
      "---  ------           --------------  -----  \n",
      " 0   id               18185 non-null  int64  \n",
      " 1   Area             18185 non-null  int64  \n",
      " 2   MajorAxisLength  18185 non-null  float64\n",
      " 3   MinorAxisLength  18185 non-null  float64\n",
      " 4   Eccentricity     18185 non-null  float64\n",
      " 5   ConvexArea       18185 non-null  int64  \n",
      " 6   EquivDiameter    18185 non-null  float64\n",
      " 7   Extent           18185 non-null  float64\n",
      " 8   Perimeter        18185 non-null  float64\n",
      " 9   Roundness        18185 non-null  float64\n",
      " 10  AspectRation     18185 non-null  float64\n",
      " 11  Class            18185 non-null  int64  \n",
      "dtypes: float64(8), int64(4)\n",
      "memory usage: 1.7 MB\n"
     ]
    }
   ],
   "source": [
    "# 데이터 정보 확인\n",
    "rice.info()"
   ]
  },
  {
   "cell_type": "code",
   "execution_count": 4,
   "id": "9c4fbf15",
   "metadata": {},
   "outputs": [
    {
     "data": {
      "image/png": "[encoded data removed]",
      "text/plain": [
       "<Figure size 504x504 with 1 Axes>"
      ]
     },
     "metadata": {},
     "output_type": "display_data"
    }
   ],
   "source": [
    "f, ax = plt.subplots(figsize=(7, 7))\n",
    "rice['Class'].value_counts().plot.pie(shadow= True, ax= ax, autopct='%1.1f%%',textprops={'fontsize': 12} )\n",
    "\n",
    "ax.set_title('Class Distribution', fontsize = 15);"
   ]
  },
  {
   "cell_type": "markdown",
   "id": "73750cfe",
   "metadata": {},
   "source": [
    "* 대체적으로 균형"
   ]
  },
  {
   "cell_type": "markdown",
   "id": "a5600615",
   "metadata": {},
   "source": [
    "## EDA 및 시각화"
   ]
  },
  {
   "cell_type": "code",
   "execution_count": 5,
   "id": "f4cbcdeb",
   "metadata": {},
   "outputs": [
    {
     "data": {
      "text/plain": [
       "<matplotlib.axes._subplots.AxesSubplot at 0x1e37ebf1fa0>"
      ]
     },
     "execution_count": 5,
     "metadata": {},
     "output_type": "execute_result"
    },
    {
     "data": {
      "image/png": "[encoded data removed]",
      "text/plain": [
       "<Figure size 648x648 with 2 Axes>"
      ]
     },
     "metadata": {
      "needs_background": "light"
     },
     "output_type": "display_data"
    }
   ],
   "source": [
    "plt.figure(figsize=(9,9))\n",
    "corr = rice.corr()\n",
    "sns.heatmap(corr, cmap='RdBu')"
   ]
  },
  {
   "cell_type": "code",
   "execution_count": 6,
   "id": "90e73f11",
   "metadata": {},
   "outputs": [
    {
     "data": {
      "image/png": "[encoded data removed]",
      "text/plain": [
       "<Figure size 864x576 with 10 Axes>"
      ]
     },
     "metadata": {
      "needs_background": "light"
     },
     "output_type": "display_data"
    }
   ],
   "source": [
    "fig,axes = plt.subplots(nrows=2,ncols=5,figsize=(12,8))\n",
    "sns.histplot(x=\"Area\",data=rice,ax=axes[0,0])\n",
    "sns.histplot(x=\"MajorAxisLength\", data= rice, ax=axes[0,1])\n",
    "sns.histplot(x=\"MinorAxisLength\", data= rice, ax=axes[0,2])\n",
    "sns.histplot(x=\"Eccentricity\", data= rice, ax=axes[0,3])\n",
    "sns.histplot(x=\"ConvexArea\", data= rice, ax=axes[0,4])\n",
    "sns.histplot(x=\"EquivDiameter\", data= rice ,ax=axes[1,0])\n",
    "sns.histplot(x=\"Extent\", data= rice ,ax=axes[1,1])\n",
    "sns.histplot(x=\"Perimeter\", data= rice ,ax=axes[1,2])\n",
    "sns.histplot(x=\"Roundness\", data= rice ,ax=axes[1,3])\n",
    "sns.histplot(x=\"AspectRation\", data= rice,ax=axes[1,4])\n",
    "plt.tight_layout()"
   ]
  },
  {
   "cell_type": "markdown",
   "id": "ce02a95d",
   "metadata": {},
   "source": [
    "## 모델링"
   ]
  },
  {
   "cell_type": "code",
   "execution_count": 7,
   "id": "5500fb86",
   "metadata": {},
   "outputs": [],
   "source": [
    "# 타깃데이터 설정: Class\n",
    "target = rice['Class']\n",
    "data = rice.drop(['Class','id'],axis = 1, inplace=False)"
   ]
  },
  {
   "cell_type": "markdown",
   "id": "234c374e",
   "metadata": {},
   "source": [
    "* id는 분석에 불필요한 정보로 삭제"
   ]
  },
  {
   "cell_type": "markdown",
   "id": "58b40586",
   "metadata": {},
   "source": [
    "### 스케일링"
   ]
  },
  {
   "cell_type": "markdown",
   "id": "6727da30",
   "metadata": {},
   "source": [
    "* svm은 스케일링에 민감"
   ]
  },
  {
   "cell_type": "code",
   "execution_count": 8,
   "id": "eafd4487",
   "metadata": {},
   "outputs": [
    {
     "name": "stdout",
     "output_type": "stream",
     "text": [
      "StandardScaler()\n"
     ]
    }
   ],
   "source": [
    "from sklearn.preprocessing import StandardScaler\n",
    "standardScaler = StandardScaler()\n",
    "print(standardScaler.fit(data))\n",
    "data_scaled = standardScaler.transform(data)"
   ]
  },
  {
   "cell_type": "code",
   "execution_count": 9,
   "id": "e1887f2a",
   "metadata": {},
   "outputs": [],
   "source": [
    "# 데이터 세트 분리\n",
    "X_train, X_test, y_train, y_test = train_test_split(data_scaled, target, test_size= 0.3, random_state=156)"
   ]
  },
  {
   "cell_type": "markdown",
   "id": "5cd400f0",
   "metadata": {},
   "source": [
    "### SVM - linear"
   ]
  },
  {
   "cell_type": "code",
   "execution_count": 10,
   "id": "c7282c69",
   "metadata": {},
   "outputs": [],
   "source": [
    "import sklearn.svm as svm\n",
    "import sklearn.metrics as mt\n",
    "\n",
    "svm_linear= svm.SVC(kernel='linear')"
   ]
  },
  {
   "cell_type": "code",
   "execution_count": 11,
   "id": "e5d661f8",
   "metadata": {},
   "outputs": [],
   "source": [
    "svm_linear.fit(X_train, y_train)\n",
    "svm_ln_pred = svm_linear.predict(X_test)"
   ]
  },
  {
   "cell_type": "code",
   "execution_count": 12,
   "id": "3ff2fae7",
   "metadata": {},
   "outputs": [
    {
     "data": {
      "text/plain": [
       "array([1, 0, 1, ..., 1, 1, 0], dtype=int64)"
      ]
     },
     "execution_count": 12,
     "metadata": {},
     "output_type": "execute_result"
    }
   ],
   "source": [
    "svm_ln_pred"
   ]
  },
  {
   "cell_type": "code",
   "execution_count": 13,
   "id": "a96392bc",
   "metadata": {},
   "outputs": [
    {
     "name": "stdout",
     "output_type": "stream",
     "text": [
      "Accuracy: 0.9899193548387096\n",
      "Precision: 0.9867065470255899\n",
      "Recall: 0.9949731903485255\n",
      "roc_auc 0.9893959802875313\n"
     ]
    }
   ],
   "source": [
    "print(\"Accuracy:\",mt.accuracy_score(y_test, svm_ln_pred))\n",
    "print(\"Precision:\",mt.precision_score(y_test, svm_ln_pred))\n",
    "print(\"Recall:\",mt.recall_score(y_test, svm_ln_pred))\n",
    "print(\"roc_auc\",mt.roc_auc_score(y_test, svm_ln_pred))"
   ]
  },
  {
   "cell_type": "code",
   "execution_count": 15,
   "id": "012d6328",
   "metadata": {},
   "outputs": [
    {
     "data": {
      "text/plain": [
       "array([0.65218587, 1.        , 1.        , 0.99780038, 0.94445972])"
      ]
     },
     "execution_count": 15,
     "metadata": {},
     "output_type": "execute_result"
    }
   ],
   "source": [
    "from sklearn.model_selection import cross_val_score, cross_validate\n",
    "\n",
    "scores = cross_val_score(svm_linear, data_scaled, target, cv=5)\n",
    "scores"
   ]
  },
  {
   "cell_type": "code",
   "execution_count": 16,
   "id": "251ec221",
   "metadata": {},
   "outputs": [
    {
     "data": {
      "text/html": [
       "<div>\n",
       "<style scoped>\n",
       "    .dataframe tbody tr th:only-of-type {\n",
       "        vertical-align: middle;\n",
       "    }\n",
       "\n",
       "    .dataframe tbody tr th {\n",
       "        vertical-align: top;\n",
       "    }\n",
       "\n",
       "    .dataframe thead th {\n",
       "        text-align: right;\n",
       "    }\n",
       "</style>\n",
       "<table border=\"1\" class=\"dataframe\">\n",
       "  <thead>\n",
       "    <tr style=\"text-align: right;\">\n",
       "      <th></th>\n",
       "      <th>fit_time</th>\n",
       "      <th>score_time</th>\n",
       "      <th>test_score</th>\n",
       "    </tr>\n",
       "  </thead>\n",
       "  <tbody>\n",
       "    <tr>\n",
       "      <th>0</th>\n",
       "      <td>0.226745</td>\n",
       "      <td>0.022863</td>\n",
       "      <td>0.652186</td>\n",
       "    </tr>\n",
       "    <tr>\n",
       "      <th>1</th>\n",
       "      <td>0.856701</td>\n",
       "      <td>0.111701</td>\n",
       "      <td>1.000000</td>\n",
       "    </tr>\n",
       "    <tr>\n",
       "      <th>2</th>\n",
       "      <td>0.778317</td>\n",
       "      <td>0.134634</td>\n",
       "      <td>1.000000</td>\n",
       "    </tr>\n",
       "    <tr>\n",
       "      <th>3</th>\n",
       "      <td>0.809513</td>\n",
       "      <td>0.106713</td>\n",
       "      <td>0.997800</td>\n",
       "    </tr>\n",
       "    <tr>\n",
       "      <th>4</th>\n",
       "      <td>0.252326</td>\n",
       "      <td>0.039893</td>\n",
       "      <td>0.944460</td>\n",
       "    </tr>\n",
       "  </tbody>\n",
       "</table>\n",
       "</div>"
      ],
      "text/plain": [
       "   fit_time  score_time  test_score\n",
       "0  0.226745    0.022863    0.652186\n",
       "1  0.856701    0.111701    1.000000\n",
       "2  0.778317    0.134634    1.000000\n",
       "3  0.809513    0.106713    0.997800\n",
       "4  0.252326    0.039893    0.944460"
      ]
     },
     "execution_count": 16,
     "metadata": {},
     "output_type": "execute_result"
    }
   ],
   "source": [
    "pd.DataFrame(cross_validate(svm_linear,data_scaled,target, cv=5))"
   ]
  },
  {
   "cell_type": "code",
   "execution_count": 17,
   "id": "afb1ed58",
   "metadata": {},
   "outputs": [
    {
     "name": "stdout",
     "output_type": "stream",
     "text": [
      "교차검증 평균: 0.9188891943909816\n"
     ]
    }
   ],
   "source": [
    "print('교차검증 평균:', scores.mean())"
   ]
  },
  {
   "cell_type": "markdown",
   "id": "9516b3cb",
   "metadata": {},
   "source": [
    "### SVM - 다항식"
   ]
  },
  {
   "cell_type": "code",
   "execution_count": 18,
   "id": "9475b48e",
   "metadata": {},
   "outputs": [],
   "source": [
    "svm_poly = svm.SVC(kernel='poly') "
   ]
  },
  {
   "cell_type": "code",
   "execution_count": 19,
   "id": "a4a5ec62",
   "metadata": {},
   "outputs": [],
   "source": [
    "svm_poly.fit(X_train, y_train)\n",
    "svm_poly_pred = svm_poly.predict(X_test)"
   ]
  },
  {
   "cell_type": "code",
   "execution_count": 20,
   "id": "6bb1e84e",
   "metadata": {},
   "outputs": [
    {
     "data": {
      "text/plain": [
       "array([1, 0, 1, ..., 1, 1, 0], dtype=int64)"
      ]
     },
     "execution_count": 20,
     "metadata": {},
     "output_type": "execute_result"
    }
   ],
   "source": [
    "svm_poly_pred"
   ]
  },
  {
   "cell_type": "code",
   "execution_count": 21,
   "id": "842bf806",
   "metadata": {},
   "outputs": [
    {
     "name": "stdout",
     "output_type": "stream",
     "text": [
      "Accuracy: 0.9847873900293255\n",
      "Precision: 0.9751064526695054\n",
      "Recall: 0.9976541554959786\n",
      "roc_auc 0.9834549094631996\n"
     ]
    }
   ],
   "source": [
    "print(\"Accuracy:\",mt.accuracy_score(y_test, svm_poly_pred))\n",
    "print(\"Precision:\",mt.precision_score(y_test, svm_poly_pred))\n",
    "print(\"Recall:\",mt.recall_score(y_test, svm_poly_pred))\n",
    "print(\"roc_auc\",mt.roc_auc_score(y_test, svm_poly_pred))"
   ]
  },
  {
   "cell_type": "code",
   "execution_count": 22,
   "id": "f7c26237",
   "metadata": {},
   "outputs": [
    {
     "data": {
      "text/plain": [
       "array([0.78278801, 0.99972505, 0.99890019, 0.99615067, 0.89056915])"
      ]
     },
     "execution_count": 22,
     "metadata": {},
     "output_type": "execute_result"
    }
   ],
   "source": [
    "from sklearn.model_selection import cross_val_score, cross_validate\n",
    "\n",
    "scores = cross_val_score(svm_poly, data_scaled, target, cv=5)\n",
    "scores"
   ]
  },
  {
   "cell_type": "code",
   "execution_count": 23,
   "id": "87f26f31",
   "metadata": {},
   "outputs": [
    {
     "data": {
      "text/html": [
       "<div>\n",
       "<style scoped>\n",
       "    .dataframe tbody tr th:only-of-type {\n",
       "        vertical-align: middle;\n",
       "    }\n",
       "\n",
       "    .dataframe tbody tr th {\n",
       "        vertical-align: top;\n",
       "    }\n",
       "\n",
       "    .dataframe thead th {\n",
       "        text-align: right;\n",
       "    }\n",
       "</style>\n",
       "<table border=\"1\" class=\"dataframe\">\n",
       "  <thead>\n",
       "    <tr style=\"text-align: right;\">\n",
       "      <th></th>\n",
       "      <th>fit_time</th>\n",
       "      <th>score_time</th>\n",
       "      <th>test_score</th>\n",
       "    </tr>\n",
       "  </thead>\n",
       "  <tbody>\n",
       "    <tr>\n",
       "      <th>0</th>\n",
       "      <td>0.630337</td>\n",
       "      <td>0.125665</td>\n",
       "      <td>0.782788</td>\n",
       "    </tr>\n",
       "    <tr>\n",
       "      <th>1</th>\n",
       "      <td>1.401554</td>\n",
       "      <td>0.274003</td>\n",
       "      <td>0.999725</td>\n",
       "    </tr>\n",
       "    <tr>\n",
       "      <th>2</th>\n",
       "      <td>1.298576</td>\n",
       "      <td>0.259305</td>\n",
       "      <td>0.998900</td>\n",
       "    </tr>\n",
       "    <tr>\n",
       "      <th>3</th>\n",
       "      <td>1.382304</td>\n",
       "      <td>0.264294</td>\n",
       "      <td>0.996151</td>\n",
       "    </tr>\n",
       "    <tr>\n",
       "      <th>4</th>\n",
       "      <td>0.644349</td>\n",
       "      <td>0.128582</td>\n",
       "      <td>0.890569</td>\n",
       "    </tr>\n",
       "  </tbody>\n",
       "</table>\n",
       "</div>"
      ],
      "text/plain": [
       "   fit_time  score_time  test_score\n",
       "0  0.630337    0.125665    0.782788\n",
       "1  1.401554    0.274003    0.999725\n",
       "2  1.298576    0.259305    0.998900\n",
       "3  1.382304    0.264294    0.996151\n",
       "4  0.644349    0.128582    0.890569"
      ]
     },
     "execution_count": 23,
     "metadata": {},
     "output_type": "execute_result"
    }
   ],
   "source": [
    "pd.DataFrame(cross_validate(svm_poly, data_scaled, target, cv=5))"
   ]
  },
  {
   "cell_type": "code",
   "execution_count": 24,
   "id": "e8e52def",
   "metadata": {},
   "outputs": [
    {
     "name": "stdout",
     "output_type": "stream",
     "text": [
      "교차검증 평균: 0.9336266153423152\n"
     ]
    }
   ],
   "source": [
    "print('교차검증 평균:', scores.mean())"
   ]
  },
  {
   "cell_type": "markdown",
   "id": "8bada853",
   "metadata": {},
   "source": [
    "### SVM - rbf (가우시안)"
   ]
  },
  {
   "cell_type": "code",
   "execution_count": 25,
   "id": "2eff5d12",
   "metadata": {},
   "outputs": [],
   "source": [
    "svm_rbf = svm.SVC(kernel='rbf')"
   ]
  },
  {
   "cell_type": "code",
   "execution_count": 26,
   "id": "c22e7b6e",
   "metadata": {},
   "outputs": [],
   "source": [
    "svm_rbf.fit(X_train, y_train)\n",
    "svm_rbf_pred = svm_linear.predict(X_test)"
   ]
  },
  {
   "cell_type": "code",
   "execution_count": 27,
   "id": "517f5494",
   "metadata": {},
   "outputs": [
    {
     "name": "stdout",
     "output_type": "stream",
     "text": [
      "Accuracy: 0.9899193548387096\n",
      "Precision: 0.9867065470255899\n",
      "Recall: 0.9949731903485255\n",
      "roc_auc 0.9893959802875313\n"
     ]
    }
   ],
   "source": [
    "print(\"Accuracy:\",mt.accuracy_score(y_test, svm_rbf_pred))\n",
    "print(\"Precision:\",mt.precision_score(y_test, svm_rbf_pred))\n",
    "print(\"Recall:\",mt.recall_score(y_test, svm_rbf_pred))\n",
    "print(\"roc_auc\",mt.roc_auc_score(y_test, svm_rbf_pred))"
   ]
  },
  {
   "cell_type": "code",
   "execution_count": 28,
   "id": "c8e62f3c",
   "metadata": {},
   "outputs": [
    {
     "data": {
      "text/plain": [
       "array([0.77728897, 0.99972505, 0.9994501 , 0.99807534, 0.90844102])"
      ]
     },
     "execution_count": 28,
     "metadata": {},
     "output_type": "execute_result"
    }
   ],
   "source": [
    "scores = cross_val_score(svm_rbf, data_scaled, target, cv=5)\n",
    "scores"
   ]
  },
  {
   "cell_type": "code",
   "execution_count": 29,
   "id": "164ee5ac",
   "metadata": {},
   "outputs": [
    {
     "data": {
      "text/html": [
       "<div>\n",
       "<style scoped>\n",
       "    .dataframe tbody tr th:only-of-type {\n",
       "        vertical-align: middle;\n",
       "    }\n",
       "\n",
       "    .dataframe tbody tr th {\n",
       "        vertical-align: top;\n",
       "    }\n",
       "\n",
       "    .dataframe thead th {\n",
       "        text-align: right;\n",
       "    }\n",
       "</style>\n",
       "<table border=\"1\" class=\"dataframe\">\n",
       "  <thead>\n",
       "    <tr style=\"text-align: right;\">\n",
       "      <th></th>\n",
       "      <th>fit_time</th>\n",
       "      <th>score_time</th>\n",
       "      <th>test_score</th>\n",
       "    </tr>\n",
       "  </thead>\n",
       "  <tbody>\n",
       "    <tr>\n",
       "      <th>0</th>\n",
       "      <td>0.284144</td>\n",
       "      <td>0.101728</td>\n",
       "      <td>0.777289</td>\n",
       "    </tr>\n",
       "    <tr>\n",
       "      <th>1</th>\n",
       "      <td>1.062701</td>\n",
       "      <td>0.752134</td>\n",
       "      <td>0.999725</td>\n",
       "    </tr>\n",
       "    <tr>\n",
       "      <th>2</th>\n",
       "      <td>0.853716</td>\n",
       "      <td>0.275265</td>\n",
       "      <td>0.999450</td>\n",
       "    </tr>\n",
       "    <tr>\n",
       "      <th>3</th>\n",
       "      <td>0.672205</td>\n",
       "      <td>0.273266</td>\n",
       "      <td>0.998075</td>\n",
       "    </tr>\n",
       "    <tr>\n",
       "      <th>4</th>\n",
       "      <td>0.189572</td>\n",
       "      <td>0.112655</td>\n",
       "      <td>0.908441</td>\n",
       "    </tr>\n",
       "  </tbody>\n",
       "</table>\n",
       "</div>"
      ],
      "text/plain": [
       "   fit_time  score_time  test_score\n",
       "0  0.284144    0.101728    0.777289\n",
       "1  1.062701    0.752134    0.999725\n",
       "2  0.853716    0.275265    0.999450\n",
       "3  0.672205    0.273266    0.998075\n",
       "4  0.189572    0.112655    0.908441"
      ]
     },
     "execution_count": 29,
     "metadata": {},
     "output_type": "execute_result"
    }
   ],
   "source": [
    "pd.DataFrame(cross_validate(svm_rbf, data_scaled, target, cv=5))"
   ]
  },
  {
   "cell_type": "code",
   "execution_count": 30,
   "id": "2ccb665b",
   "metadata": {},
   "outputs": [
    {
     "name": "stdout",
     "output_type": "stream",
     "text": [
      "교차검증 평균: 0.9365960956832555\n"
     ]
    }
   ],
   "source": [
    "print('교차검증 평균:', scores.mean())"
   ]
  }
 ],
 "metadata": {
  "kernelspec": {
   "display_name": "Python 3",
   "language": "python",
   "name": "python3"
  },
  "language_info": {
   "codemirror_mode": {
    "name": "ipython",
    "version": 3
   },
   "file_extension": ".py",
   "mimetype": "text/x-python",
   "name": "python",
   "nbconvert_exporter": "python",
   "pygments_lexer": "ipython3",
   "version": "3.8.3"
  }
 },
 "nbformat": 4,
 "nbformat_minor": 5
}
