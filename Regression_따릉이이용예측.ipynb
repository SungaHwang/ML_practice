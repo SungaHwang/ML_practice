{
 "cells": [
  {
   "cell_type": "markdown",
   "id": "7bcb9214",
   "metadata": {},
   "source": [
    "# 서울시 따릉이 자전거 이용 예측 모델 (Regression practice)"
   ]
  },
  {
   "cell_type": "code",
   "execution_count": 1,
   "id": "dc41c351",
   "metadata": {},
   "outputs": [],
   "source": [
    "import numpy as np\n",
    "import matplotlib.pyplot as plt\n",
    "import pandas as pd\n",
    "import seaborn as sns\n",
    "from scipy import stats\n",
    "%matplotlib inline"
   ]
  },
  {
   "cell_type": "markdown",
   "id": "ab9f34fe",
   "metadata": {},
   "source": [
    "# 데이터 불러오기"
   ]
  },
  {
   "cell_type": "markdown",
   "id": "a7a4f06e",
   "metadata": {},
   "source": [
    "### 데이터 설명(출처: 데이콘)\n",
    "#### train\n",
    "* id: 고유 id\n",
    "* hour: 시간\n",
    "* temperature: 기온\n",
    "* precipitation: 비가 오지 않았으면 0, 비가 오면 1\n",
    "* windspeed: 풍속(평균)\n",
    "* humidity: 습도\n",
    "* visibility: 시정, 시계(특정 기상 상태에 따른 가시성을 의미)\n",
    "* ozone: 오존\n",
    "* pm10: 미세먼지(머리카락 굵기의 1/5 에서 1/7크기의 미세먼지)\n",
    "* pm2.5: 미세먼지(머리카락 굵기의 1/20 에서 1/30 크기의 미세먼지)\n",
    "* count: 시간에 따른 따릉이 대여 수\n",
    "\n",
    "#### test\n",
    "- count 제외하고 train과 동일"
   ]
  },
  {
   "cell_type": "code",
   "execution_count": 109,
   "id": "134b58bc",
   "metadata": {},
   "outputs": [
    {
     "data": {
      "text/html": [
       "<div>\n",
       "<style scoped>\n",
       "    .dataframe tbody tr th:only-of-type {\n",
       "        vertical-align: middle;\n",
       "    }\n",
       "\n",
       "    .dataframe tbody tr th {\n",
       "        vertical-align: top;\n",
       "    }\n",
       "\n",
       "    .dataframe thead th {\n",
       "        text-align: right;\n",
       "    }\n",
       "</style>\n",
       "<table border=\"1\" class=\"dataframe\">\n",
       "  <thead>\n",
       "    <tr style=\"text-align: right;\">\n",
       "      <th></th>\n",
       "      <th>id</th>\n",
       "      <th>hour</th>\n",
       "      <th>hour_bef_temperature</th>\n",
       "      <th>hour_bef_precipitation</th>\n",
       "      <th>hour_bef_windspeed</th>\n",
       "      <th>hour_bef_humidity</th>\n",
       "      <th>hour_bef_visibility</th>\n",
       "      <th>hour_bef_ozone</th>\n",
       "      <th>hour_bef_pm10</th>\n",
       "      <th>hour_bef_pm25</th>\n",
       "      <th>count</th>\n",
       "    </tr>\n",
       "  </thead>\n",
       "  <tbody>\n",
       "    <tr>\n",
       "      <th>0</th>\n",
       "      <td>3</td>\n",
       "      <td>20</td>\n",
       "      <td>16.3</td>\n",
       "      <td>1.0</td>\n",
       "      <td>1.5</td>\n",
       "      <td>89.0</td>\n",
       "      <td>576.0</td>\n",
       "      <td>0.027</td>\n",
       "      <td>76.0</td>\n",
       "      <td>33.0</td>\n",
       "      <td>49</td>\n",
       "    </tr>\n",
       "    <tr>\n",
       "      <th>1</th>\n",
       "      <td>6</td>\n",
       "      <td>13</td>\n",
       "      <td>20.1</td>\n",
       "      <td>0.0</td>\n",
       "      <td>1.4</td>\n",
       "      <td>48.0</td>\n",
       "      <td>916.0</td>\n",
       "      <td>0.042</td>\n",
       "      <td>73.0</td>\n",
       "      <td>40.0</td>\n",
       "      <td>159</td>\n",
       "    </tr>\n",
       "    <tr>\n",
       "      <th>2</th>\n",
       "      <td>7</td>\n",
       "      <td>6</td>\n",
       "      <td>13.9</td>\n",
       "      <td>0.0</td>\n",
       "      <td>0.7</td>\n",
       "      <td>79.0</td>\n",
       "      <td>1382.0</td>\n",
       "      <td>0.033</td>\n",
       "      <td>32.0</td>\n",
       "      <td>19.0</td>\n",
       "      <td>26</td>\n",
       "    </tr>\n",
       "    <tr>\n",
       "      <th>3</th>\n",
       "      <td>8</td>\n",
       "      <td>23</td>\n",
       "      <td>8.1</td>\n",
       "      <td>0.0</td>\n",
       "      <td>2.7</td>\n",
       "      <td>54.0</td>\n",
       "      <td>946.0</td>\n",
       "      <td>0.040</td>\n",
       "      <td>75.0</td>\n",
       "      <td>64.0</td>\n",
       "      <td>57</td>\n",
       "    </tr>\n",
       "    <tr>\n",
       "      <th>4</th>\n",
       "      <td>9</td>\n",
       "      <td>18</td>\n",
       "      <td>29.5</td>\n",
       "      <td>0.0</td>\n",
       "      <td>4.8</td>\n",
       "      <td>7.0</td>\n",
       "      <td>2000.0</td>\n",
       "      <td>0.057</td>\n",
       "      <td>27.0</td>\n",
       "      <td>11.0</td>\n",
       "      <td>431</td>\n",
       "    </tr>\n",
       "  </tbody>\n",
       "</table>\n",
       "</div>"
      ],
      "text/plain": [
       "   id  hour  hour_bef_temperature  hour_bef_precipitation  hour_bef_windspeed  \\\n",
       "0   3    20                  16.3                     1.0                 1.5   \n",
       "1   6    13                  20.1                     0.0                 1.4   \n",
       "2   7     6                  13.9                     0.0                 0.7   \n",
       "3   8    23                   8.1                     0.0                 2.7   \n",
       "4   9    18                  29.5                     0.0                 4.8   \n",
       "\n",
       "   hour_bef_humidity  hour_bef_visibility  hour_bef_ozone  hour_bef_pm10  \\\n",
       "0               89.0                576.0           0.027           76.0   \n",
       "1               48.0                916.0           0.042           73.0   \n",
       "2               79.0               1382.0           0.033           32.0   \n",
       "3               54.0                946.0           0.040           75.0   \n",
       "4                7.0               2000.0           0.057           27.0   \n",
       "\n",
       "   hour_bef_pm25  count  \n",
       "0           33.0     49  \n",
       "1           40.0    159  \n",
       "2           19.0     26  \n",
       "3           64.0     57  \n",
       "4           11.0    431  "
      ]
     },
     "execution_count": 109,
     "metadata": {},
     "output_type": "execute_result"
    }
   ],
   "source": [
    "train= pd.read_csv('C:/Users/82102/Desktop/따릉이/train.csv')\n",
    "train.head()"
   ]
  },
  {
   "cell_type": "code",
   "execution_count": 3,
   "id": "0624d20d",
   "metadata": {},
   "outputs": [
    {
     "data": {
      "text/html": [
       "<div>\n",
       "<style scoped>\n",
       "    .dataframe tbody tr th:only-of-type {\n",
       "        vertical-align: middle;\n",
       "    }\n",
       "\n",
       "    .dataframe tbody tr th {\n",
       "        vertical-align: top;\n",
       "    }\n",
       "\n",
       "    .dataframe thead th {\n",
       "        text-align: right;\n",
       "    }\n",
       "</style>\n",
       "<table border=\"1\" class=\"dataframe\">\n",
       "  <thead>\n",
       "    <tr style=\"text-align: right;\">\n",
       "      <th></th>\n",
       "      <th>id</th>\n",
       "      <th>hour</th>\n",
       "      <th>hour_bef_temperature</th>\n",
       "      <th>hour_bef_precipitation</th>\n",
       "      <th>hour_bef_windspeed</th>\n",
       "      <th>hour_bef_humidity</th>\n",
       "      <th>hour_bef_visibility</th>\n",
       "      <th>hour_bef_ozone</th>\n",
       "      <th>hour_bef_pm10</th>\n",
       "      <th>hour_bef_pm25</th>\n",
       "    </tr>\n",
       "  </thead>\n",
       "  <tbody>\n",
       "    <tr>\n",
       "      <th>0</th>\n",
       "      <td>0</td>\n",
       "      <td>7</td>\n",
       "      <td>20.7</td>\n",
       "      <td>0.0</td>\n",
       "      <td>1.3</td>\n",
       "      <td>62.0</td>\n",
       "      <td>954.0</td>\n",
       "      <td>0.041</td>\n",
       "      <td>44.0</td>\n",
       "      <td>27.0</td>\n",
       "    </tr>\n",
       "    <tr>\n",
       "      <th>1</th>\n",
       "      <td>1</td>\n",
       "      <td>17</td>\n",
       "      <td>30.0</td>\n",
       "      <td>0.0</td>\n",
       "      <td>5.4</td>\n",
       "      <td>33.0</td>\n",
       "      <td>1590.0</td>\n",
       "      <td>0.061</td>\n",
       "      <td>49.0</td>\n",
       "      <td>36.0</td>\n",
       "    </tr>\n",
       "    <tr>\n",
       "      <th>2</th>\n",
       "      <td>2</td>\n",
       "      <td>13</td>\n",
       "      <td>19.0</td>\n",
       "      <td>1.0</td>\n",
       "      <td>2.1</td>\n",
       "      <td>95.0</td>\n",
       "      <td>193.0</td>\n",
       "      <td>0.020</td>\n",
       "      <td>36.0</td>\n",
       "      <td>28.0</td>\n",
       "    </tr>\n",
       "    <tr>\n",
       "      <th>3</th>\n",
       "      <td>4</td>\n",
       "      <td>6</td>\n",
       "      <td>22.5</td>\n",
       "      <td>0.0</td>\n",
       "      <td>2.5</td>\n",
       "      <td>60.0</td>\n",
       "      <td>1185.0</td>\n",
       "      <td>0.027</td>\n",
       "      <td>52.0</td>\n",
       "      <td>38.0</td>\n",
       "    </tr>\n",
       "    <tr>\n",
       "      <th>4</th>\n",
       "      <td>5</td>\n",
       "      <td>22</td>\n",
       "      <td>14.6</td>\n",
       "      <td>1.0</td>\n",
       "      <td>3.4</td>\n",
       "      <td>93.0</td>\n",
       "      <td>218.0</td>\n",
       "      <td>0.041</td>\n",
       "      <td>18.0</td>\n",
       "      <td>15.0</td>\n",
       "    </tr>\n",
       "  </tbody>\n",
       "</table>\n",
       "</div>"
      ],
      "text/plain": [
       "   id  hour  hour_bef_temperature  hour_bef_precipitation  hour_bef_windspeed  \\\n",
       "0   0     7                  20.7                     0.0                 1.3   \n",
       "1   1    17                  30.0                     0.0                 5.4   \n",
       "2   2    13                  19.0                     1.0                 2.1   \n",
       "3   4     6                  22.5                     0.0                 2.5   \n",
       "4   5    22                  14.6                     1.0                 3.4   \n",
       "\n",
       "   hour_bef_humidity  hour_bef_visibility  hour_bef_ozone  hour_bef_pm10  \\\n",
       "0               62.0                954.0           0.041           44.0   \n",
       "1               33.0               1590.0           0.061           49.0   \n",
       "2               95.0                193.0           0.020           36.0   \n",
       "3               60.0               1185.0           0.027           52.0   \n",
       "4               93.0                218.0           0.041           18.0   \n",
       "\n",
       "   hour_bef_pm25  \n",
       "0           27.0  \n",
       "1           36.0  \n",
       "2           28.0  \n",
       "3           38.0  \n",
       "4           15.0  "
      ]
     },
     "execution_count": 3,
     "metadata": {},
     "output_type": "execute_result"
    }
   ],
   "source": [
    "test= pd.read_csv('C:/Users/82102/Desktop/따릉이/test.csv')\n",
    "test.head()"
   ]
  },
  {
   "cell_type": "markdown",
   "id": "500e95c8",
   "metadata": {},
   "source": [
    "# 데이터 전처리-1"
   ]
  },
  {
   "cell_type": "code",
   "execution_count": 4,
   "id": "6c5c3d07",
   "metadata": {},
   "outputs": [
    {
     "name": "stdout",
     "output_type": "stream",
     "text": [
      "<class 'pandas.core.frame.DataFrame'>\n",
      "RangeIndex: 1459 entries, 0 to 1458\n",
      "Data columns (total 11 columns):\n",
      " #   Column                  Non-Null Count  Dtype  \n",
      "---  ------                  --------------  -----  \n",
      " 0   id                      1459 non-null   int64  \n",
      " 1   hour                    1459 non-null   int64  \n",
      " 2   hour_bef_temperature    1457 non-null   float64\n",
      " 3   hour_bef_precipitation  1457 non-null   float64\n",
      " 4   hour_bef_windspeed      1450 non-null   float64\n",
      " 5   hour_bef_humidity       1457 non-null   float64\n",
      " 6   hour_bef_visibility     1457 non-null   float64\n",
      " 7   hour_bef_ozone          1383 non-null   float64\n",
      " 8   hour_bef_pm10           1369 non-null   float64\n",
      " 9   hour_bef_pm25           1342 non-null   float64\n",
      " 10  count                   1459 non-null   int64  \n",
      "dtypes: float64(8), int64(3)\n",
      "memory usage: 125.5 KB\n"
     ]
    }
   ],
   "source": [
    "train.info()"
   ]
  },
  {
   "cell_type": "markdown",
   "id": "8cf69167",
   "metadata": {},
   "source": [
    "## 결측값 대체"
   ]
  },
  {
   "cell_type": "code",
   "execution_count": 5,
   "id": "7a4dc848",
   "metadata": {},
   "outputs": [
    {
     "data": {
      "text/plain": [
       "id                          0\n",
       "hour                        0\n",
       "hour_bef_temperature        2\n",
       "hour_bef_precipitation      2\n",
       "hour_bef_windspeed          9\n",
       "hour_bef_humidity           2\n",
       "hour_bef_visibility         2\n",
       "hour_bef_ozone             76\n",
       "hour_bef_pm10              90\n",
       "hour_bef_pm25             117\n",
       "count                       0\n",
       "dtype: int64"
      ]
     },
     "execution_count": 5,
     "metadata": {},
     "output_type": "execute_result"
    }
   ],
   "source": [
    "# 결측값 확인\n",
    "train.isnull().sum()"
   ]
  },
  {
   "cell_type": "code",
   "execution_count": 6,
   "id": "82b7cfb5",
   "metadata": {},
   "outputs": [],
   "source": [
    "# 결측값을 각 열 데이터의 평균값으로 대체\n",
    "train = train.fillna({'hour_bef_temperature': train['hour_bef_temperature'].mean()})\n",
    "train = train.dropna(subset = ['hour_bef_precipitation'])\n",
    "train = train.fillna({'hour_bef_windspeed': train['hour_bef_windspeed'].mean()})\n",
    "train = train.fillna({'hour_bef_humidity': train['hour_bef_humidity'].mean()})\n",
    "train = train.fillna({'hour_bef_visibility': train['hour_bef_visibility'].mean()})\n",
    "train = train.fillna({'hour_bef_ozone': train['hour_bef_ozone'].mean()})\n",
    "train = train.fillna({'hour_bef_pm10': train['hour_bef_pm10'].mean()})\n",
    "train = train.fillna({'hour_bef_pm25': train['hour_bef_pm25'].mean()})"
   ]
  },
  {
   "cell_type": "code",
   "execution_count": 7,
   "id": "41398675",
   "metadata": {},
   "outputs": [
    {
     "data": {
      "text/plain": [
       "id                        0\n",
       "hour                      0\n",
       "hour_bef_temperature      0\n",
       "hour_bef_precipitation    0\n",
       "hour_bef_windspeed        0\n",
       "hour_bef_humidity         0\n",
       "hour_bef_visibility       0\n",
       "hour_bef_ozone            0\n",
       "hour_bef_pm10             0\n",
       "hour_bef_pm25             0\n",
       "count                     0\n",
       "dtype: int64"
      ]
     },
     "execution_count": 7,
     "metadata": {},
     "output_type": "execute_result"
    }
   ],
   "source": [
    "train.isnull().sum()"
   ]
  },
  {
   "cell_type": "markdown",
   "id": "15bc3875",
   "metadata": {},
   "source": [
    "# 회귀 진단 및 변수 제거"
   ]
  },
  {
   "cell_type": "code",
   "execution_count": 8,
   "id": "8eeead7e",
   "metadata": {},
   "outputs": [],
   "source": [
    "from statsmodels.formula.api import ols"
   ]
  },
  {
   "cell_type": "code",
   "execution_count": 9,
   "id": "1768d26b",
   "metadata": {},
   "outputs": [],
   "source": [
    "fit = ols(formula = 'count~ hour+ hour_bef_temperature+ hour_bef_precipitation+ hour_bef_windspeed+ hour_bef_humidity+ hour_bef_visibility+ hour_bef_ozone+ hour_bef_pm10+ hour_bef_pm25', data = train).fit()"
   ]
  },
  {
   "cell_type": "code",
   "execution_count": 10,
   "id": "081814df",
   "metadata": {},
   "outputs": [
    {
     "name": "stdout",
     "output_type": "stream",
     "text": [
      "                            OLS Regression Results                            \n",
      "==============================================================================\n",
      "Dep. Variable:                  count   R-squared:                       0.602\n",
      "Model:                            OLS   Adj. R-squared:                  0.599\n",
      "Method:                 Least Squares   F-statistic:                     242.7\n",
      "Date:                Sat, 17 Jul 2021   Prob (F-statistic):          1.16e-281\n",
      "Time:                        15:36:55   Log-Likelihood:                -7828.2\n",
      "No. Observations:                1457   AIC:                         1.568e+04\n",
      "Df Residuals:                    1447   BIC:                         1.573e+04\n",
      "Df Model:                           9                                         \n",
      "Covariance Type:            nonrobust                                         \n",
      "==========================================================================================\n",
      "                             coef    std err          t      P>|t|      [0.025      0.975]\n",
      "------------------------------------------------------------------------------------------\n",
      "Intercept                -36.8089     17.472     -2.107      0.035     -71.082      -2.535\n",
      "hour                       4.7257      0.235     20.071      0.000       4.264       5.188\n",
      "hour_bef_temperature       5.2922      0.344     15.363      0.000       4.617       5.968\n",
      "hour_bef_precipitation   -54.5157      8.352     -6.527      0.000     -70.900     -38.132\n",
      "hour_bef_windspeed         4.7610      1.305      3.649      0.000       2.202       7.321\n",
      "hour_bef_humidity         -0.2781      0.116     -2.388      0.017      -0.507      -0.050\n",
      "hour_bef_visibility        0.0054      0.004      1.263      0.207      -0.003       0.014\n",
      "hour_bef_ozone           338.2612     94.957      3.562      0.000     151.993     524.530\n",
      "hour_bef_pm10             -0.3046      0.056     -5.407      0.000      -0.415      -0.194\n",
      "hour_bef_pm25              0.1218      0.136      0.895      0.371      -0.145       0.388\n",
      "==============================================================================\n",
      "Omnibus:                      205.065   Durbin-Watson:                   1.983\n",
      "Prob(Omnibus):                  0.000   Jarque-Bera (JB):              343.623\n",
      "Skew:                           0.922   Prob(JB):                     2.42e-75\n",
      "Kurtosis:                       4.504   Cond. No.                     1.06e+05\n",
      "==============================================================================\n",
      "\n",
      "Warnings:\n",
      "[1] Standard Errors assume that the covariance matrix of the errors is correctly specified.\n",
      "[2] The condition number is large, 1.06e+05. This might indicate that there are\n",
      "strong multicollinearity or other numerical problems.\n"
     ]
    }
   ],
   "source": [
    "print(fit.summary())"
   ]
  },
  {
   "cell_type": "markdown",
   "id": "f6f239f7",
   "metadata": {},
   "source": [
    "+ 다중공선성 보임-> 정규화 필요\n",
    "+ 유의수준 20% 하에서 hour_bef_visibility, hour_bef_pm2.5 변수 제거"
   ]
  },
  {
   "cell_type": "code",
   "execution_count": 110,
   "id": "8a21c20e",
   "metadata": {},
   "outputs": [
    {
     "data": {
      "text/html": [
       "<div>\n",
       "<style scoped>\n",
       "    .dataframe tbody tr th:only-of-type {\n",
       "        vertical-align: middle;\n",
       "    }\n",
       "\n",
       "    .dataframe tbody tr th {\n",
       "        vertical-align: top;\n",
       "    }\n",
       "\n",
       "    .dataframe thead th {\n",
       "        text-align: right;\n",
       "    }\n",
       "</style>\n",
       "<table border=\"1\" class=\"dataframe\">\n",
       "  <thead>\n",
       "    <tr style=\"text-align: right;\">\n",
       "      <th></th>\n",
       "      <th>hour</th>\n",
       "      <th>hour_bef_temperature</th>\n",
       "      <th>hour_bef_precipitation</th>\n",
       "      <th>hour_bef_windspeed</th>\n",
       "      <th>hour_bef_humidity</th>\n",
       "      <th>hour_bef_ozone</th>\n",
       "      <th>hour_bef_pm10</th>\n",
       "      <th>count</th>\n",
       "    </tr>\n",
       "  </thead>\n",
       "  <tbody>\n",
       "    <tr>\n",
       "      <th>0</th>\n",
       "      <td>20</td>\n",
       "      <td>16.3</td>\n",
       "      <td>1.0</td>\n",
       "      <td>1.5</td>\n",
       "      <td>89.0</td>\n",
       "      <td>0.027</td>\n",
       "      <td>76.0</td>\n",
       "      <td>49</td>\n",
       "    </tr>\n",
       "    <tr>\n",
       "      <th>1</th>\n",
       "      <td>13</td>\n",
       "      <td>20.1</td>\n",
       "      <td>0.0</td>\n",
       "      <td>1.4</td>\n",
       "      <td>48.0</td>\n",
       "      <td>0.042</td>\n",
       "      <td>73.0</td>\n",
       "      <td>159</td>\n",
       "    </tr>\n",
       "    <tr>\n",
       "      <th>2</th>\n",
       "      <td>6</td>\n",
       "      <td>13.9</td>\n",
       "      <td>0.0</td>\n",
       "      <td>0.7</td>\n",
       "      <td>79.0</td>\n",
       "      <td>0.033</td>\n",
       "      <td>32.0</td>\n",
       "      <td>26</td>\n",
       "    </tr>\n",
       "    <tr>\n",
       "      <th>3</th>\n",
       "      <td>23</td>\n",
       "      <td>8.1</td>\n",
       "      <td>0.0</td>\n",
       "      <td>2.7</td>\n",
       "      <td>54.0</td>\n",
       "      <td>0.040</td>\n",
       "      <td>75.0</td>\n",
       "      <td>57</td>\n",
       "    </tr>\n",
       "    <tr>\n",
       "      <th>4</th>\n",
       "      <td>18</td>\n",
       "      <td>29.5</td>\n",
       "      <td>0.0</td>\n",
       "      <td>4.8</td>\n",
       "      <td>7.0</td>\n",
       "      <td>0.057</td>\n",
       "      <td>27.0</td>\n",
       "      <td>431</td>\n",
       "    </tr>\n",
       "    <tr>\n",
       "      <th>...</th>\n",
       "      <td>...</td>\n",
       "      <td>...</td>\n",
       "      <td>...</td>\n",
       "      <td>...</td>\n",
       "      <td>...</td>\n",
       "      <td>...</td>\n",
       "      <td>...</td>\n",
       "      <td>...</td>\n",
       "    </tr>\n",
       "    <tr>\n",
       "      <th>1454</th>\n",
       "      <td>4</td>\n",
       "      <td>16.8</td>\n",
       "      <td>0.0</td>\n",
       "      <td>1.6</td>\n",
       "      <td>53.0</td>\n",
       "      <td>0.031</td>\n",
       "      <td>37.0</td>\n",
       "      <td>21</td>\n",
       "    </tr>\n",
       "    <tr>\n",
       "      <th>1455</th>\n",
       "      <td>3</td>\n",
       "      <td>10.8</td>\n",
       "      <td>0.0</td>\n",
       "      <td>3.8</td>\n",
       "      <td>45.0</td>\n",
       "      <td>0.039</td>\n",
       "      <td>34.0</td>\n",
       "      <td>20</td>\n",
       "    </tr>\n",
       "    <tr>\n",
       "      <th>1456</th>\n",
       "      <td>5</td>\n",
       "      <td>18.3</td>\n",
       "      <td>0.0</td>\n",
       "      <td>1.9</td>\n",
       "      <td>54.0</td>\n",
       "      <td>0.009</td>\n",
       "      <td>30.0</td>\n",
       "      <td>22</td>\n",
       "    </tr>\n",
       "    <tr>\n",
       "      <th>1457</th>\n",
       "      <td>21</td>\n",
       "      <td>20.7</td>\n",
       "      <td>0.0</td>\n",
       "      <td>3.7</td>\n",
       "      <td>37.0</td>\n",
       "      <td>0.082</td>\n",
       "      <td>71.0</td>\n",
       "      <td>216</td>\n",
       "    </tr>\n",
       "    <tr>\n",
       "      <th>1458</th>\n",
       "      <td>17</td>\n",
       "      <td>21.1</td>\n",
       "      <td>0.0</td>\n",
       "      <td>3.1</td>\n",
       "      <td>47.0</td>\n",
       "      <td>0.046</td>\n",
       "      <td>38.0</td>\n",
       "      <td>170</td>\n",
       "    </tr>\n",
       "  </tbody>\n",
       "</table>\n",
       "<p>1459 rows × 8 columns</p>\n",
       "</div>"
      ],
      "text/plain": [
       "      hour  hour_bef_temperature  hour_bef_precipitation  hour_bef_windspeed  \\\n",
       "0       20                  16.3                     1.0                 1.5   \n",
       "1       13                  20.1                     0.0                 1.4   \n",
       "2        6                  13.9                     0.0                 0.7   \n",
       "3       23                   8.1                     0.0                 2.7   \n",
       "4       18                  29.5                     0.0                 4.8   \n",
       "...    ...                   ...                     ...                 ...   \n",
       "1454     4                  16.8                     0.0                 1.6   \n",
       "1455     3                  10.8                     0.0                 3.8   \n",
       "1456     5                  18.3                     0.0                 1.9   \n",
       "1457    21                  20.7                     0.0                 3.7   \n",
       "1458    17                  21.1                     0.0                 3.1   \n",
       "\n",
       "      hour_bef_humidity  hour_bef_ozone  hour_bef_pm10  count  \n",
       "0                  89.0           0.027           76.0     49  \n",
       "1                  48.0           0.042           73.0    159  \n",
       "2                  79.0           0.033           32.0     26  \n",
       "3                  54.0           0.040           75.0     57  \n",
       "4                   7.0           0.057           27.0    431  \n",
       "...                 ...             ...            ...    ...  \n",
       "1454               53.0           0.031           37.0     21  \n",
       "1455               45.0           0.039           34.0     20  \n",
       "1456               54.0           0.009           30.0     22  \n",
       "1457               37.0           0.082           71.0    216  \n",
       "1458               47.0           0.046           38.0    170  \n",
       "\n",
       "[1459 rows x 8 columns]"
      ]
     },
     "execution_count": 110,
     "metadata": {},
     "output_type": "execute_result"
    }
   ],
   "source": [
    "train= train.drop('hour_bef_visibility',axis=1)\n",
    "train= train.drop('id',axis=1)\n",
    "train =train.drop('hour_bef_pm25', axis=1)\n",
    "train"
   ]
  },
  {
   "cell_type": "code",
   "execution_count": 57,
   "id": "095662b6",
   "metadata": {},
   "outputs": [],
   "source": [
    "fit1 = ols(formula = 'count~ hour+ hour_bef_temperature+ hour_bef_precipitation+ hour_bef_windspeed+ hour_bef_humidity+ hour_bef_ozone+ hour_bef_pm10', data = train).fit()"
   ]
  },
  {
   "cell_type": "code",
   "execution_count": 58,
   "id": "0b16b7ee",
   "metadata": {},
   "outputs": [],
   "source": [
    "fitted = fit1.predict(train)"
   ]
  },
  {
   "cell_type": "code",
   "execution_count": 59,
   "id": "a51d6b7a",
   "metadata": {},
   "outputs": [],
   "source": [
    "residual = train['count']- fitted"
   ]
  },
  {
   "cell_type": "markdown",
   "id": "28b83e09",
   "metadata": {},
   "source": [
    "## 모형의 선형성"
   ]
  },
  {
   "cell_type": "code",
   "execution_count": 60,
   "id": "893a146a",
   "metadata": {},
   "outputs": [
    {
     "data": {
      "text/plain": [
       "[<matplotlib.lines.Line2D at 0x20add140d00>]"
      ]
     },
     "execution_count": 60,
     "metadata": {},
     "output_type": "execute_result"
    },
    {
     "data": {
      "image/png": "[encoded data removed]",
      "text/plain": [
       "<Figure size 432x288 with 1 Axes>"
      ]
     },
     "metadata": {
      "needs_background": "light"
     },
     "output_type": "display_data"
    }
   ],
   "source": [
    "sns.regplot(fitted, residual, lowess=True, line_kws={'color': 'red'})\n",
    "plt.plot([fitted.min(), fitted.max()], [0,0], '--', color='grey')"
   ]
  },
  {
   "cell_type": "markdown",
   "id": "fe7ce894",
   "metadata": {},
   "source": [
    "* 예측값과 잔차 비교\n",
    "* 빨간 실선이 점선에서 크게 벗어난다면 예측값에 따라 잔차가 크게 달라진다는 것으로 선형성이 없다는 뜻"
   ]
  },
  {
   "cell_type": "markdown",
   "id": "5f23ea2c",
   "metadata": {},
   "source": [
    "-> 약간 만족..?"
   ]
  },
  {
   "cell_type": "markdown",
   "id": "f0e196cb",
   "metadata": {},
   "source": [
    "## 잔차의 정규성"
   ]
  },
  {
   "cell_type": "code",
   "execution_count": 61,
   "id": "8be690df",
   "metadata": {},
   "outputs": [],
   "source": [
    "import scipy.stats\n",
    "from scipy.stats import probplot\n",
    "sr = scipy.stats.zscore(residual)"
   ]
  },
  {
   "cell_type": "code",
   "execution_count": 62,
   "id": "ec6a8714",
   "metadata": {},
   "outputs": [
    {
     "data": {
      "text/plain": [
       "array([-0.29661117,  0.60152587, -0.60673461, ..., -1.17678845,\n",
       "        0.35826757, -0.05215576])"
      ]
     },
     "execution_count": 62,
     "metadata": {},
     "output_type": "execute_result"
    }
   ],
   "source": [
    "sr = scipy.stats.zscore(residual)\n",
    "sr"
   ]
  },
  {
   "cell_type": "code",
   "execution_count": 63,
   "id": "f3acdbf5",
   "metadata": {},
   "outputs": [
    {
     "data": {
      "text/plain": [
       "[<matplotlib.lines.Line2D at 0x20adf6e8490>]"
      ]
     },
     "execution_count": 63,
     "metadata": {},
     "output_type": "execute_result"
    },
    {
     "data": {
      "image/png": "[encoded data removed]",
      "text/plain": [
       "<Figure size 432x288 with 1 Axes>"
      ]
     },
     "metadata": {
      "needs_background": "light"
     },
     "output_type": "display_data"
    }
   ],
   "source": [
    "(x, y),_ = scipy.stats.probplot(sr)\n",
    "sns.scatterplot(x,y)\n",
    "plt.plot([-3,3], [-3,3], '--', color='grey')"
   ]
  },
  {
   "cell_type": "markdown",
   "id": "c1b33bce",
   "metadata": {},
   "source": [
    "* 잔차가 정규분포를 띄면 qq plot에서 점들이 점선을 따라 배치되어 있어야 함"
   ]
  },
  {
   "cell_type": "code",
   "execution_count": 64,
   "id": "90ec1e3b",
   "metadata": {},
   "outputs": [
    {
     "data": {
      "text/plain": [
       "ShapiroResult(statistic=0.9459173083305359, pvalue=1.0744704572023034e-22)"
      ]
     },
     "execution_count": 64,
     "metadata": {},
     "output_type": "execute_result"
    }
   ],
   "source": [
    "scipy.stats.shapiro(residual)"
   ]
  },
  {
   "cell_type": "markdown",
   "id": "6cee286e",
   "metadata": {},
   "source": [
    "* pvalue 값이 1.0744704572023034e-22 으로 유의수준 5%에서 잔차의 정규성 위배"
   ]
  },
  {
   "cell_type": "markdown",
   "id": "b911c79c",
   "metadata": {},
   "source": [
    "## 잔차의 등분산성"
   ]
  },
  {
   "cell_type": "code",
   "execution_count": 65,
   "id": "6d399398",
   "metadata": {},
   "outputs": [
    {
     "data": {
      "text/plain": [
       "<matplotlib.axes._subplots.AxesSubplot at 0x20adf75a310>"
      ]
     },
     "execution_count": 65,
     "metadata": {},
     "output_type": "execute_result"
    },
    {
     "data": {
      "image/png": "[encoded data removed]",
      "text/plain": [
       "<Figure size 432x288 with 1 Axes>"
      ]
     },
     "metadata": {
      "needs_background": "light"
     },
     "output_type": "display_data"
    }
   ],
   "source": [
    "sns.regplot(fitted, np.sqrt(np.abs(sr)), lowess = True, line_kws = {'color': 'red'})"
   ]
  },
  {
   "cell_type": "markdown",
   "id": "6e781db6",
   "metadata": {},
   "source": [
    "* 빨간색 실선이 수평선에 가까울수록 등분산성을 만족"
   ]
  },
  {
   "cell_type": "markdown",
   "id": "d87bf043",
   "metadata": {},
   "source": [
    "-> 그닥 만족하지 않는듯..?"
   ]
  },
  {
   "cell_type": "markdown",
   "id": "fe4cbf3b",
   "metadata": {},
   "source": [
    "## 잔차의 독립성"
   ]
  },
  {
   "cell_type": "markdown",
   "id": "2930599d",
   "metadata": {},
   "source": [
    "* 위에서 구한 Durbin-Watson:1.983 를 이용해서 판단\n",
    "* 보통 1.5~ 2.5 사이면 독립으로 판단하고 회귀모형이 적합하다는 것을 의미-> 독립"
   ]
  },
  {
   "cell_type": "markdown",
   "id": "b32f7faa",
   "metadata": {},
   "source": [
    "### 잔차의 독립성 제외 만족하지 않는 것으로 나타났지만 만족하는 것으로 가정하고 진행함"
   ]
  },
  {
   "cell_type": "markdown",
   "id": "ef0e7f6b",
   "metadata": {},
   "source": [
    "# 데이터 전처리-2"
   ]
  },
  {
   "cell_type": "markdown",
   "id": "8957e59b",
   "metadata": {},
   "source": [
    "## 이상치 제거"
   ]
  },
  {
   "cell_type": "code",
   "execution_count": 112,
   "id": "f7d17e8e",
   "metadata": {},
   "outputs": [
    {
     "data": {
      "text/html": [
       "<div>\n",
       "<style scoped>\n",
       "    .dataframe tbody tr th:only-of-type {\n",
       "        vertical-align: middle;\n",
       "    }\n",
       "\n",
       "    .dataframe tbody tr th {\n",
       "        vertical-align: top;\n",
       "    }\n",
       "\n",
       "    .dataframe thead th {\n",
       "        text-align: right;\n",
       "    }\n",
       "</style>\n",
       "<table border=\"1\" class=\"dataframe\">\n",
       "  <thead>\n",
       "    <tr style=\"text-align: right;\">\n",
       "      <th></th>\n",
       "      <th>hour</th>\n",
       "      <th>hour_bef_temperature</th>\n",
       "      <th>hour_bef_precipitation</th>\n",
       "      <th>hour_bef_windspeed</th>\n",
       "      <th>hour_bef_humidity</th>\n",
       "      <th>hour_bef_ozone</th>\n",
       "      <th>hour_bef_pm10</th>\n",
       "      <th>count</th>\n",
       "    </tr>\n",
       "  </thead>\n",
       "  <tbody>\n",
       "    <tr>\n",
       "      <th>count</th>\n",
       "      <td>1459.000000</td>\n",
       "      <td>1457.000000</td>\n",
       "      <td>1457.000000</td>\n",
       "      <td>1450.000000</td>\n",
       "      <td>1457.000000</td>\n",
       "      <td>1383.000000</td>\n",
       "      <td>1369.000000</td>\n",
       "      <td>1459.000000</td>\n",
       "    </tr>\n",
       "    <tr>\n",
       "      <th>mean</th>\n",
       "      <td>11.493489</td>\n",
       "      <td>16.717433</td>\n",
       "      <td>0.031572</td>\n",
       "      <td>2.479034</td>\n",
       "      <td>52.231297</td>\n",
       "      <td>0.039149</td>\n",
       "      <td>57.168736</td>\n",
       "      <td>108.563400</td>\n",
       "    </tr>\n",
       "    <tr>\n",
       "      <th>std</th>\n",
       "      <td>6.922790</td>\n",
       "      <td>5.239150</td>\n",
       "      <td>0.174917</td>\n",
       "      <td>1.378265</td>\n",
       "      <td>20.370387</td>\n",
       "      <td>0.019509</td>\n",
       "      <td>31.771019</td>\n",
       "      <td>82.631733</td>\n",
       "    </tr>\n",
       "    <tr>\n",
       "      <th>min</th>\n",
       "      <td>0.000000</td>\n",
       "      <td>3.100000</td>\n",
       "      <td>0.000000</td>\n",
       "      <td>0.000000</td>\n",
       "      <td>7.000000</td>\n",
       "      <td>0.003000</td>\n",
       "      <td>9.000000</td>\n",
       "      <td>1.000000</td>\n",
       "    </tr>\n",
       "    <tr>\n",
       "      <th>25%</th>\n",
       "      <td>5.500000</td>\n",
       "      <td>12.800000</td>\n",
       "      <td>0.000000</td>\n",
       "      <td>1.400000</td>\n",
       "      <td>36.000000</td>\n",
       "      <td>0.025500</td>\n",
       "      <td>36.000000</td>\n",
       "      <td>37.000000</td>\n",
       "    </tr>\n",
       "    <tr>\n",
       "      <th>50%</th>\n",
       "      <td>11.000000</td>\n",
       "      <td>16.600000</td>\n",
       "      <td>0.000000</td>\n",
       "      <td>2.300000</td>\n",
       "      <td>51.000000</td>\n",
       "      <td>0.039000</td>\n",
       "      <td>51.000000</td>\n",
       "      <td>96.000000</td>\n",
       "    </tr>\n",
       "    <tr>\n",
       "      <th>75%</th>\n",
       "      <td>17.500000</td>\n",
       "      <td>20.100000</td>\n",
       "      <td>0.000000</td>\n",
       "      <td>3.400000</td>\n",
       "      <td>69.000000</td>\n",
       "      <td>0.052000</td>\n",
       "      <td>69.000000</td>\n",
       "      <td>150.000000</td>\n",
       "    </tr>\n",
       "    <tr>\n",
       "      <th>max</th>\n",
       "      <td>23.000000</td>\n",
       "      <td>30.000000</td>\n",
       "      <td>1.000000</td>\n",
       "      <td>8.000000</td>\n",
       "      <td>99.000000</td>\n",
       "      <td>0.125000</td>\n",
       "      <td>269.000000</td>\n",
       "      <td>431.000000</td>\n",
       "    </tr>\n",
       "  </tbody>\n",
       "</table>\n",
       "</div>"
      ],
      "text/plain": [
       "              hour  hour_bef_temperature  hour_bef_precipitation  \\\n",
       "count  1459.000000           1457.000000             1457.000000   \n",
       "mean     11.493489             16.717433                0.031572   \n",
       "std       6.922790              5.239150                0.174917   \n",
       "min       0.000000              3.100000                0.000000   \n",
       "25%       5.500000             12.800000                0.000000   \n",
       "50%      11.000000             16.600000                0.000000   \n",
       "75%      17.500000             20.100000                0.000000   \n",
       "max      23.000000             30.000000                1.000000   \n",
       "\n",
       "       hour_bef_windspeed  hour_bef_humidity  hour_bef_ozone  hour_bef_pm10  \\\n",
       "count         1450.000000        1457.000000     1383.000000    1369.000000   \n",
       "mean             2.479034          52.231297        0.039149      57.168736   \n",
       "std              1.378265          20.370387        0.019509      31.771019   \n",
       "min              0.000000           7.000000        0.003000       9.000000   \n",
       "25%              1.400000          36.000000        0.025500      36.000000   \n",
       "50%              2.300000          51.000000        0.039000      51.000000   \n",
       "75%              3.400000          69.000000        0.052000      69.000000   \n",
       "max              8.000000          99.000000        0.125000     269.000000   \n",
       "\n",
       "             count  \n",
       "count  1459.000000  \n",
       "mean    108.563400  \n",
       "std      82.631733  \n",
       "min       1.000000  \n",
       "25%      37.000000  \n",
       "50%      96.000000  \n",
       "75%     150.000000  \n",
       "max     431.000000  "
      ]
     },
     "execution_count": 112,
     "metadata": {},
     "output_type": "execute_result"
    }
   ],
   "source": [
    "train.describe()"
   ]
  },
  {
   "cell_type": "markdown",
   "id": "cf22b7ea",
   "metadata": {},
   "source": [
    "* cook's distance는 극단값을 나타내는 지표-> 이상치 제거"
   ]
  },
  {
   "cell_type": "code",
   "execution_count": 66,
   "id": "46b2480c",
   "metadata": {},
   "outputs": [],
   "source": [
    "from statsmodels.stats.outliers_influence import OLSInfluence"
   ]
  },
  {
   "cell_type": "code",
   "execution_count": 67,
   "id": "21b1a401",
   "metadata": {},
   "outputs": [
    {
     "data": {
      "text/plain": [
       "309     0.030960\n",
       "325     0.013468\n",
       "765     0.011718\n",
       "1288    0.011301\n",
       "803     0.011260\n",
       "dtype: float64"
      ]
     },
     "execution_count": 67,
     "metadata": {},
     "output_type": "execute_result"
    }
   ],
   "source": [
    "cd,_ = OLSInfluence(fit1).cooks_distance\n",
    "cd.sort_values(ascending=False).head()"
   ]
  },
  {
   "cell_type": "markdown",
   "id": "6326d6d3",
   "metadata": {},
   "source": [
    "* 309, 325, 765, 4, 803 행이 이상치"
   ]
  },
  {
   "cell_type": "code",
   "execution_count": 68,
   "id": "7483422d",
   "metadata": {},
   "outputs": [],
   "source": [
    "train_new = train.drop(index=309, axis=0)\n",
    "train_new = train.drop(index=325, axis=0)\n",
    "train_new = train.drop(index=765, axis=0)\n",
    "train_new = train.drop(index=1288, axis=0)\n",
    "train_new = train.drop(index=803, axis=0)"
   ]
  },
  {
   "cell_type": "markdown",
   "id": "0921fb76",
   "metadata": {},
   "source": [
    "# 데이터 탐색 및 시각화"
   ]
  },
  {
   "cell_type": "code",
   "execution_count": 71,
   "id": "afdcb346",
   "metadata": {},
   "outputs": [
    {
     "data": {
      "text/plain": [
       "hour\n",
       "0      72.322034\n",
       "1      47.606557\n",
       "2      31.409836\n",
       "3      21.377049\n",
       "4      13.524590\n",
       "5      13.114754\n",
       "6      24.557377\n",
       "7      62.360656\n",
       "8     136.688525\n",
       "9      93.540984\n",
       "10     78.803279\n",
       "11     88.327869\n",
       "12    111.901639\n",
       "13    120.050000\n",
       "14    134.590164\n",
       "15    152.967213\n",
       "16    169.100000\n",
       "17    187.133333\n",
       "18    263.830508\n",
       "19    201.606557\n",
       "20    164.868852\n",
       "21    168.816667\n",
       "22    148.245902\n",
       "23    103.852459\n",
       "Name: count, dtype: float64"
      ]
     },
     "execution_count": 71,
     "metadata": {},
     "output_type": "execute_result"
    }
   ],
   "source": [
    "# 시간별 평균 따릉이 이용량\n",
    "train_new.groupby(['hour'])['count'].mean()"
   ]
  },
  {
   "cell_type": "code",
   "execution_count": 72,
   "id": "26d16a39",
   "metadata": {},
   "outputs": [
    {
     "data": {
      "text/plain": [
       "<matplotlib.axes._subplots.AxesSubplot at 0x20add305130>"
      ]
     },
     "execution_count": 72,
     "metadata": {},
     "output_type": "execute_result"
    },
    {
     "data": {
      "image/png": "[encoded data removed]",
      "text/plain": [
       "<Figure size 432x288 with 1 Axes>"
      ]
     },
     "metadata": {
      "needs_background": "light"
     },
     "output_type": "display_data"
    }
   ],
   "source": [
    "train_new.groupby(['hour'])['count'].mean().plot()"
   ]
  },
  {
   "cell_type": "markdown",
   "id": "41a7e8a7",
   "metadata": {},
   "source": [
    "* 17~18시에 따릉이 이용이 가장 많았고, 5시에 가장 적었다.\n",
    "* 따릉이 이용량이 급격하게 증가한 시간은 8-9시와 17-18시이다. -> 출퇴근 시간과 관련 추측"
   ]
  },
  {
   "cell_type": "code",
   "execution_count": 73,
   "id": "24f71f71",
   "metadata": {},
   "outputs": [
    {
     "data": {
      "text/plain": [
       "<matplotlib.axes._subplots.AxesSubplot at 0x20addfef2b0>"
      ]
     },
     "execution_count": 73,
     "metadata": {},
     "output_type": "execute_result"
    },
    {
     "data": {
      "image/png": "[encoded data removed]",
      "text/plain": [
       "<Figure size 432x288 with 1 Axes>"
      ]
     },
     "metadata": {
      "needs_background": "light"
     },
     "output_type": "display_data"
    }
   ],
   "source": [
    "# 기온별 평균 따릉이 이용량\n",
    "train_new.groupby(['hour_bef_temperature'])['count'].mean().plot()"
   ]
  },
  {
   "cell_type": "markdown",
   "id": "ea949dc2",
   "metadata": {},
   "source": [
    "* 기온이 높을수록 대체적으로 따릉이 이용량이 많음 -> 기온이 높을수록 걷기보다는 따릉이 선호"
   ]
  },
  {
   "cell_type": "code",
   "execution_count": 74,
   "id": "2cc4f821",
   "metadata": {},
   "outputs": [
    {
     "data": {
      "text/plain": [
       "hour_bef_precipitation\n",
       "0.0    110.907801\n",
       "1.0     33.673913\n",
       "Name: count, dtype: float64"
      ]
     },
     "execution_count": 74,
     "metadata": {},
     "output_type": "execute_result"
    }
   ],
   "source": [
    "# 강수량별 평균 따릉이 이용량\n",
    "train_new.groupby(['hour_bef_precipitation'])['count'].mean()"
   ]
  },
  {
   "cell_type": "markdown",
   "id": "03f4e221",
   "metadata": {},
   "source": [
    "* 비가 오지 않을 때 따릉이 이용량이 비가 올 때 보다 압도적으로 많음"
   ]
  },
  {
   "cell_type": "code",
   "execution_count": 75,
   "id": "5e39a3e1",
   "metadata": {},
   "outputs": [
    {
     "data": {
      "text/plain": [
       "<matplotlib.axes._subplots.AxesSubplot at 0x20ade061c70>"
      ]
     },
     "execution_count": 75,
     "metadata": {},
     "output_type": "execute_result"
    },
    {
     "data": {
      "image/png": "[encoded data removed]",
      "text/plain": [
       "<Figure size 432x288 with 1 Axes>"
      ]
     },
     "metadata": {
      "needs_background": "light"
     },
     "output_type": "display_data"
    }
   ],
   "source": [
    "#  풍속별 평균 따릉이 이용량\n",
    "train_new.groupby(['hour_bef_windspeed'])['count'].mean().plot()"
   ]
  },
  {
   "cell_type": "markdown",
   "id": "97530ca8",
   "metadata": {},
   "source": [
    "* 풍속이 7일 때 따릉이 이용량이 가장 많음\n",
    "* 대체적으로 풍속이 4-7일 때 따릉이 이용량 많음"
   ]
  },
  {
   "cell_type": "markdown",
   "id": "1b188997",
   "metadata": {},
   "source": [
    "### 참고: 풍속 정보\n",
    "* 0 고요(calm)\n",
    "* 1 실바람(light air)\n",
    "* 2 남실바람(slight breeze)\n",
    "* 3 산들바람(gentle breeze)\n",
    "* 4 건들바람(moderate breeze)\n",
    "* 5 흔들바람(fresh breeze)\n",
    "* 6 된바람(strong breeze)\n",
    "* 7 센바람(moderate gale)\n",
    "* 8 큰 바람(fresh gale)\n",
    "* 9 큰 센바람(strong gale)\n",
    "* 10 노대바람(whole gale)\n",
    "* 11 왕바람(storm)\n",
    "* 12 싹쓸바람(hurricane)\n",
    "* [네이버 지식백과] 풍속 [wind speed, 風速] (두산백과)\n",
    "\n"
   ]
  },
  {
   "cell_type": "code",
   "execution_count": 76,
   "id": "c9e6e9d6",
   "metadata": {},
   "outputs": [
    {
     "data": {
      "text/plain": [
       "<matplotlib.axes._subplots.AxesSubplot at 0x20adf7bffd0>"
      ]
     },
     "execution_count": 76,
     "metadata": {},
     "output_type": "execute_result"
    },
    {
     "data": {
      "image/png": "[encoded data removed]",
      "text/plain": [
       "<Figure size 432x288 with 1 Axes>"
      ]
     },
     "metadata": {
      "needs_background": "light"
     },
     "output_type": "display_data"
    }
   ],
   "source": [
    "# 습도별 평균 따릉이 이용량\n",
    "train_new.groupby(['hour_bef_humidity'])['count'].mean().plot()"
   ]
  },
  {
   "cell_type": "markdown",
   "id": "0ce300e8",
   "metadata": {},
   "source": [
    "* 습도가 낮을수록 따릉이 이용량 많음\n",
    "* 습도가 10 미만일 때가 압도적으로 많음 (약 10일때는 왜 가장 적을까..?)"
   ]
  },
  {
   "cell_type": "code",
   "execution_count": 78,
   "id": "ef8d12e4",
   "metadata": {},
   "outputs": [
    {
     "data": {
      "text/plain": [
       "<matplotlib.axes._subplots.AxesSubplot at 0x20adf8086d0>"
      ]
     },
     "execution_count": 78,
     "metadata": {},
     "output_type": "execute_result"
    },
    {
     "data": {
      "image/png": "[encoded data removed]",
      "text/plain": [
       "<Figure size 432x288 with 1 Axes>"
      ]
     },
     "metadata": {
      "needs_background": "light"
     },
     "output_type": "display_data"
    }
   ],
   "source": [
    "# 오존농도별 평균 따릉이 이용량\n",
    "train_new.groupby(['hour_bef_ozone'])['count'].mean().plot()"
   ]
  },
  {
   "cell_type": "markdown",
   "id": "3fe67834",
   "metadata": {},
   "source": [
    "* 오존 농도가 많을수록 대체적으로 따릉이 이용량 많음"
   ]
  },
  {
   "cell_type": "code",
   "execution_count": 79,
   "id": "c6f29f92",
   "metadata": {},
   "outputs": [
    {
     "data": {
      "text/plain": [
       "<matplotlib.axes._subplots.AxesSubplot at 0x20adf950460>"
      ]
     },
     "execution_count": 79,
     "metadata": {},
     "output_type": "execute_result"
    },
    {
     "data": {
      "image/png": "[encoded data removed]",
      "text/plain": [
       "<Figure size 432x288 with 1 Axes>"
      ]
     },
     "metadata": {
      "needs_background": "light"
     },
     "output_type": "display_data"
    }
   ],
   "source": [
    "# pm10농도별 평균 따릉이 이용량\n",
    "train_new.groupby(['hour_bef_pm10'])['count'].mean().plot()"
   ]
  },
  {
   "cell_type": "markdown",
   "id": "93857c01",
   "metadata": {},
   "source": [
    "* 미세먼지 pm10농도가 120이하 일 때 그래프가 촘촘한 것을 보아 따릉이 이용량이 많음"
   ]
  },
  {
   "cell_type": "markdown",
   "id": "19fb6ded",
   "metadata": {},
   "source": [
    "# 모델링"
   ]
  },
  {
   "cell_type": "code",
   "execution_count": 80,
   "id": "6ae85bd7",
   "metadata": {},
   "outputs": [],
   "source": [
    "from sklearn.linear_model import LinearRegression"
   ]
  },
  {
   "cell_type": "code",
   "execution_count": 81,
   "id": "3592323a",
   "metadata": {},
   "outputs": [],
   "source": [
    "# count 를 타킷\n",
    "y_target = train_new['count']\n",
    "X_data = train_new.drop(['count'],axis = 1, inplace=False)"
   ]
  },
  {
   "cell_type": "code",
   "execution_count": 166,
   "id": "5ecfa890",
   "metadata": {},
   "outputs": [],
   "source": [
    "columns = ['hour', 'hour_bef_temperature', 'hour_bef_precipitation', 'hour_bef_windspeed', 'hour_bef_humidity','hour_bef_ozone','hour_bef_pm10']"
   ]
  },
  {
   "cell_type": "code",
   "execution_count": 184,
   "id": "b247161f",
   "metadata": {},
   "outputs": [],
   "source": [
    "X_test = test[columns]"
   ]
  },
  {
   "cell_type": "markdown",
   "id": "5fa76b37",
   "metadata": {},
   "source": [
    "## 회귀"
   ]
  },
  {
   "cell_type": "code",
   "execution_count": 191,
   "id": "85a73f03",
   "metadata": {},
   "outputs": [],
   "source": [
    "from sklearn.model_selection import train_test_split\n",
    "from sklearn.metrics import mean_squared_error, r2_score"
   ]
  },
  {
   "cell_type": "code",
   "execution_count": 192,
   "id": "a8c9a1ab",
   "metadata": {},
   "outputs": [],
   "source": [
    "X_train, X_test, y_train, y_test = train_test_split(X_data, y_target, test_size= 0.3, random_state=156)"
   ]
  },
  {
   "cell_type": "code",
   "execution_count": 193,
   "id": "0a62e82f",
   "metadata": {},
   "outputs": [
    {
     "name": "stdout",
     "output_type": "stream",
     "text": [
      "MSE:3024.091, RMSE:54.992\n",
      "Variance score: 0.561\n"
     ]
    }
   ],
   "source": [
    "lr = LinearRegression()\n",
    "lr.fit(X_train, y_train)\n",
    "y_preds = lr.predict(X_test)\n",
    "mse = mean_squared_error(y_test, y_preds)\n",
    "rmse = np.sqrt(mse)\n",
    "\n",
    "print('MSE:{0:.3f}, RMSE:{1:3.3F}'.format(mse, rmse))\n",
    "print('Variance score: {0:.3f}'.format(r2_score(y_test, y_preds)))"
   ]
  },
  {
   "cell_type": "markdown",
   "id": "671bea85",
   "metadata": {},
   "source": [
    "## 릿지회귀"
   ]
  },
  {
   "cell_type": "code",
   "execution_count": 82,
   "id": "d4c8b7d0",
   "metadata": {},
   "outputs": [],
   "source": [
    "from sklearn.linear_model import Ridge\n",
    "from sklearn.model_selection import cross_val_score"
   ]
  },
  {
   "cell_type": "code",
   "execution_count": 83,
   "id": "4cfb8a04",
   "metadata": {},
   "outputs": [],
   "source": [
    "# alpha =10으로 설정해 릿지 회귀 수행\n",
    "ridge = Ridge(alpha = 10)\n",
    "neg_mse_scores = cross_val_score(ridge, X_data, y_target, scoring = \"neg_mean_squared_error\", cv=5)\n",
    "rmse_scores = np.sqrt(-1 * neg_mse_scores)\n",
    "avg_rmse = np.mean(rmse_scores)"
   ]
  },
  {
   "cell_type": "code",
   "execution_count": 84,
   "id": "e0a81ee5",
   "metadata": {},
   "outputs": [
    {
     "name": "stdout",
     "output_type": "stream",
     "text": [
      "5 folds의 개별 Negative MSE scores: [-2658.061 -3670.408 -2419.785 -2881.725 -2215.848]\n",
      "5 folds의 개별 RMSE scores: [51.556 60.584 49.191 53.682 47.073]\n",
      "5 folds의 평균 RMSEL 52.417\n"
     ]
    }
   ],
   "source": [
    "print ('5 folds의 개별 Negative MSE scores:', np.round(neg_mse_scores,3))\n",
    "print ('5 folds의 개별 RMSE scores:', np.round(rmse_scores,3))\n",
    "print ('5 folds의 평균 RMSEL {0:.3f}'. format(avg_rmse))"
   ]
  },
  {
   "cell_type": "markdown",
   "id": "776265aa",
   "metadata": {},
   "source": [
    "### 릿지의 alpha값을 변화시켜 가면서 RMSE와 회귀계수 살피기"
   ]
  },
  {
   "cell_type": "code",
   "execution_count": 85,
   "id": "4897d85c",
   "metadata": {},
   "outputs": [],
   "source": [
    "# alpha 파라미터 정의\n",
    "alphas = [0.07,0.1,1,10,100]"
   ]
  },
  {
   "cell_type": "code",
   "execution_count": 86,
   "id": "9e0babfd",
   "metadata": {},
   "outputs": [
    {
     "name": "stdout",
     "output_type": "stream",
     "text": [
      "alpha 0.07일 때 5folds의 평균 RMSE: 52.190\n",
      "alpha 0.1일 때 5folds의 평균 RMSE: 52.197\n",
      "alpha 1일 때 5folds의 평균 RMSE: 52.315\n",
      "alpha 10일 때 5folds의 평균 RMSE: 52.417\n",
      "alpha 100일 때 5folds의 평균 RMSE: 52.842\n"
     ]
    }
   ],
   "source": [
    "for alpha in alphas:\n",
    "    ridge = Ridge(alpha= alpha)\n",
    "    \n",
    "    neg_mse_scores = cross_val_score(ridge, X_data, y_target, scoring = \"neg_mean_squared_error\", cv=5)\n",
    "    avg_rmse = np.mean(np.sqrt(-1 * neg_mse_scores))\n",
    "    print('alpha {0}일 때 5folds의 평균 RMSE: {1:.3f}'.format(alpha, avg_rmse))"
   ]
  },
  {
   "cell_type": "markdown",
   "id": "9c85ce74",
   "metadata": {},
   "source": [
    "* alpha가 0.07일 때 가장 좋은 평균 RMSE"
   ]
  },
  {
   "cell_type": "code",
   "execution_count": 87,
   "id": "503d267a",
   "metadata": {},
   "outputs": [
    {
     "data": {
      "image/png": "[encoded data removed]",
      "text/plain": [
       "<Figure size 1296x432 with 5 Axes>"
      ]
     },
     "metadata": {
      "needs_background": "light"
     },
     "output_type": "display_data"
    }
   ],
   "source": [
    "fig, axs = plt.subplots(figsize = (18, 6), nrows=1, ncols =5)\n",
    "coeff_df = pd.DataFrame()\n",
    "\n",
    "for pos, alpha in enumerate(alphas):\n",
    "    ridge = Ridge(alpha = alpha)\n",
    "    ridge.fit(X_data, y_target)\n",
    "    \n",
    "    coeff = pd.Series(data=ridge.coef_, index=X_data.columns)\n",
    "    colname = 'alpha:'+str(alpha)\n",
    "    coeff_df[colname] = coeff\n",
    "    \n",
    "    coeff = coeff.sort_values(ascending=False)\n",
    "    axs[pos].set_title(colname)\n",
    "    axs[pos].set_xlim(-3,3)\n",
    "    sns.barplot(x=coeff.values, y=coeff.index, ax=axs[pos])\n",
    "    \n",
    "plt.show()"
   ]
  },
  {
   "cell_type": "code",
   "execution_count": 88,
   "id": "df1aef2d",
   "metadata": {},
   "outputs": [
    {
     "data": {
      "text/html": [
       "<div>\n",
       "<style scoped>\n",
       "    .dataframe tbody tr th:only-of-type {\n",
       "        vertical-align: middle;\n",
       "    }\n",
       "\n",
       "    .dataframe tbody tr th {\n",
       "        vertical-align: top;\n",
       "    }\n",
       "\n",
       "    .dataframe thead th {\n",
       "        text-align: right;\n",
       "    }\n",
       "</style>\n",
       "<table border=\"1\" class=\"dataframe\">\n",
       "  <thead>\n",
       "    <tr style=\"text-align: right;\">\n",
       "      <th></th>\n",
       "      <th>alpha:0.07</th>\n",
       "      <th>alpha:0.1</th>\n",
       "      <th>alpha:1</th>\n",
       "      <th>alpha:10</th>\n",
       "      <th>alpha:100</th>\n",
       "    </tr>\n",
       "  </thead>\n",
       "  <tbody>\n",
       "    <tr>\n",
       "      <th>hour_bef_ozone</th>\n",
       "      <td>261.516320</td>\n",
       "      <td>242.236965</td>\n",
       "      <td>75.469477</td>\n",
       "      <td>9.638380</td>\n",
       "      <td>1.029773</td>\n",
       "    </tr>\n",
       "    <tr>\n",
       "      <th>hour_bef_temperature</th>\n",
       "      <td>5.248678</td>\n",
       "      <td>5.273255</td>\n",
       "      <td>5.485880</td>\n",
       "      <td>5.570040</td>\n",
       "      <td>5.575178</td>\n",
       "    </tr>\n",
       "    <tr>\n",
       "      <th>hour_bef_windspeed</th>\n",
       "      <td>5.021809</td>\n",
       "      <td>5.107298</td>\n",
       "      <td>5.828537</td>\n",
       "      <td>5.912053</td>\n",
       "      <td>5.190388</td>\n",
       "    </tr>\n",
       "    <tr>\n",
       "      <th>hour</th>\n",
       "      <td>4.742291</td>\n",
       "      <td>4.745404</td>\n",
       "      <td>4.770796</td>\n",
       "      <td>4.764415</td>\n",
       "      <td>4.722306</td>\n",
       "    </tr>\n",
       "    <tr>\n",
       "      <th>id</th>\n",
       "      <td>-0.001507</td>\n",
       "      <td>-0.001474</td>\n",
       "      <td>-0.001173</td>\n",
       "      <td>-0.000926</td>\n",
       "      <td>-0.000522</td>\n",
       "    </tr>\n",
       "    <tr>\n",
       "      <th>hour_bef_pm10</th>\n",
       "      <td>-0.321017</td>\n",
       "      <td>-0.319751</td>\n",
       "      <td>-0.308749</td>\n",
       "      <td>-0.303843</td>\n",
       "      <td>-0.301724</td>\n",
       "    </tr>\n",
       "    <tr>\n",
       "      <th>hour_bef_humidity</th>\n",
       "      <td>-0.375615</td>\n",
       "      <td>-0.376857</td>\n",
       "      <td>-0.390371</td>\n",
       "      <td>-0.425794</td>\n",
       "      <td>-0.522750</td>\n",
       "    </tr>\n",
       "    <tr>\n",
       "      <th>hour_bef_precipitation</th>\n",
       "      <td>-56.154087</td>\n",
       "      <td>-56.131498</td>\n",
       "      <td>-55.056012</td>\n",
       "      <td>-45.125551</td>\n",
       "      <td>-15.997908</td>\n",
       "    </tr>\n",
       "  </tbody>\n",
       "</table>\n",
       "</div>"
      ],
      "text/plain": [
       "                        alpha:0.07   alpha:0.1    alpha:1   alpha:10  \\\n",
       "hour_bef_ozone          261.516320  242.236965  75.469477   9.638380   \n",
       "hour_bef_temperature      5.248678    5.273255   5.485880   5.570040   \n",
       "hour_bef_windspeed        5.021809    5.107298   5.828537   5.912053   \n",
       "hour                      4.742291    4.745404   4.770796   4.764415   \n",
       "id                       -0.001507   -0.001474  -0.001173  -0.000926   \n",
       "hour_bef_pm10            -0.321017   -0.319751  -0.308749  -0.303843   \n",
       "hour_bef_humidity        -0.375615   -0.376857  -0.390371  -0.425794   \n",
       "hour_bef_precipitation  -56.154087  -56.131498 -55.056012 -45.125551   \n",
       "\n",
       "                        alpha:100  \n",
       "hour_bef_ozone           1.029773  \n",
       "hour_bef_temperature     5.575178  \n",
       "hour_bef_windspeed       5.190388  \n",
       "hour                     4.722306  \n",
       "id                      -0.000522  \n",
       "hour_bef_pm10           -0.301724  \n",
       "hour_bef_humidity       -0.522750  \n",
       "hour_bef_precipitation -15.997908  "
      ]
     },
     "execution_count": 88,
     "metadata": {},
     "output_type": "execute_result"
    }
   ],
   "source": [
    "ridge_alphas = [0.07,0.1,1,10,100]\n",
    "sort_column = 'alpha:'+ str(ridge_alphas[0])\n",
    "coeff_df.sort_values(by=sort_column, ascending=False)"
   ]
  },
  {
   "cell_type": "markdown",
   "id": "d42d9ec9",
   "metadata": {},
   "source": [
    "## 라쏘회귀"
   ]
  },
  {
   "cell_type": "code",
   "execution_count": 89,
   "id": "075496cc",
   "metadata": {},
   "outputs": [],
   "source": [
    "from sklearn.linear_model import Lasso, ElasticNet"
   ]
  },
  {
   "cell_type": "code",
   "execution_count": 90,
   "id": "a6e77087",
   "metadata": {},
   "outputs": [],
   "source": [
    "def get_linear_reg_eval(model_name, params = None, X_data_n = None, y_target_n = None, verbose =True, return_coeff=True):\n",
    "    coeff_df = pd.DataFrame()\n",
    "    if verbose : print('###### ', model_name, '######')\n",
    "    for param in params:\n",
    "        if model_name == 'Ridge': model = Ridge(alpha=param)\n",
    "        elif model_name == 'Lasso': model = Lasso(alpha=param)\n",
    "        elif model_name == 'ElasticNet': model = ElasticNet(alpha=param, l1_ratio=0.7)\n",
    "        neg_mse_scores = cross_val_score(model, X_data_n,\n",
    "                                            y_target_n, scoring = \"neg_mean_squared_error\", cv= 5)\n",
    "        avg_rmse = np.mean(np.sqrt(-1*neg_mse_scores))\n",
    "        print('alpha {0}일 때 5 폴드 세트의 평균 RMSE: {1:.3f}'.format(param, avg_rmse))\n",
    "            \n",
    "        model.fit(X_data_n, y_target_n)\n",
    "        if return_coeff:\n",
    "            coeff = pd.Series(data=model.coef_, index=X_data_n.columns)\n",
    "            colname = 'alpha:'+str(param)\n",
    "            coeff_df[colname] = coeff\n",
    "                \n",
    "    return coeff_df"
   ]
  },
  {
   "cell_type": "code",
   "execution_count": 91,
   "id": "1ed4ca59",
   "metadata": {},
   "outputs": [
    {
     "name": "stdout",
     "output_type": "stream",
     "text": [
      "######  Lasso ######\n",
      "alpha 0.07일 때 5 폴드 세트의 평균 RMSE: 52.383\n",
      "alpha 0.1일 때 5 폴드 세트의 평균 RMSE: 52.392\n",
      "alpha 0.5일 때 5 폴드 세트의 평균 RMSE: 52.480\n",
      "alpha 1일 때 5 폴드 세트의 평균 RMSE: 52.766\n",
      "alpha 3일 때 5 폴드 세트의 평균 RMSE: 53.246\n"
     ]
    }
   ],
   "source": [
    "lasso_alphas = [0.07,0.1,0.5,1,3]\n",
    "coeff_lasso_df = get_linear_reg_eval('Lasso', params = lasso_alphas, X_data_n = X_data, y_target_n = y_target)"
   ]
  },
  {
   "cell_type": "markdown",
   "id": "a2a10300",
   "metadata": {},
   "source": [
    "* alpha가 0.07일 때 가장 좋은 평균 RMSE"
   ]
  },
  {
   "cell_type": "code",
   "execution_count": 92,
   "id": "eccbfb17",
   "metadata": {},
   "outputs": [
    {
     "data": {
      "text/html": [
       "<div>\n",
       "<style scoped>\n",
       "    .dataframe tbody tr th:only-of-type {\n",
       "        vertical-align: middle;\n",
       "    }\n",
       "\n",
       "    .dataframe tbody tr th {\n",
       "        vertical-align: top;\n",
       "    }\n",
       "\n",
       "    .dataframe thead th {\n",
       "        text-align: right;\n",
       "    }\n",
       "</style>\n",
       "<table border=\"1\" class=\"dataframe\">\n",
       "  <thead>\n",
       "    <tr style=\"text-align: right;\">\n",
       "      <th></th>\n",
       "      <th>alpha:0.07</th>\n",
       "      <th>alpha:0.1</th>\n",
       "      <th>alpha:0.5</th>\n",
       "      <th>alpha:1</th>\n",
       "      <th>alpha:3</th>\n",
       "    </tr>\n",
       "  </thead>\n",
       "  <tbody>\n",
       "    <tr>\n",
       "      <th>hour_bef_precipitation</th>\n",
       "      <td>-53.912733</td>\n",
       "      <td>-52.794363</td>\n",
       "      <td>-37.882572</td>\n",
       "      <td>-19.242432</td>\n",
       "      <td>-0.000000</td>\n",
       "    </tr>\n",
       "    <tr>\n",
       "      <th>hour_bef_humidity</th>\n",
       "      <td>-0.399535</td>\n",
       "      <td>-0.403478</td>\n",
       "      <td>-0.456052</td>\n",
       "      <td>-0.521773</td>\n",
       "      <td>-0.613500</td>\n",
       "    </tr>\n",
       "    <tr>\n",
       "      <th>hour_bef_pm10</th>\n",
       "      <td>-0.303693</td>\n",
       "      <td>-0.303610</td>\n",
       "      <td>-0.302502</td>\n",
       "      <td>-0.301117</td>\n",
       "      <td>-0.299001</td>\n",
       "    </tr>\n",
       "    <tr>\n",
       "      <th>id</th>\n",
       "      <td>-0.001029</td>\n",
       "      <td>-0.001014</td>\n",
       "      <td>-0.000815</td>\n",
       "      <td>-0.000567</td>\n",
       "      <td>-0.000322</td>\n",
       "    </tr>\n",
       "    <tr>\n",
       "      <th>hour_bef_ozone</th>\n",
       "      <td>0.000000</td>\n",
       "      <td>0.000000</td>\n",
       "      <td>0.000000</td>\n",
       "      <td>0.000000</td>\n",
       "      <td>0.000000</td>\n",
       "    </tr>\n",
       "    <tr>\n",
       "      <th>hour</th>\n",
       "      <td>4.783053</td>\n",
       "      <td>4.781913</td>\n",
       "      <td>4.766735</td>\n",
       "      <td>4.747787</td>\n",
       "      <td>4.774452</td>\n",
       "    </tr>\n",
       "    <tr>\n",
       "      <th>hour_bef_temperature</th>\n",
       "      <td>5.581084</td>\n",
       "      <td>5.580680</td>\n",
       "      <td>5.575309</td>\n",
       "      <td>5.568569</td>\n",
       "      <td>5.535998</td>\n",
       "    </tr>\n",
       "    <tr>\n",
       "      <th>hour_bef_windspeed</th>\n",
       "      <td>6.099128</td>\n",
       "      <td>6.057971</td>\n",
       "      <td>5.509102</td>\n",
       "      <td>4.822903</td>\n",
       "      <td>3.105882</td>\n",
       "    </tr>\n",
       "  </tbody>\n",
       "</table>\n",
       "</div>"
      ],
      "text/plain": [
       "                        alpha:0.07  alpha:0.1  alpha:0.5    alpha:1   alpha:3\n",
       "hour_bef_precipitation  -53.912733 -52.794363 -37.882572 -19.242432 -0.000000\n",
       "hour_bef_humidity        -0.399535  -0.403478  -0.456052  -0.521773 -0.613500\n",
       "hour_bef_pm10            -0.303693  -0.303610  -0.302502  -0.301117 -0.299001\n",
       "id                       -0.001029  -0.001014  -0.000815  -0.000567 -0.000322\n",
       "hour_bef_ozone            0.000000   0.000000   0.000000   0.000000  0.000000\n",
       "hour                      4.783053   4.781913   4.766735   4.747787  4.774452\n",
       "hour_bef_temperature      5.581084   5.580680   5.575309   5.568569  5.535998\n",
       "hour_bef_windspeed        6.099128   6.057971   5.509102   4.822903  3.105882"
      ]
     },
     "execution_count": 92,
     "metadata": {},
     "output_type": "execute_result"
    }
   ],
   "source": [
    "sort_column = 'alpha:'+str(lasso_alphas[0])\n",
    "coeff_lasso_df.sort_values(by=sort_column,ascending=True)"
   ]
  },
  {
   "cell_type": "markdown",
   "id": "f88a3c88",
   "metadata": {},
   "source": [
    "* hour_bef_precipitation 와 hour_bef_ozone 는 0이 됨\n",
    "* 회귀 계수가 0인 피처는 회귀 식에서 제외되면서 피처 선택의 효과를 얻을 수 있음"
   ]
  },
  {
   "cell_type": "markdown",
   "id": "eaa0a65a",
   "metadata": {},
   "source": [
    "## 엘라스틱넷 회귀"
   ]
  },
  {
   "cell_type": "code",
   "execution_count": 93,
   "id": "db353e16",
   "metadata": {},
   "outputs": [
    {
     "name": "stdout",
     "output_type": "stream",
     "text": [
      "######  ElasticNet ######\n",
      "alpha 0.07일 때 5 폴드 세트의 평균 RMSE: 52.544\n",
      "alpha 0.1일 때 5 폴드 세트의 평균 RMSE: 52.620\n",
      "alpha 0.5일 때 5 폴드 세트의 평균 RMSE: 53.010\n",
      "alpha 1.3일 때 5 폴드 세트의 평균 RMSE: 53.168\n"
     ]
    }
   ],
   "source": [
    "# l1_ratio값은 0.7으로 고정\n",
    "elastic_alphas= [0.07,0.1,0.5,1.3]\n",
    "coeff_elastic_df= get_linear_reg_eval('ElasticNet', params= elastic_alphas, X_data_n=X_data, y_target_n=y_target)"
   ]
  },
  {
   "cell_type": "markdown",
   "id": "fe876941",
   "metadata": {},
   "source": [
    "* alpha가 0.07일 때 가장 좋은 평균 RMSE"
   ]
  },
  {
   "cell_type": "code",
   "execution_count": 48,
   "id": "3afc8a1f",
   "metadata": {},
   "outputs": [
    {
     "data": {
      "text/html": [
       "<div>\n",
       "<style scoped>\n",
       "    .dataframe tbody tr th:only-of-type {\n",
       "        vertical-align: middle;\n",
       "    }\n",
       "\n",
       "    .dataframe tbody tr th {\n",
       "        vertical-align: top;\n",
       "    }\n",
       "\n",
       "    .dataframe thead th {\n",
       "        text-align: right;\n",
       "    }\n",
       "</style>\n",
       "<table border=\"1\" class=\"dataframe\">\n",
       "  <thead>\n",
       "    <tr style=\"text-align: right;\">\n",
       "      <th></th>\n",
       "      <th>alpha:0.07</th>\n",
       "      <th>alpha:0.1</th>\n",
       "      <th>alpha:0.5</th>\n",
       "      <th>alpha:1.3</th>\n",
       "    </tr>\n",
       "  </thead>\n",
       "  <tbody>\n",
       "    <tr>\n",
       "      <th>hour_bef_windspeed</th>\n",
       "      <td>5.840061</td>\n",
       "      <td>5.708574</td>\n",
       "      <td>4.805739</td>\n",
       "      <td>3.801052</td>\n",
       "    </tr>\n",
       "    <tr>\n",
       "      <th>hour_bef_temperature</th>\n",
       "      <td>5.650767</td>\n",
       "      <td>5.655272</td>\n",
       "      <td>5.647344</td>\n",
       "      <td>5.593612</td>\n",
       "    </tr>\n",
       "    <tr>\n",
       "      <th>hour</th>\n",
       "      <td>4.723722</td>\n",
       "      <td>4.716208</td>\n",
       "      <td>4.707884</td>\n",
       "      <td>4.736520</td>\n",
       "    </tr>\n",
       "    <tr>\n",
       "      <th>hour_bef_ozone</th>\n",
       "      <td>0.988263</td>\n",
       "      <td>0.020287</td>\n",
       "      <td>0.000000</td>\n",
       "      <td>0.000000</td>\n",
       "    </tr>\n",
       "    <tr>\n",
       "      <th>hour_bef_pm25</th>\n",
       "      <td>0.164066</td>\n",
       "      <td>0.169505</td>\n",
       "      <td>0.177451</td>\n",
       "      <td>0.157119</td>\n",
       "    </tr>\n",
       "    <tr>\n",
       "      <th>hour_bef_visibility</th>\n",
       "      <td>0.005293</td>\n",
       "      <td>0.005582</td>\n",
       "      <td>0.006429</td>\n",
       "      <td>0.006228</td>\n",
       "    </tr>\n",
       "    <tr>\n",
       "      <th>id</th>\n",
       "      <td>-0.000704</td>\n",
       "      <td>-0.000632</td>\n",
       "      <td>-0.000382</td>\n",
       "      <td>-0.000325</td>\n",
       "    </tr>\n",
       "    <tr>\n",
       "      <th>hour_bef_pm10</th>\n",
       "      <td>-0.293178</td>\n",
       "      <td>-0.291510</td>\n",
       "      <td>-0.285045</td>\n",
       "      <td>-0.282444</td>\n",
       "    </tr>\n",
       "    <tr>\n",
       "      <th>hour_bef_humidity</th>\n",
       "      <td>-0.387638</td>\n",
       "      <td>-0.399671</td>\n",
       "      <td>-0.456665</td>\n",
       "      <td>-0.500699</td>\n",
       "    </tr>\n",
       "    <tr>\n",
       "      <th>hour_bef_precipitation</th>\n",
       "      <td>-30.093641</td>\n",
       "      <td>-24.943850</td>\n",
       "      <td>-6.362355</td>\n",
       "      <td>-1.304930</td>\n",
       "    </tr>\n",
       "  </tbody>\n",
       "</table>\n",
       "</div>"
      ],
      "text/plain": [
       "                        alpha:0.07  alpha:0.1  alpha:0.5  alpha:1.3\n",
       "hour_bef_windspeed        5.840061   5.708574   4.805739   3.801052\n",
       "hour_bef_temperature      5.650767   5.655272   5.647344   5.593612\n",
       "hour                      4.723722   4.716208   4.707884   4.736520\n",
       "hour_bef_ozone            0.988263   0.020287   0.000000   0.000000\n",
       "hour_bef_pm25             0.164066   0.169505   0.177451   0.157119\n",
       "hour_bef_visibility       0.005293   0.005582   0.006429   0.006228\n",
       "id                       -0.000704  -0.000632  -0.000382  -0.000325\n",
       "hour_bef_pm10            -0.293178  -0.291510  -0.285045  -0.282444\n",
       "hour_bef_humidity        -0.387638  -0.399671  -0.456665  -0.500699\n",
       "hour_bef_precipitation  -30.093641 -24.943850  -6.362355  -1.304930"
      ]
     },
     "execution_count": 48,
     "metadata": {},
     "output_type": "execute_result"
    }
   ],
   "source": [
    "sort_column = 'alpha:'+str(elastic_alphas[0])\n",
    "coeff_elastic_df.sort_values(by=sort_column, ascending=False)"
   ]
  },
  {
   "cell_type": "markdown",
   "id": "e0b9b9c5",
   "metadata": {},
   "source": [
    "* 릿지회귀의 alpha가 0.07일 때 RMSE 값이 가장 작아 릿지회귀 선택"
   ]
  },
  {
   "cell_type": "markdown",
   "id": "25482389",
   "metadata": {},
   "source": [
    "# 데이터 변환"
   ]
  },
  {
   "cell_type": "code",
   "execution_count": 95,
   "id": "8c06a17d",
   "metadata": {},
   "outputs": [],
   "source": [
    "from sklearn.preprocessing import StandardScaler\n",
    "from sklearn.preprocessing import PolynomialFeatures\n",
    "from sklearn.preprocessing import MinMaxScaler"
   ]
  },
  {
   "cell_type": "code",
   "execution_count": 96,
   "id": "104a9ce0",
   "metadata": {},
   "outputs": [],
   "source": [
    "def get_scaled_data(method='None',p_degree=None, input_data=None):\n",
    "    if method=='Standard':\n",
    "        scaled_data = StandardScaler().fit_transform(input_data)\n",
    "    elif method=='MinMax':\n",
    "        scaled_data = MinMaxScaler().fit_transform(input_data)\n",
    "    elif method=='Log':\n",
    "        scaled_data = np.log1p(input_data)\n",
    "    else:\n",
    "        scaled_data = input_data\n",
    "    \n",
    "    if p_degree != None:\n",
    "        scaled_data = PolynomialFeatures(degree=p_degree,\n",
    "                                        include_bias=False).fit_transform(scaled_data)\n",
    "        \n",
    "    return scaled_data"
   ]
  },
  {
   "cell_type": "markdown",
   "id": "50f961d9",
   "metadata": {},
   "source": [
    "## Ridge의 alpha값을 다르게 적용하고 다양한 데이터 변환 방법에 따른 RMSE 추출"
   ]
  },
  {
   "cell_type": "code",
   "execution_count": 177,
   "id": "3cf525d1",
   "metadata": {},
   "outputs": [
    {
     "name": "stdout",
     "output_type": "stream",
     "text": [
      "n## 변환유형 :None,Polynomial Degree:None\n",
      "alpha 0.1일 때 5 폴드 세트의 평균 RMSE: 52.197\n",
      "alpha 1일 때 5 폴드 세트의 평균 RMSE: 52.315\n",
      "alpha 10일 때 5 폴드 세트의 평균 RMSE: 52.417\n",
      "alpha 100일 때 5 폴드 세트의 평균 RMSE: 52.842\n",
      "n## 변환유형 :Standard,Polynomial Degree:None\n",
      "alpha 0.1일 때 5 폴드 세트의 평균 RMSE: 52.179\n",
      "alpha 1일 때 5 폴드 세트의 평균 RMSE: 52.178\n",
      "alpha 10일 때 5 폴드 세트의 평균 RMSE: 52.172\n",
      "alpha 100일 때 5 폴드 세트의 평균 RMSE: 52.218\n",
      "n## 변환유형 :Standard,Polynomial Degree:2\n",
      "alpha 0.1일 때 5 폴드 세트의 평균 RMSE: 49.252\n",
      "alpha 1일 때 5 폴드 세트의 평균 RMSE: 49.239\n",
      "alpha 10일 때 5 폴드 세트의 평균 RMSE: 49.121\n",
      "alpha 100일 때 5 폴드 세트의 평균 RMSE: 48.898\n",
      "n## 변환유형 :MinMax,Polynomial Degree:None\n",
      "alpha 0.1일 때 5 폴드 세트의 평균 RMSE: 52.177\n",
      "alpha 1일 때 5 폴드 세트의 평균 RMSE: 52.165\n",
      "alpha 10일 때 5 폴드 세트의 평균 RMSE: 52.492\n",
      "alpha 100일 때 5 폴드 세트의 평균 RMSE: 59.153\n",
      "n## 변환유형 :MinMax,Polynomial Degree:2\n",
      "alpha 0.1일 때 5 폴드 세트의 평균 RMSE: 48.742\n",
      "alpha 1일 때 5 폴드 세트의 평균 RMSE: 48.730\n",
      "alpha 10일 때 5 폴드 세트의 평균 RMSE: 50.071\n",
      "alpha 100일 때 5 폴드 세트의 평균 RMSE: 53.135\n",
      "n## 변환유형 :Log,Polynomial Degree:None\n",
      "alpha 0.1일 때 5 폴드 세트의 평균 RMSE: 56.105\n",
      "alpha 1일 때 5 폴드 세트의 평균 RMSE: 56.474\n",
      "alpha 10일 때 5 폴드 세트의 평균 RMSE: 56.741\n",
      "alpha 100일 때 5 폴드 세트의 평균 RMSE: 58.402\n"
     ]
    }
   ],
   "source": [
    "# Ridge의 alpha값을 다르게 적용하고 다양한 데이터 변환 방법에 따른 RMSE 추출\n",
    "alphas = [0.1,1,10,100]\n",
    "\n",
    "scale_methods=[(None,None),('Standard',None),('Standard',2),\n",
    "              ('MinMax',None),('MinMax',2),('Log',None)]\n",
    "for scale_method in scale_methods:\n",
    "    X_data_scaled = get_scaled_data(method=scale_method[0], p_degree=scale_method[1],input_data=X_data)\n",
    "    print('n## 변환유형 :{0},Polynomial Degree:{1}'.format(scale_method[0],scale_method[1]))\n",
    "    get_linear_reg_eval('Ridge',params=alphas,X_data_n=X_data_scaled, y_target_n=y_target,verbose=False,return_coeff=False)"
   ]
  },
  {
   "cell_type": "markdown",
   "id": "05b2a383",
   "metadata": {},
   "source": [
    "* 변환유형 :MinMax,Polynomial Degree:2 일 때 가장 좋음 (최솟값/최댓값 정규화 + 2차 다항식)"
   ]
  },
  {
   "cell_type": "markdown",
   "id": "ae2448a7",
   "metadata": {},
   "source": [
    "# 모델 평가"
   ]
  },
  {
   "cell_type": "code",
   "execution_count": 172,
   "id": "5d515f95",
   "metadata": {},
   "outputs": [],
   "source": [
    "from sklearn.model_selection import KFold\n",
    "from sklearn.model_selection import cross_val_score"
   ]
  },
  {
   "cell_type": "code",
   "execution_count": 194,
   "id": "c79c7390",
   "metadata": {},
   "outputs": [],
   "source": [
    "model_dict = {'LR':LinearRegression()}"
   ]
  },
  {
   "cell_type": "code",
   "execution_count": 195,
   "id": "2e0f6194",
   "metadata": {},
   "outputs": [],
   "source": [
    "k_fold = KFold(n_splits=5, shuffle= True, random_state=10)"
   ]
  },
  {
   "cell_type": "code",
   "execution_count": 196,
   "id": "3bba677c",
   "metadata": {},
   "outputs": [
    {
     "name": "stdout",
     "output_type": "stream",
     "text": [
      "LR 평가 완료\n"
     ]
    }
   ],
   "source": [
    "score = {}\n",
    "\n",
    "for model_name in model_dict.keys():\n",
    "    \n",
    "    model = model_dict[model_name]\n",
    "    \n",
    "    score[model_name] = np.mean(cross_val_score(model, X_train, y_train, scoring = 'neg_mean_squared_error', n_jobs = -1, cv = k_fold))\n",
    "    \n",
    "    print(f'{model_name} 평가 완료')"
   ]
  },
  {
   "cell_type": "code",
   "execution_count": 197,
   "id": "7920915f",
   "metadata": {},
   "outputs": [
    {
     "data": {
      "text/plain": [
       "<matplotlib.axes._subplots.AxesSubplot at 0x20ae0050a30>"
      ]
     },
     "execution_count": 197,
     "metadata": {},
     "output_type": "execute_result"
    },
    {
     "data": {
      "image/png": "[encoded data removed]",
      "text/plain": [
       "<Figure size 432x288 with 1 Axes>"
      ]
     },
     "metadata": {
      "needs_background": "light"
     },
     "output_type": "display_data"
    }
   ],
   "source": [
    "pd.Series(score).plot(kind = 'bar')"
   ]
  }
 ],
 "metadata": {
  "kernelspec": {
   "display_name": "Python 3",
   "language": "python",
   "name": "python3"
  },
  "language_info": {
   "codemirror_mode": {
    "name": "ipython",
    "version": 3
   },
   "file_extension": ".py",
   "mimetype": "text/x-python",
   "name": "python",
   "nbconvert_exporter": "python",
   "pygments_lexer": "ipython3",
   "version": "3.8.3"
  }
 },
 "nbformat": 4,
 "nbformat_minor": 5
}
