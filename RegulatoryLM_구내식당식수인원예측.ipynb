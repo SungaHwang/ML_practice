{
 "cells": [
  {
   "cell_type": "markdown",
   "id": "dbbaa1eb",
   "metadata": {},
   "source": [
    "# 구내식당 식수 인원 예측"
   ]
  },
  {
   "cell_type": "markdown",
   "id": "c4370392",
   "metadata": {},
   "source": [
    "### 규제, 릿지회귀, 라쏘회귀, 엘라스틱넷 회귀 연습"
   ]
  },
  {
   "cell_type": "code",
   "execution_count": 1,
   "id": "0f1a9bac",
   "metadata": {},
   "outputs": [],
   "source": [
    "import numpy as np\n",
    "import matplotlib.pyplot as plt\n",
    "import pandas as pd\n",
    "import seaborn as sns\n",
    "from scipy import stats\n",
    "%matplotlib inline"
   ]
  },
  {
   "cell_type": "markdown",
   "id": "6d63da03",
   "metadata": {},
   "source": [
    "# 데이터 탐색"
   ]
  },
  {
   "cell_type": "markdown",
   "id": "4646208e",
   "metadata": {},
   "source": [
    "### 데이터 설명(출처: 데이콘)\n",
    "* 일자 (삭제)\n",
    "* 요일 (삭제)\n",
    "* 본사정원수 (staff_num)\n",
    "* 본사휴가자수 (break_num)\n",
    "* 본사출장자수 (bussinesstrip_num)\n",
    "* 시간외근무명령서승인건수 (overtime_num)\n",
    "* 현본사소속재택근무자수 (home_num)\n",
    "* 조식메뉴 (삭제)\n",
    "* 중식메뉴 (삭제)\n",
    "* 석식메뉴 (삭제)\n",
    "* 중식계 (lunch)\n",
    "* 석식계 (dinner)"
   ]
  },
  {
   "cell_type": "code",
   "execution_count": 2,
   "id": "183e5178",
   "metadata": {},
   "outputs": [
    {
     "data": {
      "text/html": [
       "<div>\n",
       "<style scoped>\n",
       "    .dataframe tbody tr th:only-of-type {\n",
       "        vertical-align: middle;\n",
       "    }\n",
       "\n",
       "    .dataframe tbody tr th {\n",
       "        vertical-align: top;\n",
       "    }\n",
       "\n",
       "    .dataframe thead th {\n",
       "        text-align: right;\n",
       "    }\n",
       "</style>\n",
       "<table border=\"1\" class=\"dataframe\">\n",
       "  <thead>\n",
       "    <tr style=\"text-align: right;\">\n",
       "      <th></th>\n",
       "      <th>staff_num</th>\n",
       "      <th>break_num</th>\n",
       "      <th>bussinesstrip_num</th>\n",
       "      <th>overtime_num</th>\n",
       "      <th>home_num</th>\n",
       "      <th>lunch</th>\n",
       "      <th>dinner</th>\n",
       "    </tr>\n",
       "  </thead>\n",
       "  <tbody>\n",
       "    <tr>\n",
       "      <th>0</th>\n",
       "      <td>2601</td>\n",
       "      <td>50</td>\n",
       "      <td>150</td>\n",
       "      <td>238</td>\n",
       "      <td>0</td>\n",
       "      <td>1039</td>\n",
       "      <td>331</td>\n",
       "    </tr>\n",
       "    <tr>\n",
       "      <th>1</th>\n",
       "      <td>2601</td>\n",
       "      <td>50</td>\n",
       "      <td>173</td>\n",
       "      <td>319</td>\n",
       "      <td>0</td>\n",
       "      <td>867</td>\n",
       "      <td>560</td>\n",
       "    </tr>\n",
       "    <tr>\n",
       "      <th>2</th>\n",
       "      <td>2601</td>\n",
       "      <td>56</td>\n",
       "      <td>180</td>\n",
       "      <td>111</td>\n",
       "      <td>0</td>\n",
       "      <td>1017</td>\n",
       "      <td>573</td>\n",
       "    </tr>\n",
       "    <tr>\n",
       "      <th>3</th>\n",
       "      <td>2601</td>\n",
       "      <td>104</td>\n",
       "      <td>220</td>\n",
       "      <td>355</td>\n",
       "      <td>0</td>\n",
       "      <td>978</td>\n",
       "      <td>525</td>\n",
       "    </tr>\n",
       "    <tr>\n",
       "      <th>4</th>\n",
       "      <td>2601</td>\n",
       "      <td>278</td>\n",
       "      <td>181</td>\n",
       "      <td>34</td>\n",
       "      <td>0</td>\n",
       "      <td>925</td>\n",
       "      <td>330</td>\n",
       "    </tr>\n",
       "    <tr>\n",
       "      <th>...</th>\n",
       "      <td>...</td>\n",
       "      <td>...</td>\n",
       "      <td>...</td>\n",
       "      <td>...</td>\n",
       "      <td>...</td>\n",
       "      <td>...</td>\n",
       "      <td>...</td>\n",
       "    </tr>\n",
       "    <tr>\n",
       "      <th>1200</th>\n",
       "      <td>2983</td>\n",
       "      <td>75</td>\n",
       "      <td>198</td>\n",
       "      <td>4</td>\n",
       "      <td>391</td>\n",
       "      <td>1093</td>\n",
       "      <td>421</td>\n",
       "    </tr>\n",
       "    <tr>\n",
       "      <th>1201</th>\n",
       "      <td>2983</td>\n",
       "      <td>92</td>\n",
       "      <td>231</td>\n",
       "      <td>462</td>\n",
       "      <td>351</td>\n",
       "      <td>832</td>\n",
       "      <td>353</td>\n",
       "    </tr>\n",
       "    <tr>\n",
       "      <th>1202</th>\n",
       "      <td>2983</td>\n",
       "      <td>255</td>\n",
       "      <td>248</td>\n",
       "      <td>1</td>\n",
       "      <td>303</td>\n",
       "      <td>579</td>\n",
       "      <td>217</td>\n",
       "    </tr>\n",
       "    <tr>\n",
       "      <th>1203</th>\n",
       "      <td>2983</td>\n",
       "      <td>107</td>\n",
       "      <td>153</td>\n",
       "      <td>616</td>\n",
       "      <td>327</td>\n",
       "      <td>1145</td>\n",
       "      <td>502</td>\n",
       "    </tr>\n",
       "    <tr>\n",
       "      <th>1204</th>\n",
       "      <td>2983</td>\n",
       "      <td>69</td>\n",
       "      <td>183</td>\n",
       "      <td>551</td>\n",
       "      <td>362</td>\n",
       "      <td>1015</td>\n",
       "      <td>480</td>\n",
       "    </tr>\n",
       "  </tbody>\n",
       "</table>\n",
       "<p>1205 rows × 7 columns</p>\n",
       "</div>"
      ],
      "text/plain": [
       "      staff_num  break_num  bussinesstrip_num  overtime_num  home_num  lunch  \\\n",
       "0          2601         50                150           238         0   1039   \n",
       "1          2601         50                173           319         0    867   \n",
       "2          2601         56                180           111         0   1017   \n",
       "3          2601        104                220           355         0    978   \n",
       "4          2601        278                181            34         0    925   \n",
       "...         ...        ...                ...           ...       ...    ...   \n",
       "1200       2983         75                198             4       391   1093   \n",
       "1201       2983         92                231           462       351    832   \n",
       "1202       2983        255                248             1       303    579   \n",
       "1203       2983        107                153           616       327   1145   \n",
       "1204       2983         69                183           551       362   1015   \n",
       "\n",
       "      dinner  \n",
       "0        331  \n",
       "1        560  \n",
       "2        573  \n",
       "3        525  \n",
       "4        330  \n",
       "...      ...  \n",
       "1200     421  \n",
       "1201     353  \n",
       "1202     217  \n",
       "1203     502  \n",
       "1204     480  \n",
       "\n",
       "[1205 rows x 7 columns]"
      ]
     },
     "execution_count": 2,
     "metadata": {},
     "output_type": "execute_result"
    }
   ],
   "source": [
    "restaurant= pd.read_csv('C:/Users/82102/Desktop/restaurant.csv')\n",
    "restaurant"
   ]
  },
  {
   "cell_type": "code",
   "execution_count": 3,
   "id": "b57b90df",
   "metadata": {},
   "outputs": [
    {
     "data": {
      "text/plain": [
       "staff_num            0\n",
       "break_num            0\n",
       "bussinesstrip_num    0\n",
       "overtime_num         0\n",
       "home_num             0\n",
       "lunch                0\n",
       "dinner               0\n",
       "dtype: int64"
      ]
     },
     "execution_count": 3,
     "metadata": {},
     "output_type": "execute_result"
    }
   ],
   "source": [
    "# 결측값 확인\n",
    "restaurant.isnull().sum()"
   ]
  },
  {
   "cell_type": "code",
   "execution_count": 4,
   "id": "5bbb54f2",
   "metadata": {},
   "outputs": [],
   "source": [
    "# 전체 직원에서 휴가, 재택 인원을 빼서 실제 먹는 인원 계산\n",
    "restaurant['eat_num'] = restaurant['staff_num'] - restaurant['break_num'] - restaurant['home_num']"
   ]
  },
  {
   "cell_type": "code",
   "execution_count": 5,
   "id": "87030717",
   "metadata": {},
   "outputs": [],
   "source": [
    "# 비율로 표현\n",
    "restaurant['dinner_ratio'] = restaurant['dinner'] / restaurant['eat_num']\n",
    "restaurant['lunch_ratio'] = restaurant['lunch'] / restaurant['eat_num']"
   ]
  },
  {
   "cell_type": "code",
   "execution_count": 6,
   "id": "0509f63e",
   "metadata": {},
   "outputs": [],
   "source": [
    "features = ['eat_num', 'bussinesstrip_num', 'overtime_num']\n",
    "labels = ['lunch','dinner','lunch_ratio', 'dinner_ratio']\n",
    "\n",
    "restaurant = restaurant[features+labels]"
   ]
  },
  {
   "cell_type": "code",
   "execution_count": 7,
   "id": "9b14c5a9",
   "metadata": {},
   "outputs": [
    {
     "data": {
      "text/html": [
       "<div>\n",
       "<style scoped>\n",
       "    .dataframe tbody tr th:only-of-type {\n",
       "        vertical-align: middle;\n",
       "    }\n",
       "\n",
       "    .dataframe tbody tr th {\n",
       "        vertical-align: top;\n",
       "    }\n",
       "\n",
       "    .dataframe thead th {\n",
       "        text-align: right;\n",
       "    }\n",
       "</style>\n",
       "<table border=\"1\" class=\"dataframe\">\n",
       "  <thead>\n",
       "    <tr style=\"text-align: right;\">\n",
       "      <th></th>\n",
       "      <th>eat_num</th>\n",
       "      <th>bussinesstrip_num</th>\n",
       "      <th>overtime_num</th>\n",
       "      <th>lunch</th>\n",
       "      <th>dinner</th>\n",
       "      <th>lunch_ratio</th>\n",
       "      <th>dinner_ratio</th>\n",
       "    </tr>\n",
       "  </thead>\n",
       "  <tbody>\n",
       "    <tr>\n",
       "      <th>0</th>\n",
       "      <td>2551</td>\n",
       "      <td>150</td>\n",
       "      <td>238</td>\n",
       "      <td>1039</td>\n",
       "      <td>331</td>\n",
       "      <td>0.407291</td>\n",
       "      <td>0.129753</td>\n",
       "    </tr>\n",
       "    <tr>\n",
       "      <th>1</th>\n",
       "      <td>2551</td>\n",
       "      <td>173</td>\n",
       "      <td>319</td>\n",
       "      <td>867</td>\n",
       "      <td>560</td>\n",
       "      <td>0.339867</td>\n",
       "      <td>0.219522</td>\n",
       "    </tr>\n",
       "    <tr>\n",
       "      <th>2</th>\n",
       "      <td>2545</td>\n",
       "      <td>180</td>\n",
       "      <td>111</td>\n",
       "      <td>1017</td>\n",
       "      <td>573</td>\n",
       "      <td>0.399607</td>\n",
       "      <td>0.225147</td>\n",
       "    </tr>\n",
       "    <tr>\n",
       "      <th>3</th>\n",
       "      <td>2497</td>\n",
       "      <td>220</td>\n",
       "      <td>355</td>\n",
       "      <td>978</td>\n",
       "      <td>525</td>\n",
       "      <td>0.391670</td>\n",
       "      <td>0.210252</td>\n",
       "    </tr>\n",
       "    <tr>\n",
       "      <th>4</th>\n",
       "      <td>2323</td>\n",
       "      <td>181</td>\n",
       "      <td>34</td>\n",
       "      <td>925</td>\n",
       "      <td>330</td>\n",
       "      <td>0.398192</td>\n",
       "      <td>0.142058</td>\n",
       "    </tr>\n",
       "  </tbody>\n",
       "</table>\n",
       "</div>"
      ],
      "text/plain": [
       "   eat_num  bussinesstrip_num  overtime_num  lunch  dinner  lunch_ratio  \\\n",
       "0     2551                150           238   1039     331     0.407291   \n",
       "1     2551                173           319    867     560     0.339867   \n",
       "2     2545                180           111   1017     573     0.399607   \n",
       "3     2497                220           355    978     525     0.391670   \n",
       "4     2323                181            34    925     330     0.398192   \n",
       "\n",
       "   dinner_ratio  \n",
       "0      0.129753  \n",
       "1      0.219522  \n",
       "2      0.225147  \n",
       "3      0.210252  \n",
       "4      0.142058  "
      ]
     },
     "execution_count": 7,
     "metadata": {},
     "output_type": "execute_result"
    }
   ],
   "source": [
    "restaurant.head()"
   ]
  },
  {
   "cell_type": "code",
   "execution_count": 8,
   "id": "24ceacfd",
   "metadata": {},
   "outputs": [],
   "source": [
    "from sklearn.model_selection import train_test_split\n",
    "from sklearn.linear_model import LinearRegression"
   ]
  },
  {
   "cell_type": "code",
   "execution_count": 9,
   "id": "45a0f078",
   "metadata": {},
   "outputs": [],
   "source": [
    "# dinner 를 타킷\n",
    "y_target = restaurant['dinner']\n",
    "X_data = restaurant.drop(['dinner'],axis = 1, inplace=False)"
   ]
  },
  {
   "cell_type": "code",
   "execution_count": 10,
   "id": "4eddebb7",
   "metadata": {},
   "outputs": [],
   "source": [
    "X_train, X_test, y_train, y_test = train_test_split(X_data, y_target, test_size=0.3, random_state=156)"
   ]
  },
  {
   "cell_type": "markdown",
   "id": "584c85fb",
   "metadata": {},
   "source": [
    "# 릿지 회귀"
   ]
  },
  {
   "cell_type": "code",
   "execution_count": 11,
   "id": "d89b080a",
   "metadata": {},
   "outputs": [],
   "source": [
    "from sklearn.linear_model import Ridge\n",
    "from sklearn.model_selection import cross_val_score"
   ]
  },
  {
   "cell_type": "code",
   "execution_count": 12,
   "id": "db56946a",
   "metadata": {},
   "outputs": [],
   "source": [
    "# alpha =10으로 설정해 릿지 회귀 수행\n",
    "ridge = Ridge(alpha = 10)\n",
    "neg_mse_scores = cross_val_score(ridge, X_data, y_target, scoring = \"neg_mean_squared_error\", cv=5)\n",
    "rmse_scores = np.sqrt(-1 * neg_mse_scores)\n",
    "avg_rmse = np.mean(rmse_scores)"
   ]
  },
  {
   "cell_type": "code",
   "execution_count": 13,
   "id": "e10220ce",
   "metadata": {},
   "outputs": [
    {
     "name": "stdout",
     "output_type": "stream",
     "text": [
      "5 folds의 개별 Negative MSE scores: [-9487.84  -9563.82  -9947.983 -8962.455 -9028.397]\n",
      "5 folds의 개별 RMSE scores: [97.406 97.795 99.74  94.67  95.018]\n",
      "5 folds의 평균 RMSEL 96.926\n"
     ]
    }
   ],
   "source": [
    "print ('5 folds의 개별 Negative MSE scores:', np.round(neg_mse_scores,3))\n",
    "print ('5 folds의 개별 RMSE scores:', np.round(rmse_scores,3))\n",
    "print ('5 folds의 평균 RMSEL {0:.3f}'. format(avg_rmse))"
   ]
  },
  {
   "cell_type": "markdown",
   "id": "b263c331",
   "metadata": {},
   "source": [
    "* 릿지의 5개 폴드 세트의 평균 RMSE는 96.926"
   ]
  },
  {
   "cell_type": "markdown",
   "id": "482af3af",
   "metadata": {},
   "source": [
    "### 릿지의 alpha값을 변화시켜 가면서 RMSE와 회귀계수 살피기"
   ]
  },
  {
   "cell_type": "code",
   "execution_count": 14,
   "id": "7bcf72df",
   "metadata": {},
   "outputs": [],
   "source": [
    "# alpha 파라미터 정의\n",
    "alphas = [0.07,0.1,1,10,100]"
   ]
  },
  {
   "cell_type": "code",
   "execution_count": 15,
   "id": "9bdb4e4b",
   "metadata": {},
   "outputs": [
    {
     "name": "stdout",
     "output_type": "stream",
     "text": [
      "alpha 0.07일 때 5folds의 평균 RMSE: 10.716\n",
      "alpha 0.1일 때 5folds의 평균 RMSE: 11.720\n",
      "alpha 1일 때 5folds의 평균 RMSE: 43.719\n",
      "alpha 10일 때 5folds의 평균 RMSE: 96.926\n",
      "alpha 100일 때 5folds의 평균 RMSE: 110.897\n"
     ]
    }
   ],
   "source": [
    "for alpha in alphas:\n",
    "    ridge = Ridge(alpha= alpha)\n",
    "    \n",
    "    neg_mse_scores = cross_val_score(ridge, X_data, y_target, scoring = \"neg_mean_squared_error\", cv=5)\n",
    "    avg_rmse = np.mean(np.sqrt(-1 * neg_mse_scores))\n",
    "    print('alpha {0}일 때 5folds의 평균 RMSE: {1:.3f}'.format(alpha, avg_rmse))"
   ]
  },
  {
   "cell_type": "markdown",
   "id": "a04ed113",
   "metadata": {},
   "source": [
    "* alpha가 0.07일 때 가장 좋음"
   ]
  },
  {
   "cell_type": "markdown",
   "id": "faa6fd70",
   "metadata": {},
   "source": [
    "### alpha값의 변화에 따른 피처의 회귀계수 값 시각화"
   ]
  },
  {
   "cell_type": "code",
   "execution_count": 16,
   "id": "04af968d",
   "metadata": {},
   "outputs": [
    {
     "data": {
      "image/png": "[encoded data removed]",
      "text/plain": [
       "<Figure size 1296x432 with 5 Axes>"
      ]
     },
     "metadata": {
      "needs_background": "light"
     },
     "output_type": "display_data"
    }
   ],
   "source": [
    "fig, axs = plt.subplots(figsize = (18, 6), nrows=1, ncols =5)\n",
    "coeff_df = pd.DataFrame()\n",
    "\n",
    "for pos, alpha in enumerate(alphas):\n",
    "    ridge = Ridge(alpha = alpha)\n",
    "    ridge.fit(X_data, y_target)\n",
    "    \n",
    "    coeff = pd.Series(data=ridge.coef_, index=X_data.columns)\n",
    "    colname = 'alpha:'+str(alpha)\n",
    "    coeff_df[colname] = coeff\n",
    "    \n",
    "    coeff = coeff.sort_values(ascending=False)\n",
    "    axs[pos].set_title(colname)\n",
    "    axs[pos].set_xlim(-3,3)\n",
    "    sns.barplot(x=coeff.values, y=coeff.index, ax=axs[pos])\n",
    "    \n",
    "plt.show()"
   ]
  },
  {
   "cell_type": "code",
   "execution_count": 17,
   "id": "574fef75",
   "metadata": {},
   "outputs": [
    {
     "data": {
      "text/html": [
       "<div>\n",
       "<style scoped>\n",
       "    .dataframe tbody tr th:only-of-type {\n",
       "        vertical-align: middle;\n",
       "    }\n",
       "\n",
       "    .dataframe tbody tr th {\n",
       "        vertical-align: top;\n",
       "    }\n",
       "\n",
       "    .dataframe thead th {\n",
       "        text-align: right;\n",
       "    }\n",
       "</style>\n",
       "<table border=\"1\" class=\"dataframe\">\n",
       "  <thead>\n",
       "    <tr style=\"text-align: right;\">\n",
       "      <th></th>\n",
       "      <th>alpha:0.07</th>\n",
       "      <th>alpha:0.1</th>\n",
       "      <th>alpha:1</th>\n",
       "      <th>alpha:10</th>\n",
       "      <th>alpha:100</th>\n",
       "    </tr>\n",
       "  </thead>\n",
       "  <tbody>\n",
       "    <tr>\n",
       "      <th>dinner_ratio</th>\n",
       "      <td>2497.035728</td>\n",
       "      <td>2461.960851</td>\n",
       "      <td>1741.898695</td>\n",
       "      <td>444.552264</td>\n",
       "      <td>52.624448</td>\n",
       "    </tr>\n",
       "    <tr>\n",
       "      <th>lunch</th>\n",
       "      <td>0.131722</td>\n",
       "      <td>0.104964</td>\n",
       "      <td>0.085115</td>\n",
       "      <td>0.205395</td>\n",
       "      <td>0.244259</td>\n",
       "    </tr>\n",
       "    <tr>\n",
       "      <th>eat_num</th>\n",
       "      <td>0.110318</td>\n",
       "      <td>0.116690</td>\n",
       "      <td>0.080317</td>\n",
       "      <td>-0.034486</td>\n",
       "      <td>-0.069962</td>\n",
       "    </tr>\n",
       "    <tr>\n",
       "      <th>bussinesstrip_num</th>\n",
       "      <td>0.017206</td>\n",
       "      <td>0.025791</td>\n",
       "      <td>0.187190</td>\n",
       "      <td>0.473609</td>\n",
       "      <td>0.560021</td>\n",
       "    </tr>\n",
       "    <tr>\n",
       "      <th>overtime_num</th>\n",
       "      <td>0.015964</td>\n",
       "      <td>0.019316</td>\n",
       "      <td>0.087665</td>\n",
       "      <td>0.210673</td>\n",
       "      <td>0.247831</td>\n",
       "    </tr>\n",
       "    <tr>\n",
       "      <th>lunch_ratio</th>\n",
       "      <td>-332.690569</td>\n",
       "      <td>-254.215354</td>\n",
       "      <td>-18.492914</td>\n",
       "      <td>0.893929</td>\n",
       "      <td>0.174777</td>\n",
       "    </tr>\n",
       "  </tbody>\n",
       "</table>\n",
       "</div>"
      ],
      "text/plain": [
       "                    alpha:0.07    alpha:0.1      alpha:1    alpha:10  \\\n",
       "dinner_ratio       2497.035728  2461.960851  1741.898695  444.552264   \n",
       "lunch                 0.131722     0.104964     0.085115    0.205395   \n",
       "eat_num               0.110318     0.116690     0.080317   -0.034486   \n",
       "bussinesstrip_num     0.017206     0.025791     0.187190    0.473609   \n",
       "overtime_num          0.015964     0.019316     0.087665    0.210673   \n",
       "lunch_ratio        -332.690569  -254.215354   -18.492914    0.893929   \n",
       "\n",
       "                   alpha:100  \n",
       "dinner_ratio       52.624448  \n",
       "lunch               0.244259  \n",
       "eat_num            -0.069962  \n",
       "bussinesstrip_num   0.560021  \n",
       "overtime_num        0.247831  \n",
       "lunch_ratio         0.174777  "
      ]
     },
     "execution_count": 17,
     "metadata": {},
     "output_type": "execute_result"
    }
   ],
   "source": [
    "ridge_alphas = [0.07,0.1,1,10,100]\n",
    "sort_column = 'alpha:'+ str(ridge_alphas[0])\n",
    "coeff_df.sort_values(by=sort_column, ascending=False)"
   ]
  },
  {
   "cell_type": "markdown",
   "id": "8b78110a",
   "metadata": {},
   "source": [
    "* alpha 값이 증가하면서 회귀 계수가 지속적으로 작아져야 하는데 여기서는 그렇지 않음\n",
    "* 릿지회귀는 회귀계수를 0으로 만들지는 않음"
   ]
  },
  {
   "cell_type": "markdown",
   "id": "812fa60b",
   "metadata": {},
   "source": [
    "# 라쏘 회귀"
   ]
  },
  {
   "cell_type": "code",
   "execution_count": 18,
   "id": "8d9e30f3",
   "metadata": {},
   "outputs": [],
   "source": [
    "from sklearn.linear_model import Lasso, ElasticNet"
   ]
  },
  {
   "cell_type": "code",
   "execution_count": 19,
   "id": "4b9ae796",
   "metadata": {},
   "outputs": [],
   "source": [
    "def get_linear_reg_eval(model_name, params = None, X_data_n = None, y_target_n = None, verbose =True, return_coeff=True):\n",
    "    coeff_df = pd.DataFrame()\n",
    "    if verbose : print('###### ', model_name, '######')\n",
    "    for param in params:\n",
    "        if model_name == 'Ridge': model = Ridge(alpha=param)\n",
    "        elif model_name == 'Lasso': model = Lasso(alpha=param)\n",
    "        elif model_name == 'ElasticNet': model = ElasticNet(alpha=param, l1_ratio=0.7)\n",
    "        neg_mse_scores = cross_val_score(model, X_data_n,\n",
    "                                            y_target_n, scoring = \"neg_mean_squared_error\", cv= 5)\n",
    "        avg_rmse = np.mean(np.sqrt(-1*neg_mse_scores))\n",
    "        print('alpha {0}일 때 5 폴드 세트의 평균 RMSE: {1:.3f}'.format(param, avg_rmse))\n",
    "            \n",
    "        model.fit(X_data_n, y_target_n)\n",
    "        if return_coeff:\n",
    "            coeff = pd.Series(data=model.coef_, index=X_data_n.columns)\n",
    "            colname = 'alpha:'+str(param)\n",
    "            coeff_df[colname] = coeff\n",
    "                \n",
    "    return coeff_df"
   ]
  },
  {
   "cell_type": "code",
   "execution_count": 20,
   "id": "a3cb7082",
   "metadata": {},
   "outputs": [
    {
     "name": "stdout",
     "output_type": "stream",
     "text": [
      "######  Lasso ######\n",
      "alpha 0.07일 때 5 폴드 세트의 평균 RMSE: 10.792\n",
      "alpha 0.1일 때 5 폴드 세트의 평균 RMSE: 10.886\n",
      "alpha 0.5일 때 5 폴드 세트의 평균 RMSE: 16.463\n",
      "alpha 1일 때 5 폴드 세트의 평균 RMSE: 27.580\n",
      "alpha 3일 때 5 폴드 세트의 평균 RMSE: 77.094\n"
     ]
    }
   ],
   "source": [
    "lasso_alphas = [0.07,0.1,0.5,1,3]\n",
    "coeff_lasso_df = get_linear_reg_eval('Lasso', params = lasso_alphas, X_data_n = X_data, y_target_n = y_target)"
   ]
  },
  {
   "cell_type": "markdown",
   "id": "006512a5",
   "metadata": {},
   "source": [
    "* alpha가 0.07일 때 가장 좋은 평균 RMSE"
   ]
  },
  {
   "cell_type": "code",
   "execution_count": 21,
   "id": "6068f54f",
   "metadata": {},
   "outputs": [
    {
     "data": {
      "text/html": [
       "<div>\n",
       "<style scoped>\n",
       "    .dataframe tbody tr th:only-of-type {\n",
       "        vertical-align: middle;\n",
       "    }\n",
       "\n",
       "    .dataframe tbody tr th {\n",
       "        vertical-align: top;\n",
       "    }\n",
       "\n",
       "    .dataframe thead th {\n",
       "        text-align: right;\n",
       "    }\n",
       "</style>\n",
       "<table border=\"1\" class=\"dataframe\">\n",
       "  <thead>\n",
       "    <tr style=\"text-align: right;\">\n",
       "      <th></th>\n",
       "      <th>alpha:0.07</th>\n",
       "      <th>alpha:0.1</th>\n",
       "      <th>alpha:0.5</th>\n",
       "      <th>alpha:1</th>\n",
       "      <th>alpha:3</th>\n",
       "    </tr>\n",
       "  </thead>\n",
       "  <tbody>\n",
       "    <tr>\n",
       "      <th>lunch</th>\n",
       "      <td>-0.000295</td>\n",
       "      <td>0.001402</td>\n",
       "      <td>0.024115</td>\n",
       "      <td>0.052507</td>\n",
       "      <td>0.166075</td>\n",
       "    </tr>\n",
       "    <tr>\n",
       "      <th>lunch_ratio</th>\n",
       "      <td>-0.000000</td>\n",
       "      <td>-0.000000</td>\n",
       "      <td>-0.000000</td>\n",
       "      <td>-0.000000</td>\n",
       "      <td>0.000000</td>\n",
       "    </tr>\n",
       "    <tr>\n",
       "      <th>bussinesstrip_num</th>\n",
       "      <td>0.011927</td>\n",
       "      <td>0.015705</td>\n",
       "      <td>0.066298</td>\n",
       "      <td>0.129538</td>\n",
       "      <td>0.382501</td>\n",
       "    </tr>\n",
       "    <tr>\n",
       "      <th>overtime_num</th>\n",
       "      <td>0.012287</td>\n",
       "      <td>0.013931</td>\n",
       "      <td>0.035837</td>\n",
       "      <td>0.063219</td>\n",
       "      <td>0.172750</td>\n",
       "    </tr>\n",
       "    <tr>\n",
       "      <th>eat_num</th>\n",
       "      <td>0.154370</td>\n",
       "      <td>0.152809</td>\n",
       "      <td>0.131967</td>\n",
       "      <td>0.105914</td>\n",
       "      <td>0.001702</td>\n",
       "    </tr>\n",
       "    <tr>\n",
       "      <th>dinner_ratio</th>\n",
       "      <td>2536.970543</td>\n",
       "      <td>2519.640047</td>\n",
       "      <td>2288.460791</td>\n",
       "      <td>1999.486813</td>\n",
       "      <td>843.590476</td>\n",
       "    </tr>\n",
       "  </tbody>\n",
       "</table>\n",
       "</div>"
      ],
      "text/plain": [
       "                    alpha:0.07    alpha:0.1    alpha:0.5      alpha:1  \\\n",
       "lunch                -0.000295     0.001402     0.024115     0.052507   \n",
       "lunch_ratio          -0.000000    -0.000000    -0.000000    -0.000000   \n",
       "bussinesstrip_num     0.011927     0.015705     0.066298     0.129538   \n",
       "overtime_num          0.012287     0.013931     0.035837     0.063219   \n",
       "eat_num               0.154370     0.152809     0.131967     0.105914   \n",
       "dinner_ratio       2536.970543  2519.640047  2288.460791  1999.486813   \n",
       "\n",
       "                      alpha:3  \n",
       "lunch                0.166075  \n",
       "lunch_ratio          0.000000  \n",
       "bussinesstrip_num    0.382501  \n",
       "overtime_num         0.172750  \n",
       "eat_num              0.001702  \n",
       "dinner_ratio       843.590476  "
      ]
     },
     "execution_count": 21,
     "metadata": {},
     "output_type": "execute_result"
    }
   ],
   "source": [
    "sort_column = 'alpha:'+str(lasso_alphas[0])\n",
    "coeff_lasso_df.sort_values(by=sort_column,ascending=True)"
   ]
  },
  {
   "cell_type": "markdown",
   "id": "0e3b4bd2",
   "metadata": {},
   "source": [
    "* 회귀 계수가 0인 피처는 회귀 식에서 제외되면서 피처 선택의 효과를 얻을 수 있음 (lunch_ratio)"
   ]
  },
  {
   "cell_type": "markdown",
   "id": "5117945e",
   "metadata": {},
   "source": [
    "# 엘라스틱넷 회귀"
   ]
  },
  {
   "cell_type": "code",
   "execution_count": 22,
   "id": "c393d2fc",
   "metadata": {},
   "outputs": [
    {
     "name": "stdout",
     "output_type": "stream",
     "text": [
      "######  ElasticNet ######\n",
      "alpha 0.07일 때 5 폴드 세트의 평균 RMSE: 104.400\n",
      "alpha 0.1일 때 5 폴드 세트의 평균 RMSE: 106.786\n",
      "alpha 0.5일 때 5 폴드 세트의 평균 RMSE: 111.550\n",
      "alpha 1.3일 때 5 폴드 세트의 평균 RMSE: 112.322\n"
     ]
    }
   ],
   "source": [
    "# l1_ratio값은 0.7으로 고정\n",
    "elastic_alphas= [0.07,0.1,0.5,1.3]\n",
    "coeff_elastic_df= get_linear_reg_eval('ElasticNet', params= elastic_alphas, X_data_n=X_data, y_target_n=y_target)"
   ]
  },
  {
   "cell_type": "markdown",
   "id": "fd8daf9f",
   "metadata": {},
   "source": [
    "* alpha 가 0.07일 때 가장 좋은 성능"
   ]
  },
  {
   "cell_type": "code",
   "execution_count": 23,
   "id": "e98e0bc3",
   "metadata": {},
   "outputs": [
    {
     "data": {
      "text/html": [
       "<div>\n",
       "<style scoped>\n",
       "    .dataframe tbody tr th:only-of-type {\n",
       "        vertical-align: middle;\n",
       "    }\n",
       "\n",
       "    .dataframe tbody tr th {\n",
       "        vertical-align: top;\n",
       "    }\n",
       "\n",
       "    .dataframe thead th {\n",
       "        text-align: right;\n",
       "    }\n",
       "</style>\n",
       "<table border=\"1\" class=\"dataframe\">\n",
       "  <thead>\n",
       "    <tr style=\"text-align: right;\">\n",
       "      <th></th>\n",
       "      <th>alpha:0.07</th>\n",
       "      <th>alpha:0.1</th>\n",
       "      <th>alpha:0.5</th>\n",
       "      <th>alpha:1.3</th>\n",
       "    </tr>\n",
       "  </thead>\n",
       "  <tbody>\n",
       "    <tr>\n",
       "      <th>dinner_ratio</th>\n",
       "      <td>193.984751</td>\n",
       "      <td>138.300311</td>\n",
       "      <td>27.077029</td>\n",
       "      <td>9.059088</td>\n",
       "    </tr>\n",
       "    <tr>\n",
       "      <th>bussinesstrip_num</th>\n",
       "      <td>0.528810</td>\n",
       "      <td>0.541063</td>\n",
       "      <td>0.565178</td>\n",
       "      <td>0.568309</td>\n",
       "    </tr>\n",
       "    <tr>\n",
       "      <th>overtime_num</th>\n",
       "      <td>0.234427</td>\n",
       "      <td>0.239705</td>\n",
       "      <td>0.250236</td>\n",
       "      <td>0.251916</td>\n",
       "    </tr>\n",
       "    <tr>\n",
       "      <th>lunch</th>\n",
       "      <td>0.230404</td>\n",
       "      <td>0.235883</td>\n",
       "      <td>0.246784</td>\n",
       "      <td>0.248457</td>\n",
       "    </tr>\n",
       "    <tr>\n",
       "      <th>lunch_ratio</th>\n",
       "      <td>0.000000</td>\n",
       "      <td>0.000000</td>\n",
       "      <td>0.000000</td>\n",
       "      <td>0.000000</td>\n",
       "    </tr>\n",
       "    <tr>\n",
       "      <th>eat_num</th>\n",
       "      <td>-0.057213</td>\n",
       "      <td>-0.062238</td>\n",
       "      <td>-0.072226</td>\n",
       "      <td>-0.073740</td>\n",
       "    </tr>\n",
       "  </tbody>\n",
       "</table>\n",
       "</div>"
      ],
      "text/plain": [
       "                   alpha:0.07   alpha:0.1  alpha:0.5  alpha:1.3\n",
       "dinner_ratio       193.984751  138.300311  27.077029   9.059088\n",
       "bussinesstrip_num    0.528810    0.541063   0.565178   0.568309\n",
       "overtime_num         0.234427    0.239705   0.250236   0.251916\n",
       "lunch                0.230404    0.235883   0.246784   0.248457\n",
       "lunch_ratio          0.000000    0.000000   0.000000   0.000000\n",
       "eat_num             -0.057213   -0.062238  -0.072226  -0.073740"
      ]
     },
     "execution_count": 23,
     "metadata": {},
     "output_type": "execute_result"
    }
   ],
   "source": [
    "sort_column = 'alpha:'+str(elastic_alphas[0])\n",
    "coeff_elastic_df.sort_values(by=sort_column, ascending=False)"
   ]
  },
  {
   "cell_type": "markdown",
   "id": "d36bd8fb",
   "metadata": {},
   "source": [
    "### 어떤 것이 좋은지는 상황에 따라 다름 , 각각의 알고리즘에 하이퍼 파라미터를 변경해가면서 최적 예측 성능을 찾아야 함"
   ]
  },
  {
   "cell_type": "markdown",
   "id": "e8a1e968",
   "metadata": {},
   "source": [
    "### 여기서는 RMSE값도 작으면서, lunch_ratio 피처가 제외된 라쏘 회귀가 가장 좋다고 판단\n",
    "### (라쏘 회귀에서 alpha 0.07일 때 5 폴드 세트의 평균 RMSE가 10.792로 가장 좋다고 판단)"
   ]
  }
 ],
 "metadata": {
  "kernelspec": {
   "display_name": "Python 3",
   "language": "python",
   "name": "python3"
  },
  "language_info": {
   "codemirror_mode": {
    "name": "ipython",
    "version": 3
   },
   "file_extension": ".py",
   "mimetype": "text/x-python",
   "name": "python",
   "nbconvert_exporter": "python",
   "pygments_lexer": "ipython3",
   "version": "3.8.3"
  }
 },
 "nbformat": 4,
 "nbformat_minor": 5
}
